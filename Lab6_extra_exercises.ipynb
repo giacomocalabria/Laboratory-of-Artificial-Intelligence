{
  "nbformat": 4,
  "nbformat_minor": 0,
  "metadata": {
    "colab": {
      "provenance": []
    },
    "kernelspec": {
      "name": "python3",
      "display_name": "Python 3"
    },
    "language_info": {
      "name": "python"
    }
  },
  "cells": [
    {
      "cell_type": "markdown",
      "source": [
        "---\n",
        "\n",
        "## EXERCISE1: Burglary network\n",
        "\n",
        "Implement the *Prior Sampling* algorithm to do approximate inference on last week's Burglary network.\n",
        "\n",
        "<img src='https://drive.google.com/uc?id=11xqbchd4TCFSzdLVxNgr4SoeGfrSoqGO'>\n",
        "\n",
        "Verify that the algorithm can correctly approximate the probability $P(j, m, a, \\neg b, \\neg e) = 0.00063$\n",
        "\n",
        "Try different numbers of samples (e.g. $N = 10, 100, 1000, 10000$) and compare the results.\n",
        "\n",
        "---"
      ],
      "metadata": {
        "id": "_DvBIcx2F87I"
      }
    },
    {
      "cell_type": "markdown",
      "source": [
        "---\n",
        "\n",
        "## EXERCISE2: Pomegranate for Day 2\n",
        "\n",
        "Use <tt>pomegranate</tt> to calculate the filtered probability of rain on Day 2 when we see an umbrella on Day 1 and Day 2.\n",
        "\n",
        "What is the filtered probability of rain on Day 2 when we see <tt>not umbrella</tt> on Day 1?\n",
        "\n",
        "How about if we just have no information about Umbrellas on Day 1 (i.e., only that rain on Day 2)?"
      ],
      "metadata": {
        "id": "e_xs0D_-zPqe"
      }
    }
  ]
}