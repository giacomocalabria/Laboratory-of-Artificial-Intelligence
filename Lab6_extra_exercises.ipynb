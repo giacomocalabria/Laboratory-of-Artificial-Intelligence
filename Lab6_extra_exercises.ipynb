{
  "nbformat": 4,
  "nbformat_minor": 0,
  "metadata": {
    "colab": {
      "provenance": []
    },
    "kernelspec": {
      "name": "python3",
      "display_name": "Python 3"
    },
    "language_info": {
      "name": "python"
    }
  },
  "cells": [
    {
      "cell_type": "markdown",
      "source": [
        "---\n",
        "\n",
        "## EXERCISE1: Burglary network\n",
        "\n",
        "Implement the *Prior Sampling* algorithm to do approximate inference on last week's Burglary network.\n",
        "\n",
        "<img src='https://drive.google.com/uc?id=11xqbchd4TCFSzdLVxNgr4SoeGfrSoqGO'>\n",
        "\n",
        "Verify that the algorithm can correctly approximate the probability $P(j, m, a, \\neg b, \\neg e) = 0.00063$\n",
        "\n",
        "Try different numbers of samples (e.g. $N = 10, 100, 1000, 10000$) and compare the results.\n",
        "\n",
        "---"
      ],
      "metadata": {
        "id": "_DvBIcx2F87I"
      }
    },
    {
      "cell_type": "markdown",
      "source": [
        "---\n",
        "\n",
        "## EXERCISE2: Pomegranate for Day 2\n",
        "\n",
        "Use <tt>pomegranate</tt> to calculate the filtered probability of rain on Day 2 when we see an umbrella on Day 1 and Day 2.\n",
        "\n",
        "What is the filtered probability of rain on Day 2 when we see <tt>not umbrella</tt> on Day 1?\n",
        "\n",
        "How about if we just have no information about Umbrellas on Day 1 (i.e., only that rain on Day 2)?"
      ],
      "metadata": {
        "id": "e_xs0D_-zPqe"
      }
    },
    {
      "cell_type": "code",
      "source": [
        "!pip install numpy==1.23.0 --ignore-installed\n",
        "!pip install pomegranate==0.14.6\n",
        "from pomegranate import *\n",
        "\n",
        "# Variables are RainN and UmbrellaN+1 for N = 0, 1, ...\n",
        "# We have a prior for Rain0, two values 'y'es and 'n'o:\n",
        "Rain0 = DiscreteDistribution({'y': 0.5, 'n': 0.5})\n",
        "\n",
        "# An discrete distribution è fatta da simboli e le loro probabilità, si assume che sommate facciano 1\n",
        "\n",
        "# Transition model\n",
        "#\n",
        "# Conditional distribution relating RainN and RainN+1. Notation for\n",
        "# the conditional probability table is:\n",
        "#\n",
        "# [ 'RainN', 'RainN+1', <probability>]\n",
        "#\n",
        "# for the conditional value P(Sprinkler|Cloudy). Note that we have to\n",
        "# repeat the transition model for each pair of states\n",
        "Rain1 = ConditionalProbabilityTable(\n",
        "        [['y', 'y', 0.7],\n",
        "         ['y', 'n', 0.3],\n",
        "         ['n', 'y', 0.3],\n",
        "         ['n', 'n', 0.7]], [Rain0])\n",
        "\n",
        "Rain2 = ConditionalProbabilityTable(\n",
        "        [['y', 'y', 0.7],\n",
        "         ['y', 'n', 0.3],\n",
        "         ['n', 'y', 0.3],\n",
        "         ['n', 'n', 0.7]], [Rain1])\n",
        "\n",
        "# Una tabella di probabilità condizionale, che dipende dai valori di almeno una distribuzione precedente ma fino a quanti ne vuoi codificare.\n",
        "\n",
        "# Sensor model\n",
        "#\n",
        "# Conditional distribution relating Rain and Umbrella:\n",
        "#\n",
        "# [ 'Umbrella', 'Rain', <probability>]\n",
        "#\n",
        "# for the conditional value P(Sprinkler|Cloudy). Values for Umbrella are 'y'es and 'n'o.\n",
        "# Again we have to enter the table for each day.\n",
        "Umbrella1 = ConditionalProbabilityTable(\n",
        "        [['y', 'y', 0.9],\n",
        "         ['y', 'n', 0.1],\n",
        "         ['n', 'y', 0.2],\n",
        "         ['n', 'n', 0.8]], [Rain1])\n",
        "\n",
        "Umbrella2 = ConditionalProbabilityTable(\n",
        "        [['y', 'y', 0.9],\n",
        "         ['y', 'n', 0.1],\n",
        "         ['n', 'y', 0.2],\n",
        "         ['n', 'n', 0.8]], [Rain2])"
      ],
      "metadata": {
        "id": "6j5G5GWdOnKX"
      },
      "execution_count": null,
      "outputs": []
    },
    {
      "cell_type": "code",
      "source": [
        "# The whole network has five nodes:\n",
        "s1 = Node(Rain0, name=\"Rain0\")\n",
        "s2 = Node(Rain1, name=\"Rain1\")\n",
        "s3 = Node(Umbrella1, name=\"Umbrella1\")\n",
        "s4 = Node(Rain2, name=\"Rain2\")\n",
        "s5 = Node(Umbrella2, name=\"Umbrella2\")\n",
        "\n",
        "# Create a network that includes nodes and edges between them:\n",
        "model = BayesianNetwork(\"Umbrella Network\")\n",
        "model.add_states(s1, s2, s3, s4, s5)\n",
        "model.add_edge(s1, s2)\n",
        "model.add_edge(s2, s3)\n",
        "model.add_edge(s2, s4)\n",
        "model.add_edge(s4, s5)\n",
        "\n",
        "# Fix the model structure. Finalizzare la topologia del modello.\n",
        "model.bake()\n",
        "\n",
        "# Assegna un indice numerico a ogni stato e crea gli array sottostanti corrispondenti agli stati e ai bordi tra gli stati. Questo metodo deve essere chiamato prima di qualsiasi metodo di calcolo della probabilità.\n",
        "\n",
        "# Ciò include la conversione di tabelle di probabilità condizionali in tabelle di probabilità congiunte e la creazione di un elenco di nodi marginali e di tabella."
      ],
      "metadata": {
        "id": "Z8yTibo6OrwJ"
      },
      "execution_count": null,
      "outputs": []
    },
    {
      "cell_type": "code",
      "source": [
        "# Do not instantiate any of the variables:\n",
        "scenario = [[None, None, 'y', None, 'y']]\n",
        "# Run the model\n",
        "results =  model.predict_proba(scenario)\n",
        "\n",
        "#We initialize the model with 5 nodes model.add_states(s1, s2, s3, s4, s5)\n",
        "\n",
        "print(results[0][3].items())\n"
      ],
      "metadata": {
        "id": "tfLkRFPMO4UE"
      },
      "execution_count": null,
      "outputs": []
    },
    {
      "cell_type": "code",
      "source": [
        "# Do not instantiate any of the variables:\n",
        "scenario = [[None, None, 'n', None, None]]\n",
        "# Run the model\n",
        "results =  model.predict_proba(scenario)\n",
        "\n",
        "#We initialize the model with 5 nodes model.add_states(s1, s2, s3, s4, s5)\n",
        "\n",
        "print(results[0][3].items())\n"
      ],
      "metadata": {
        "id": "66HXwvJYPCxl"
      },
      "execution_count": null,
      "outputs": []
    }
  ]
}