{
  "cells": [
    {
      "cell_type": "markdown",
      "metadata": {
        "id": "26d4TQ5v3AfE"
      },
      "source": [
        "**Laboratory Lecture 3**"
      ]
    },
    {
      "cell_type": "markdown",
      "metadata": {
        "id": "xzY9k9T1VIm6"
      },
      "source": [
        "# Problems and Nodes\n",
        "\n",
        "We start by defining the abstract class for a `Problem`; specific problem domains will subclass this. To make it easier for algorithms that use a heuristic evaluation function, `Problem` has a default `h` function (uniformly zero), and subclasses can define their own default `h` function.\n",
        "\n",
        "We also define a `Node` in a search tree, and some functions on nodes: `expand` to generate successors; `path_actions` and `path_states`  to recover aspects of the path from the node. "
      ]
    },
    {
      "cell_type": "code",
      "execution_count": 2,
      "metadata": {
        "id": "ofYGpJxhXHwR"
      },
      "outputs": [],
      "source": [
        "%matplotlib inline\n",
        "import matplotlib.pyplot as plt\n",
        "import random\n",
        "import heapq\n",
        "import math\n",
        "import sys\n",
        "from collections import defaultdict, deque, Counter\n",
        "from itertools import combinations\n",
        "\n",
        "\n",
        "class Problem(object):\n",
        "    \"\"\"The abstract class for a formal problem. A new domain subclasses this,\n",
        "    overriding `actions` and `results`, and perhaps other methods.\n",
        "    The default heuristic is 0 and the default action cost is 1 for all states.\n",
        "    When you create an instance of a subclass, specify `initial`, and `goal` states \n",
        "    (or give an `is_goal` method) and perhaps other keyword args for the subclass.\"\"\"\n",
        "\n",
        "    def __init__(self, initial=None, goal=None, **kwds): \n",
        "        self.__dict__.update(initial=initial, goal=goal, **kwds) \n",
        "        \n",
        "    def actions(self, state):        raise NotImplementedError\n",
        "    def result(self, state, action): raise NotImplementedError\n",
        "    def is_goal(self, state):        return state == self.goal\n",
        "    def action_cost(self, s, a, s1): return 1\n",
        "    def h(self, node):               return 0\n",
        "    \n",
        "    def __str__(self):\n",
        "        return '{}({!r}, {!r})'.format(\n",
        "            type(self).__name__, self.initial, self.goal)\n",
        "    \n",
        "\n",
        "class Node:\n",
        "    \"A Node in a search tree.\"\n",
        "    def __init__(self, state, parent=None, action=None, path_cost=0):\n",
        "        self.__dict__.update(state=state, parent=parent, action=action, path_cost=path_cost)\n",
        "\n",
        "    def __repr__(self): return '<{}>'.format(self.state)\n",
        "    def __len__(self): return 0 if self.parent is None else (1 + len(self.parent))\n",
        "    def __lt__(self, other): return self.path_cost < other.path_cost\n",
        "    \n",
        "    \n",
        "failure = Node('failure', path_cost=math.inf) # Indicates an algorithm couldn't find a solution.\n",
        "cutoff  = Node('cutoff',  path_cost=math.inf) # Indicates iterative deepening search was cut off.\n",
        "    \n",
        "    \n",
        "def expand(problem, node):\n",
        "    \"Expand a node, generating the children nodes.\"\n",
        "    s = node.state\n",
        "    for action in problem.actions(s):\n",
        "        s1 = problem.result(s, action)\n",
        "        cost = node.path_cost + problem.action_cost(s, action, s1)\n",
        "        yield Node(s1, node, action, cost)\n",
        "        \n",
        "\n",
        "def path_actions(node):\n",
        "    \"The sequence of actions to get to this node.\"\n",
        "    if node.parent is None:\n",
        "        return []  \n",
        "    return path_actions(node.parent) + [node.action]\n",
        "\n",
        "\n",
        "def path_states(node):\n",
        "    \"The sequence of states to get to this node.\"\n",
        "    if node in (cutoff, failure, None): \n",
        "        return []\n",
        "    return path_states(node.parent) + [node.state]"
      ]
    },
    {
      "cell_type": "markdown",
      "metadata": {
        "id": "XGSCuawYXdS9"
      },
      "source": [
        "# Queues\n",
        "\n",
        "First-in-first-out and Last-in-first-out queues, and a `PriorityQueue`, which allows you to keep a collection of items, and continually remove from it the item with minimum `f(item)` score."
      ]
    },
    {
      "cell_type": "code",
      "execution_count": null,
      "metadata": {
        "id": "aIR4NyNqXeIO"
      },
      "outputs": [],
      "source": [
        "FIFOQueue = deque\n",
        "\n",
        "LIFOQueue = list\n",
        "\n",
        "class PriorityQueue:\n",
        "    \"\"\"A queue in which the item with minimum f(item) is always popped first.\"\"\"\n",
        "\n",
        "    def __init__(self, items=(), key=lambda x: x): \n",
        "        self.key = key\n",
        "        self.items = [] # a heap of (score, item) pairs\n",
        "        for item in items:\n",
        "            self.add(item)\n",
        "         \n",
        "    def add(self, item):\n",
        "        \"\"\"Add item to the queuez.\"\"\"\n",
        "        pair = (self.key(item), item)\n",
        "        heapq.heappush(self.items, pair)\n",
        "\n",
        "    def pop(self):\n",
        "        \"\"\"Pop and return the item with min f(item) value.\"\"\"\n",
        "        return heapq.heappop(self.items)[1]\n",
        "    \n",
        "    def top(self): return self.items[0][1]\n",
        "\n",
        "    def __len__(self): return len(self.items)"
      ]
    },
    {
      "cell_type": "markdown",
      "metadata": {
        "id": "TA0sHEpHX0Gn"
      },
      "source": [
        "# Search Algorithms: Best-First\n",
        "\n",
        "Best-first search with various *f(n)* functions gives us different search algorithms. Note that A\\*, weighted A\\* and greedy search can be given a heuristic function, `h`, but if `h` is not supplied they use the problem's default `h` function (if the problem does not define one, it is taken as *h(n)* = 0)."
      ]
    },
    {
      "cell_type": "code",
      "execution_count": null,
      "metadata": {
        "id": "owfZZlwwZKXM"
      },
      "outputs": [],
      "source": [
        "def best_first_search(problem, f):\n",
        "    \"Search nodes with minimum f(node) value first.\"\n",
        "    node = Node(problem.initial)\n",
        "    frontier = PriorityQueue([node], key=f)\n",
        "    reached = {problem.initial: node}\n",
        "    while frontier:\n",
        "        node = frontier.pop()\n",
        "        if problem.is_goal(node.state):\n",
        "            return node\n",
        "        for child in expand(problem, node):\n",
        "            s = child.state\n",
        "            if s not in reached or child.path_cost < reached[s].path_cost:\n",
        "                reached[s] = child\n",
        "                frontier.add(child)\n",
        "    return failure\n",
        "\n",
        "\n",
        "def best_first_tree_search(problem, f):\n",
        "    \"A version of best_first_search without the `reached` table.\"\n",
        "    frontier = PriorityQueue([Node(problem.initial)], key=f)\n",
        "    while frontier:\n",
        "        node = frontier.pop()\n",
        "        if problem.is_goal(node.state):\n",
        "            return node\n",
        "        for child in expand(problem, node):\n",
        "            if not is_cycle(child):\n",
        "                frontier.add(child)\n",
        "    return failure\n",
        "\n",
        "\n",
        "def g(n): return n.path_cost\n",
        "\n",
        "\n",
        "def astar_search(problem, h=None):\n",
        "    \"\"\"Search nodes with minimum f(n) = g(n) + h(n).\"\"\"\n",
        "    h = h or problem.h\n",
        "    return best_first_search(problem, f=lambda n: g(n) + h(n))\n",
        "\n",
        "\n",
        "def astar_tree_search(problem, h=None):\n",
        "    \"\"\"Search nodes with minimum f(n) = g(n) + h(n), with no `reached` table.\"\"\"\n",
        "    h = h or problem.h\n",
        "    return best_first_tree_search(problem, f=lambda n: g(n) + h(n))\n",
        "\n",
        "\n",
        "def weighted_astar_search(problem, h=None, weight=1.4):\n",
        "    \"\"\"Search nodes with minimum f(n) = g(n) + weight * h(n).\"\"\"\n",
        "    h = h or problem.h\n",
        "    return best_first_search(problem, f=lambda n: g(n) + weight * h(n))\n",
        "\n",
        "        \n",
        "def greedy_bfs(problem, h=None):\n",
        "    \"\"\"Search nodes with minimum h(n).\"\"\"\n",
        "    h = h or problem.h\n",
        "    return best_first_search(problem, f=h)\n",
        "\n",
        "\n",
        "def uniform_cost_search(problem):\n",
        "    \"Search nodes with minimum path cost first.\"\n",
        "    return best_first_search(problem, f=g)\n",
        "\n",
        "\n",
        "def breadth_first_bfs(problem):\n",
        "    \"Search shallowest nodes in the search tree first; using best-first.\"\n",
        "    return best_first_search(problem, f=len)\n",
        "\n",
        "\n",
        "def depth_first_bfs(problem):\n",
        "    \"Search deepest nodes in the search tree first; using best-first.\"\n",
        "    return best_first_search(problem, f=lambda n: -len(n))\n",
        "\n",
        "\n",
        "def is_cycle(node, k=30):\n",
        "    \"Does this node form a cycle of length k or less?\"\n",
        "    def find_cycle(ancestor, k):\n",
        "        return (ancestor is not None and k > 0 and\n",
        "                (ancestor.state == node.state or find_cycle(ancestor.parent, k - 1)))\n",
        "    return find_cycle(node.parent, k)\n",
        "\n"
      ]
    },
    {
      "cell_type": "markdown",
      "metadata": {
        "id": "kuiSBypnZ_Fk"
      },
      "source": [
        "# Other Search Algorithms\n",
        "\n",
        "Here are the other search algorithms:"
      ]
    },
    {
      "cell_type": "code",
      "execution_count": null,
      "metadata": {
        "id": "gJoGduuCZ8qf"
      },
      "outputs": [],
      "source": [
        "def breadth_first_search(problem):\n",
        "    \"Search shallowest nodes in the search tree first.\"\n",
        "    node = Node(problem.initial)\n",
        "    if problem.is_goal(problem.initial):\n",
        "        return node\n",
        "    frontier = FIFOQueue([node])\n",
        "    reached = {problem.initial}\n",
        "    while frontier:\n",
        "        node = frontier.pop()\n",
        "        for child in expand(problem, node):\n",
        "            s = child.state\n",
        "            if problem.is_goal(s):\n",
        "                return child\n",
        "            if s not in reached:\n",
        "                reached.add(s)\n",
        "                frontier.appendleft(child)\n",
        "    return failure\n",
        "\n",
        "\n",
        "def iterative_deepening_search(problem):\n",
        "    \"Do depth-limited search with increasing depth limits.\"\n",
        "    for limit in range(1, sys.maxsize):\n",
        "        result = depth_limited_search(problem, limit)\n",
        "        if result != cutoff:\n",
        "            return result\n",
        "        \n",
        "        \n",
        "def depth_limited_search(problem, limit=10):\n",
        "    \"Search deepest nodes in the search tree first.\"\n",
        "    frontier = LIFOQueue([Node(problem.initial)])\n",
        "    result = failure\n",
        "    while frontier:\n",
        "        node = frontier.pop()\n",
        "        if problem.is_goal(node.state):\n",
        "            return node\n",
        "        elif len(node) >= limit:\n",
        "            result = cutoff\n",
        "        elif not is_cycle(node):\n",
        "            for child in expand(problem, node):\n",
        "                frontier.append(child)\n",
        "    return result\n",
        "\n",
        "\n",
        "def depth_first_recursive_search(problem, node=None):\n",
        "    if node is None: \n",
        "        node = Node(problem.initial)\n",
        "    if problem.is_goal(node.state):\n",
        "        return node\n",
        "    elif is_cycle(node):\n",
        "        return failure\n",
        "    else:\n",
        "        for child in expand(problem, node):\n",
        "            result = depth_first_recursive_search(problem, child)\n",
        "            if result:\n",
        "                return result\n",
        "        return failure"
      ]
    },
    {
      "cell_type": "markdown",
      "metadata": {
        "id": "r0LmYMJ3b7-6"
      },
      "source": [
        "# Problem Domains\n",
        "\n",
        "Now we turn our attention to defining some problem domains as subclasses of `Problem`."
      ]
    },
    {
      "cell_type": "markdown",
      "metadata": {
        "id": "_lHNbk4ecD45"
      },
      "source": [
        "# Route Finding Problems\n",
        "\n",
        "<img src='https://drive.google.com/uc?id=1cSyp7BPPtjRqbS8vF77XQmxbro4fPogG'>\n",
        "\n",
        "In a `RouteProblem`, the states are names of \"cities\" (or other locations), like `'A'` for Arad. The actions are also city names; `'Z'` is the action to move to city `'Z'`. The layout of cities is given by a separate data structure, a `Map`, which is a graph where there are vertexes (cities), links between vertexes, distances (costs) of those links (if not specified, the default is 1 for every link), and optionally the 2D (x, y) location of each city can be specified. A `RouteProblem` takes this `Map` as input and allows actions to move between linked cities. The default heuristic is straight-line distance to the goal, or is uniformly zero if locations were not given."
      ]
    },
    {
      "cell_type": "code",
      "execution_count": null,
      "metadata": {
        "id": "ZQBqeF_Wd8IM"
      },
      "outputs": [],
      "source": [
        "class RouteProblem(Problem):\n",
        "    \"\"\"A problem to find a route between locations on a `Map`.\n",
        "    Create a problem with RouteProblem(start, goal, map=Map(...)}).\n",
        "    States are the vertexes in the Map graph; actions are destination states.\"\"\"\n",
        "    \n",
        "    def actions(self, state): \n",
        "        \"\"\"The places neighboring `state`.\"\"\"\n",
        "        return self.map.neighbors[state]\n",
        "    \n",
        "    def result(self, state, action):\n",
        "        \"\"\"Go to the `action` place, if the map says that is possible.\"\"\"\n",
        "        return action if action in self.map.neighbors[state] else state\n",
        "    \n",
        "    def action_cost(self, s, action, s1):\n",
        "        \"\"\"The distance (cost) to go from s to s1.\"\"\"\n",
        "        return self.map.distances[s, s1]\n",
        "    \n",
        "    def h(self, node):\n",
        "        \"Straight-line distance between state and the goal.\"\n",
        "        locs = self.map.locations\n",
        "        return straight_line_distance(locs[node.state], locs[self.goal])\n",
        "    \n",
        "    \n",
        "def straight_line_distance(A, B):\n",
        "    \"Straight-line distance between two points.\"\n",
        "    return sum(abs(a - b)**2 for (a, b) in zip(A, B)) ** 0.5"
      ]
    },
    {
      "cell_type": "code",
      "execution_count": null,
      "metadata": {
        "id": "_oPKX5e8eCtS"
      },
      "outputs": [],
      "source": [
        "class Map:\n",
        "    \"\"\"A map of places in a 2D world: a graph with vertexes and links between them. \n",
        "    In `Map(links, locations)`, `links` can be either [(v1, v2)...] pairs, \n",
        "    or a {(v1, v2): distance...} dict. Optional `locations` can be {v1: (x, y)} \n",
        "    If `directed=False` then for every (v1, v2) link, we add a (v2, v1) link.\"\"\"\n",
        "\n",
        "    def __init__(self, links, locations=None, directed=False):\n",
        "        if not hasattr(links, 'items'): # Distances are 1 by default\n",
        "            links = {link: 1 for link in links}\n",
        "        if not directed:\n",
        "            for (v1, v2) in list(links):\n",
        "                links[v2, v1] = links[v1, v2]\n",
        "        self.distances = links\n",
        "        self.neighbors = multimap(links)\n",
        "        self.locations = locations or defaultdict(lambda: (0, 0))\n",
        "\n",
        "        \n",
        "def multimap(pairs) -> dict:\n",
        "    \"Given (key, val) pairs, make a dict of {key: [val,...]}.\"\n",
        "    result = defaultdict(list)\n",
        "    for key, val in pairs:\n",
        "        result[key].append(val)\n",
        "    return result"
      ]
    },
    {
      "cell_type": "code",
      "execution_count": null,
      "metadata": {
        "id": "jEARZl0oeLWD"
      },
      "outputs": [],
      "source": [
        "# Some specific RouteProblems\n",
        "\n",
        "romania = Map(\n",
        "    {('O', 'Z'):  71, ('O', 'S'): 151, ('A', 'Z'): 75, ('A', 'S'): 140, ('A', 'T'): 118, \n",
        "     ('L', 'T'): 111, ('L', 'M'):  70, ('D', 'M'): 75, ('C', 'D'): 120, ('C', 'R'): 146, \n",
        "     ('C', 'P'): 138, ('R', 'S'):  80, ('F', 'S'): 99, ('B', 'F'): 211, ('B', 'P'): 101, \n",
        "     ('B', 'G'):  90, ('B', 'U'):  85, ('H', 'U'): 98, ('E', 'H'):  86, ('U', 'V'): 142, \n",
        "     ('I', 'V'):  92, ('I', 'N'):  87, ('P', 'R'): 97},\n",
        "    {'A': ( 76, 497), 'B': (400, 327), 'C': (246, 285), 'D': (160, 296), 'E': (558, 294), \n",
        "     'F': (285, 460), 'G': (368, 257), 'H': (548, 355), 'I': (488, 535), 'L': (162, 379),\n",
        "     'M': (160, 343), 'N': (407, 561), 'O': (117, 580), 'P': (311, 372), 'R': (227, 412),\n",
        "     'S': (187, 463), 'T': ( 83, 414), 'U': (471, 363), 'V': (535, 473), 'Z': (92, 539)})\n",
        "\n",
        "\n",
        "r0 = RouteProblem('A', 'A', map=romania)\n",
        "r1 = RouteProblem('A', 'B', map=romania)\n",
        "r2 = RouteProblem('N', 'L', map=romania)\n",
        "r3 = RouteProblem('E', 'T', map=romania)\n",
        "r4 = RouteProblem('O', 'M', map=romania)"
      ]
    },
    {
      "cell_type": "code",
      "execution_count": null,
      "metadata": {
        "colab": {
          "base_uri": "https://localhost:8080/"
        },
        "id": "afvELsoJelxn",
        "outputId": "d41a0cae-93cf-4407-9932-284dd26a057d"
      },
      "outputs": [
        {
          "data": {
            "text/plain": [
              "['A', 'S', 'R', 'P', 'B']"
            ]
          },
          "execution_count": 8,
          "metadata": {},
          "output_type": "execute_result"
        }
      ],
      "source": [
        "path_states(uniform_cost_search(r1)) # Lowest-cost path from Arab to Bucharest"
      ]
    },
    {
      "cell_type": "code",
      "execution_count": null,
      "metadata": {
        "colab": {
          "base_uri": "https://localhost:8080/"
        },
        "id": "84nsZj0Eetzm",
        "outputId": "f33ab956-74b2-42ae-d933-6b17743b19f6"
      },
      "outputs": [
        {
          "data": {
            "text/plain": [
              "['A', 'S', 'F', 'B']"
            ]
          },
          "execution_count": 9,
          "metadata": {},
          "output_type": "execute_result"
        }
      ],
      "source": [
        "path_states(breadth_first_search(r1)) # Breadth-first: fewer steps, higher path cost"
      ]
    },
    {
      "cell_type": "markdown",
      "metadata": {
        "id": "gAD7QDudaaYU"
      },
      "source": [
        "# Pancake Sorting Problems\n",
        "\n",
        "Given a stack of pancakes of various sizes, can you sort them into a stack of decreasing sizes, largest on bottom to smallest on top? You have a spatula with which you can flip the top `i` pancakes. This is shown below for `i = 3`; on the top the spatula grabs the first three pancakes; on the bottom we see them flipped:\n",
        "\n",
        "\n",
        "![](https://upload.wikimedia.org/wikipedia/commons/0/0f/Pancake_sort_operation.png)\n",
        "\n",
        "How many flips will it take to get the whole stack sorted? This is an interesting [problem](https://en.wikipedia.org/wiki/Pancake_sorting) that Bill Gates has [written about](https://people.eecs.berkeley.edu/~christos/papers/Bounds%20For%20Sorting%20By%20Prefix%20Reversal.pdf). A reasonable heuristic for this problem is the *gap heuristic*: if we look at neighboring pancakes, if, say, the 2nd smallest is next to the 3rd smallest, that's good; they should stay next to each other. But if the 2nd smallest is next to the 4th smallest, that's bad: we will require at least one move to separate them and insert the 3rd smallest between them. The gap heuristic counts the number of neighbors that have a gap like this. In our specification of the problem, pancakes are ranked by size: the smallest is `1`, the 2nd smallest `2`, and so on, and the representation of a state is a tuple of these rankings, from the top to the bottom pancake. Thus the goal state is always `(1, 2, ..., `*n*`)` and the initial (top) state in the diagram above is `(2, 1, 4, 6, 3, 5)`.\n"
      ]
    },
    {
      "cell_type": "code",
      "execution_count": null,
      "metadata": {
        "id": "Kd13mo9Paj1M"
      },
      "outputs": [],
      "source": [
        "class PancakeProblem(Problem):\n",
        "    \"\"\"A PancakeProblem the goal is always `tuple(range(1, n+1))`, where the\n",
        "    initial state is a permutation of `range(1, n+1)`. An act is the index `i` \n",
        "    of the top `i` pancakes that will be flipped.\"\"\"\n",
        "    \n",
        "    def __init__(self, initial): \n",
        "        self.initial, self.goal = tuple(initial), tuple(sorted(initial))\n",
        "    \n",
        "    def actions(self, state): return range(2, len(state) + 1)\n",
        "\n",
        "    def result(self, state, i): return state[:i][::-1] + state[i:]\n",
        "    \n",
        "    def h(self, node):\n",
        "        \"The gap heuristic.\"\n",
        "        s = node.state\n",
        "        return sum(abs(s[i] - s[i - 1]) > 1 for i in range(1, len(s)))"
      ]
    },
    {
      "cell_type": "code",
      "execution_count": null,
      "metadata": {
        "id": "euE6eaDofLOb"
      },
      "outputs": [],
      "source": [
        "c0 = PancakeProblem((2, 1, 4, 6, 3, 5))\n",
        "c1 = PancakeProblem((4, 6, 2, 5, 1, 3))\n",
        "c2 = PancakeProblem((1, 3, 7, 5, 2, 6, 4))\n",
        "c3 = PancakeProblem((1, 7, 2, 6, 3, 5, 4))\n",
        "c4 = PancakeProblem((1, 3, 5, 7, 9, 2, 4, 6, 8))"
      ]
    },
    {
      "cell_type": "code",
      "execution_count": null,
      "metadata": {
        "colab": {
          "base_uri": "https://localhost:8080/"
        },
        "id": "f4KPAQUFfQvK",
        "outputId": "a3d7380f-807a-4026-8812-a0076a27ec73"
      },
      "outputs": [
        {
          "data": {
            "text/plain": [
              "[(2, 1, 4, 6, 3, 5),\n",
              " (6, 4, 1, 2, 3, 5),\n",
              " (5, 3, 2, 1, 4, 6),\n",
              " (4, 1, 2, 3, 5, 6),\n",
              " (3, 2, 1, 4, 5, 6),\n",
              " (1, 2, 3, 4, 5, 6)]"
            ]
          },
          "execution_count": 12,
          "metadata": {},
          "output_type": "execute_result"
        }
      ],
      "source": [
        "# Solve a pancake problem\n",
        "path_states(astar_search(c0))"
      ]
    },
    {
      "cell_type": "markdown",
      "metadata": {
        "id": "pEN2CYVhDw52"
      },
      "source": [
        "# Reporting Summary Statistics on Search Algorithms\n",
        "\n",
        "Now let's gather some metrics on how well each algorithm does.  We'll use `CountCalls` to wrap a `Problem` object in such a way that calls to its methods are delegated to the original problem, but each call increments a counter. Once we've solved the problem, we print out summary statistics."
      ]
    },
    {
      "cell_type": "code",
      "execution_count": null,
      "metadata": {
        "id": "uxx3IIB4D9Yo"
      },
      "outputs": [],
      "source": [
        "class CountCalls:\n",
        "    \"\"\"Delegate all attribute gets to the object, and count them in ._counts\"\"\"\n",
        "    def __init__(self, obj):\n",
        "        self._object = obj\n",
        "        self._counts = Counter()\n",
        "        \n",
        "    def __getattr__(self, attr):\n",
        "        \"Delegate to the original object, after incrementing a counter.\"\n",
        "        self._counts[attr] += 1\n",
        "        return getattr(self._object, attr)\n",
        "\n",
        "        \n",
        "def report(searchers, problems, verbose=True):\n",
        "    \"\"\"Show summary statistics for each searcher (and on each problem unless verbose is false).\"\"\"\n",
        "    for searcher in searchers:\n",
        "        print(searcher.__name__ + ':')\n",
        "        total_counts = Counter()\n",
        "        for p in problems:\n",
        "            prob   = CountCalls(p)\n",
        "            soln   = searcher(prob)\n",
        "            counts = prob._counts; \n",
        "            counts.update(actions=len(soln), cost=soln.path_cost)\n",
        "            total_counts += counts\n",
        "            if verbose: report_counts(counts, str(p)[:40])\n",
        "        report_counts(total_counts, 'TOTAL\\n')\n",
        "        \n",
        "def report_counts(counts, name):\n",
        "    \"\"\"Print one line of the counts report.\"\"\"\n",
        "    print('{:9,d} nodes |{:9,d} goal |{:5.0f} cost |{:8,d} actions | {}'.format(\n",
        "          counts['result'], counts['is_goal'], counts['cost'], counts['actions'], name))"
      ]
    }
  ],
  "metadata": {
    "colab": {
      "provenance": []
    },
    "kernelspec": {
      "display_name": "Python 3",
      "name": "python3"
    },
    "language_info": {
      "codemirror_mode": {
        "name": "ipython",
        "version": 3
      },
      "file_extension": ".py",
      "mimetype": "text/x-python",
      "name": "python",
      "nbconvert_exporter": "python",
      "pygments_lexer": "ipython3",
      "version": "3.11.0"
    }
  },
  "nbformat": 4,
  "nbformat_minor": 0
}
