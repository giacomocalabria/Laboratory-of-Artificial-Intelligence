{
  "nbformat": 4,
  "nbformat_minor": 0,
  "metadata": {
    "colab": {
      "provenance": []
    },
    "kernelspec": {
      "name": "python3",
      "display_name": "Python 3"
    },
    "language_info": {
      "name": "python"
    }
  },
  "cells": [
    {
      "cell_type": "markdown",
      "source": [
        "## EXERCISE 1: Design, Train and Test a CNN\n",
        "\n",
        "Create a CNN using Keras library with the followings specifications:\n",
        "\n",
        "> __QUESTION 1(a):__  DATASET: Load the [CIFAR10](https://keras.io/api/datasets/cifar10/) dataset contains 60,000 color images in 10 classes, with 6,000 images in each class.\n",
        "You can use the function datasets.cifar10.load_data() to load the dataset after importing the keras dataset with the command: from tensorflow.keras import datasets. Split the dataset in train and test set\n",
        "\n",
        "> __QUESTION 1(b):__  Plot some samples in the dataset to visualize the kind of data\n",
        "\n",
        "> __QUESTION 1(b):__  Build and compile a CNN model composed with: \n",
        "* Conv2D with 32 filters, kernel size 3X3, activation function relu\n",
        "* MaxPooling 2D with kernel size 2x2\n",
        "* Conv2D with 64 filters kernel size 3X3, activation function relu\n",
        "* MaxPooling 2D with kernel size 2x2\n",
        "* Conv2D with 64 filters kernel size 3X3, activation function relu\n",
        "* Flatten layer\n",
        "* Dense layer with 64 neurons and activation function relu\n",
        "* Final Dense layer for returning 10 classes\n",
        "* adam as optmizer\n",
        "\n",
        "\n",
        "> __QUESTION 1(c):__ Train and test on the CIFAR10 dataset with 10 epochs to check the performance\n",
        "\n",
        "> __QUESTION 1(d):__ Compute the confusion matrix\n",
        "\n",
        "> __QUESTION 1(e):__ : Test your model on new images about the available class that you can download from the web. "
      ],
      "metadata": {
        "id": "twbLWgpO7YQH"
      }
    }
  ]
}