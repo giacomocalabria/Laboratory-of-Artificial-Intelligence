{
  "cells": [
    {
      "cell_type": "markdown",
      "metadata": {
        "id": "BvnAq2qpNhGg"
      },
      "source": [
        "**NB: Unfortunately, there was an update on Python version in the while. To guarantee the compatibility between Colab and the CausalGraphicModels, some modifications were made in the import part**"
      ]
    },
    {
      "cell_type": "markdown",
      "metadata": {
        "id": "xB6mkkguNdpR"
      },
      "source": [
        "**Laboratory Lecture 8**\n",
        "\n",
        "## Causal Inference in Python\n",
        "\n",
        "An interesting and easy-to-use library to implement SCMs, including causal networks, is [CausalGraphicalModels](https://github.com/ijmbarr/causalgraphicalmodels). It can be installed in your Python environment as follows.\n",
        "\n",
        "Let's start by introducing the [CausalGraphicalModels](https://github.com/ijmbarr/causalgraphicalmodels) by applying it to a variant of the Sprinkler example."
      ]
    },
    {
      "cell_type": "code",
      "execution_count": 5,
      "metadata": {
        "colab": {
          "base_uri": "https://localhost:8080/"
        },
        "id": "ooH6mzF5NP2X",
        "outputId": "f3a8c6e4-b438-41c8-c279-7540c4e19ecf"
      },
      "outputs": [
        {
          "name": "stdout",
          "output_type": "stream",
          "text": [
            "sed: can't read /usr/local/lib/python3.10/dist-packages/causalgraphicalmodels/cgm.py: No such file or directory\n"
          ]
        },
        {
          "ename": "ImportError",
          "evalue": "cannot import name 'Iterable' from 'collections' (/usr/lib/python3.10/collections/__init__.py)",
          "output_type": "error",
          "traceback": [
            "\u001b[0;31m---------------------------------------------------------------------------\u001b[0m",
            "\u001b[0;31mImportError\u001b[0m                               Traceback (most recent call last)",
            "Cell \u001b[0;32mIn[5], line 5\u001b[0m\n\u001b[1;32m      1\u001b[0m \u001b[39m# NB Update 29/04/2023 to guarantee the compatibility\u001b[39;00m\n\u001b[1;32m      2\u001b[0m \n\u001b[1;32m      3\u001b[0m \u001b[39m#!pip install causalgraphicalmodels\u001b[39;00m\n\u001b[1;32m      4\u001b[0m get_ipython()\u001b[39m.\u001b[39msystem(\u001b[39m\"\u001b[39m\u001b[39msed -i \u001b[39m\u001b[39m'\u001b[39m\u001b[39ms/collections/collections.abc/g\u001b[39m\u001b[39m'\u001b[39m\u001b[39m /usr/local/lib/python3.10/dist-packages/causalgraphicalmodels/cgm.py\u001b[39m\u001b[39m\"\u001b[39m)\n\u001b[0;32m----> 5\u001b[0m \u001b[39mfrom\u001b[39;00m \u001b[39mcausalgraphicalmodels\u001b[39;00m \u001b[39mimport\u001b[39;00m CausalGraphicalModel\n",
            "File \u001b[0;32m~/.local/lib/python3.10/site-packages/causalgraphicalmodels/__init__.py:1\u001b[0m\n\u001b[0;32m----> 1\u001b[0m \u001b[39mfrom\u001b[39;00m \u001b[39mcausalgraphicalmodels\u001b[39;00m\u001b[39m.\u001b[39;00m\u001b[39mcgm\u001b[39;00m \u001b[39mimport\u001b[39;00m CausalGraphicalModel\n\u001b[1;32m      2\u001b[0m \u001b[39mfrom\u001b[39;00m \u001b[39mcausalgraphicalmodels\u001b[39;00m\u001b[39m.\u001b[39;00m\u001b[39mcsm\u001b[39;00m \u001b[39mimport\u001b[39;00m StructuralCausalModel\n\u001b[1;32m      3\u001b[0m \u001b[39mimport\u001b[39;00m \u001b[39mcausalgraphicalmodels\u001b[39;00m\u001b[39m.\u001b[39;00m\u001b[39mexamples\u001b[39;00m \u001b[39mas\u001b[39;00m \u001b[39mexamples\u001b[39;00m\n",
            "File \u001b[0;32m~/.local/lib/python3.10/site-packages/causalgraphicalmodels/cgm.py:4\u001b[0m\n\u001b[1;32m      2\u001b[0m \u001b[39mimport\u001b[39;00m \u001b[39mgraphviz\u001b[39;00m\n\u001b[1;32m      3\u001b[0m \u001b[39mfrom\u001b[39;00m \u001b[39mitertools\u001b[39;00m \u001b[39mimport\u001b[39;00m combinations, chain\n\u001b[0;32m----> 4\u001b[0m \u001b[39mfrom\u001b[39;00m \u001b[39mcollections\u001b[39;00m \u001b[39mimport\u001b[39;00m Iterable\n\u001b[1;32m      7\u001b[0m \u001b[39mclass\u001b[39;00m \u001b[39mCausalGraphicalModel\u001b[39;00m:\n\u001b[1;32m      8\u001b[0m \u001b[39m    \u001b[39m\u001b[39m\"\"\"\u001b[39;00m\n\u001b[1;32m      9\u001b[0m \u001b[39m    Causal Graphical Models\u001b[39;00m\n\u001b[1;32m     10\u001b[0m \u001b[39m    \"\"\"\u001b[39;00m\n",
            "\u001b[0;31mImportError\u001b[0m: cannot import name 'Iterable' from 'collections' (/usr/lib/python3.10/collections/__init__.py)"
          ]
        }
      ],
      "source": [
        "# NB Update 29/04/2023 to guarantee the compatibility\n",
        "\n",
        "#!pip install causalgraphicalmodels\n",
        "!sed -i 's/collections/collections.abc/g' /usr/local/lib/python3.10/dist-packages/causalgraphicalmodels/cgm.py\n",
        "from causalgraphicalmodels import CausalGraphicalModel"
      ]
    },
    {
      "cell_type": "markdown",
      "metadata": {
        "id": "bJSxV-7oN7PR"
      },
      "source": [
        "## SPRINKLER EXAMPLE"
      ]
    },
    {
      "cell_type": "code",
      "execution_count": 1,
      "metadata": {
        "colab": {
          "base_uri": "https://localhost:8080/",
          "height": 368
        },
        "id": "ijnXKGnQN74L",
        "outputId": "1410cecd-65fc-4d28-eeae-c030182aacb1"
      },
      "outputs": [
        {
          "ename": "NameError",
          "evalue": "name 'CausalGraphicalModel' is not defined",
          "output_type": "error",
          "traceback": [
            "\u001b[1;31m---------------------------------------------------------------------------\u001b[0m",
            "\u001b[1;31mNameError\u001b[0m                                 Traceback (most recent call last)",
            "Cell \u001b[1;32mIn[1], line 1\u001b[0m\n\u001b[1;32m----> 1\u001b[0m sprinkler \u001b[39m=\u001b[39m CausalGraphicalModel(\n\u001b[0;32m      2\u001b[0m     nodes\u001b[39m=\u001b[39m[\u001b[39m\"\u001b[39m\u001b[39mcloudy\u001b[39m\u001b[39m\"\u001b[39m, \u001b[39m\"\u001b[39m\u001b[39mrain\u001b[39m\u001b[39m\"\u001b[39m, \u001b[39m\"\u001b[39m\u001b[39msprinkler\u001b[39m\u001b[39m\"\u001b[39m, \u001b[39m\"\u001b[39m\u001b[39mwet\u001b[39m\u001b[39m\"\u001b[39m, \u001b[39m\"\u001b[39m\u001b[39mslippery\u001b[39m\u001b[39m\"\u001b[39m],\n\u001b[0;32m      3\u001b[0m     edges\u001b[39m=\u001b[39m[\n\u001b[0;32m      4\u001b[0m         (\u001b[39m\"\u001b[39m\u001b[39mcloudy\u001b[39m\u001b[39m\"\u001b[39m, \u001b[39m\"\u001b[39m\u001b[39mrain\u001b[39m\u001b[39m\"\u001b[39m),\n\u001b[0;32m      5\u001b[0m         (\u001b[39m\"\u001b[39m\u001b[39mcloudy\u001b[39m\u001b[39m\"\u001b[39m, \u001b[39m\"\u001b[39m\u001b[39msprinkler\u001b[39m\u001b[39m\"\u001b[39m),\n\u001b[0;32m      6\u001b[0m         (\u001b[39m\"\u001b[39m\u001b[39mrain\u001b[39m\u001b[39m\"\u001b[39m, \u001b[39m\"\u001b[39m\u001b[39mwet\u001b[39m\u001b[39m\"\u001b[39m),\n\u001b[0;32m      7\u001b[0m         (\u001b[39m\"\u001b[39m\u001b[39msprinkler\u001b[39m\u001b[39m\"\u001b[39m, \u001b[39m\"\u001b[39m\u001b[39mwet\u001b[39m\u001b[39m\"\u001b[39m),\n\u001b[0;32m      8\u001b[0m         (\u001b[39m\"\u001b[39m\u001b[39mwet\u001b[39m\u001b[39m\"\u001b[39m, \u001b[39m\"\u001b[39m\u001b[39mslippery\u001b[39m\u001b[39m\"\u001b[39m)\n\u001b[0;32m      9\u001b[0m     ]\n\u001b[0;32m     10\u001b[0m )\n\u001b[0;32m     12\u001b[0m \u001b[39m# draw return a graphviz `dot` object, which jupyter can render\u001b[39;00m\n\u001b[0;32m     13\u001b[0m sprinkler\u001b[39m.\u001b[39mdraw()\n",
            "\u001b[1;31mNameError\u001b[0m: name 'CausalGraphicalModel' is not defined"
          ]
        }
      ],
      "source": [
        "sprinkler = CausalGraphicalModel(\n",
        "    nodes=[\"cloudy\", \"rain\", \"sprinkler\", \"wet\", \"slippery\"],\n",
        "    edges=[\n",
        "        (\"cloudy\", \"rain\"),\n",
        "        (\"cloudy\", \"sprinkler\"),\n",
        "        (\"rain\", \"wet\"),\n",
        "        (\"sprinkler\", \"wet\"),\n",
        "        (\"wet\", \"slippery\")\n",
        "    ]\n",
        ")\n",
        "\n",
        "# draw return a graphviz `dot` object, which jupyter can render\n",
        "sprinkler.draw()"
      ]
    },
    {
      "cell_type": "code",
      "execution_count": null,
      "metadata": {
        "colab": {
          "base_uri": "https://localhost:8080/"
        },
        "id": "PBTwMJwpOE58",
        "outputId": "5f60cffd-9417-4726-aecd-d1cdd4bd1a6b"
      },
      "outputs": [
        {
          "name": "stdout",
          "output_type": "stream",
          "text": [
            "P(cloudy)P(rain|cloudy)P(sprinkler|cloudy)P(wet|rain,sprinkler)P(slippery|wet)\n"
          ]
        }
      ],
      "source": [
        "# get the distribution implied by the graph\n",
        "print(sprinkler.get_distribution())"
      ]
    },
    {
      "cell_type": "markdown",
      "metadata": {
        "id": "Ls43j03COJYD"
      },
      "source": [
        "This description of the causal graphical model has been the same as those of general Bayesian Networks.\n",
        "\n",
        "To endow these structures with a notion of causality, we some assumptions about what happens when an **intervention** occurs.\n",
        "\n",
        "For instance, imagine that we had the power the control the weather. If use it to make an intervention on the \"rain\" node of our sprinkler model, we get the following system."
      ]
    },
    {
      "cell_type": "code",
      "execution_count": null,
      "metadata": {
        "colab": {
          "base_uri": "https://localhost:8080/",
          "height": 379
        },
        "id": "tHKyrHJ7OO5b",
        "outputId": "155f2481-c4c4-49ef-9c31-7867509bcd10"
      },
      "outputs": [
        {
          "data": {
            "image/svg+xml": [
              "<?xml version=\"1.0\" encoding=\"UTF-8\" standalone=\"no\"?>\n",
              "<!DOCTYPE svg PUBLIC \"-//W3C//DTD SVG 1.1//EN\"\n",
              " \"http://www.w3.org/Graphics/SVG/1.1/DTD/svg11.dtd\">\n",
              "<!-- Generated by graphviz version 2.43.0 (0)\n",
              " -->\n",
              "<!-- Title: %3 Pages: 1 -->\n",
              "<svg width=\"172pt\" height=\"268pt\"\n",
              " viewBox=\"0.00 0.00 172.25 268.00\" xmlns=\"http://www.w3.org/2000/svg\" xmlns:xlink=\"http://www.w3.org/1999/xlink\">\n",
              "<g id=\"graph0\" class=\"graph\" transform=\"scale(1 1) rotate(0) translate(4 264)\">\n",
              "<title>%3</title>\n",
              "<polygon fill=\"white\" stroke=\"transparent\" points=\"-4,4 -4,-264 168.25,-264 168.25,4 -4,4\"/>\n",
              "<!-- slippery -->\n",
              "<g id=\"node1\" class=\"node\">\n",
              "<title>slippery</title>\n",
              "<ellipse fill=\"none\" stroke=\"black\" cx=\"76\" cy=\"-18\" rx=\"38.99\" ry=\"18\"/>\n",
              "<text text-anchor=\"middle\" x=\"76\" y=\"-14.3\" font-family=\"Times,serif\" font-size=\"14.00\">slippery</text>\n",
              "</g>\n",
              "<!-- rain -->\n",
              "<g id=\"node2\" class=\"node\">\n",
              "<title>rain</title>\n",
              "<ellipse fill=\"none\" stroke=\"black\" cx=\"31\" cy=\"-166\" rx=\"27\" ry=\"18\"/>\n",
              "<ellipse fill=\"none\" stroke=\"black\" cx=\"31\" cy=\"-166\" rx=\"31\" ry=\"22\"/>\n",
              "<text text-anchor=\"middle\" x=\"31\" y=\"-162.3\" font-family=\"Times,serif\" font-size=\"14.00\">rain</text>\n",
              "</g>\n",
              "<!-- wet -->\n",
              "<g id=\"node3\" class=\"node\">\n",
              "<title>wet</title>\n",
              "<ellipse fill=\"none\" stroke=\"black\" cx=\"76\" cy=\"-90\" rx=\"27\" ry=\"18\"/>\n",
              "<text text-anchor=\"middle\" x=\"76\" y=\"-86.3\" font-family=\"Times,serif\" font-size=\"14.00\">wet</text>\n",
              "</g>\n",
              "<!-- rain&#45;&gt;wet -->\n",
              "<g id=\"edge1\" class=\"edge\">\n",
              "<title>rain&#45;&gt;wet</title>\n",
              "<path fill=\"none\" stroke=\"black\" d=\"M42.82,-145.56C48.35,-136.47 54.99,-125.55 60.88,-115.87\"/>\n",
              "<polygon fill=\"black\" stroke=\"black\" points=\"64.02,-117.43 66.23,-107.07 58.04,-113.79 64.02,-117.43\"/>\n",
              "</g>\n",
              "<!-- wet&#45;&gt;slippery -->\n",
              "<g id=\"edge2\" class=\"edge\">\n",
              "<title>wet&#45;&gt;slippery</title>\n",
              "<path fill=\"none\" stroke=\"black\" d=\"M76,-71.7C76,-63.98 76,-54.71 76,-46.11\"/>\n",
              "<polygon fill=\"black\" stroke=\"black\" points=\"79.5,-46.1 76,-36.1 72.5,-46.1 79.5,-46.1\"/>\n",
              "</g>\n",
              "<!-- sprinkler -->\n",
              "<g id=\"node4\" class=\"node\">\n",
              "<title>sprinkler</title>\n",
              "<ellipse fill=\"none\" stroke=\"black\" cx=\"122\" cy=\"-166\" rx=\"42.49\" ry=\"18\"/>\n",
              "<text text-anchor=\"middle\" x=\"122\" y=\"-162.3\" font-family=\"Times,serif\" font-size=\"14.00\">sprinkler</text>\n",
              "</g>\n",
              "<!-- sprinkler&#45;&gt;wet -->\n",
              "<g id=\"edge3\" class=\"edge\">\n",
              "<title>sprinkler&#45;&gt;wet</title>\n",
              "<path fill=\"none\" stroke=\"black\" d=\"M111.56,-148.21C105.6,-138.61 98.01,-126.4 91.37,-115.73\"/>\n",
              "<polygon fill=\"black\" stroke=\"black\" points=\"94.33,-113.86 86.08,-107.22 88.39,-117.56 94.33,-113.86\"/>\n",
              "</g>\n",
              "<!-- cloudy -->\n",
              "<g id=\"node5\" class=\"node\">\n",
              "<title>cloudy</title>\n",
              "<ellipse fill=\"none\" stroke=\"black\" cx=\"122\" cy=\"-242\" rx=\"34.39\" ry=\"18\"/>\n",
              "<text text-anchor=\"middle\" x=\"122\" y=\"-238.3\" font-family=\"Times,serif\" font-size=\"14.00\">cloudy</text>\n",
              "</g>\n",
              "<!-- cloudy&#45;&gt;sprinkler -->\n",
              "<g id=\"edge4\" class=\"edge\">\n",
              "<title>cloudy&#45;&gt;sprinkler</title>\n",
              "<path fill=\"none\" stroke=\"black\" d=\"M122,-223.84C122,-215.06 122,-204.16 122,-194.27\"/>\n",
              "<polygon fill=\"black\" stroke=\"black\" points=\"125.5,-194.07 122,-184.07 118.5,-194.07 125.5,-194.07\"/>\n",
              "</g>\n",
              "</g>\n",
              "</svg>\n"
            ],
            "text/plain": [
              "<graphviz.graphs.Digraph at 0x7fc201538670>"
            ]
          },
          "execution_count": 36,
          "metadata": {},
          "output_type": "execute_result"
        }
      ],
      "source": [
        "sprinkler_do = sprinkler.do(\"rain\")\n",
        "\n",
        "sprinkler_do.draw()"
      ]
    },
    {
      "cell_type": "markdown",
      "metadata": {
        "id": "UwzMIG4ZOTPu"
      },
      "source": [
        "The visualization has been changed.\n",
        "A node with a **double outline** indicates a node with an intervention."
      ]
    },
    {
      "cell_type": "code",
      "execution_count": null,
      "metadata": {
        "colab": {
          "base_uri": "https://localhost:8080/"
        },
        "id": "x_ojBDPhOWzw",
        "outputId": "d98825c8-5272-4db5-8c14-4812dd9227dd"
      },
      "outputs": [
        {
          "name": "stdout",
          "output_type": "stream",
          "text": [
            "P(cloudy)P(sprinkler|cloudy)P(wet|do(rain),sprinkler)P(slippery|wet)\n"
          ]
        }
      ],
      "source": [
        "print(sprinkler_do.get_distribution())"
      ]
    },
    {
      "cell_type": "markdown",
      "metadata": {
        "id": "a6ahs7X0OZ3d"
      },
      "source": [
        "Obviously, the joint probability distribution is changed too."
      ]
    },
    {
      "cell_type": "markdown",
      "metadata": {
        "id": "OEGkG_dLOcH1"
      },
      "source": [
        "##EXAMPLE: SIMPLE CONFOUNDED"
      ]
    },
    {
      "cell_type": "code",
      "execution_count": null,
      "metadata": {
        "colab": {
          "base_uri": "https://localhost:8080/",
          "height": 272
        },
        "id": "-DhvwN_BOefw",
        "outputId": "8194a807-24d1-47d8-be62-d6c1171e2b74"
      },
      "outputs": [
        {
          "data": {
            "image/svg+xml": [
              "<?xml version=\"1.0\" encoding=\"UTF-8\" standalone=\"no\"?>\n",
              "<!DOCTYPE svg PUBLIC \"-//W3C//DTD SVG 1.1//EN\"\n",
              " \"http://www.w3.org/Graphics/SVG/1.1/DTD/svg11.dtd\">\n",
              "<!-- Generated by graphviz version 2.43.0 (0)\n",
              " -->\n",
              "<!-- Title: %3 Pages: 1 -->\n",
              "<svg width=\"89pt\" height=\"188pt\"\n",
              " viewBox=\"0.00 0.00 89.00 188.00\" xmlns=\"http://www.w3.org/2000/svg\" xmlns:xlink=\"http://www.w3.org/1999/xlink\">\n",
              "<g id=\"graph0\" class=\"graph\" transform=\"scale(1 1) rotate(0) translate(4 184)\">\n",
              "<title>%3</title>\n",
              "<polygon fill=\"white\" stroke=\"transparent\" points=\"-4,4 -4,-184 85,-184 85,4 -4,4\"/>\n",
              "<!-- x -->\n",
              "<g id=\"node1\" class=\"node\">\n",
              "<title>x</title>\n",
              "<ellipse fill=\"none\" stroke=\"black\" cx=\"27\" cy=\"-90\" rx=\"27\" ry=\"18\"/>\n",
              "<text text-anchor=\"middle\" x=\"27\" y=\"-86.3\" font-family=\"Times,serif\" font-size=\"14.00\">x</text>\n",
              "</g>\n",
              "<!-- y -->\n",
              "<g id=\"node3\" class=\"node\">\n",
              "<title>y</title>\n",
              "<ellipse fill=\"none\" stroke=\"black\" cx=\"54\" cy=\"-18\" rx=\"27\" ry=\"18\"/>\n",
              "<text text-anchor=\"middle\" x=\"54\" y=\"-14.3\" font-family=\"Times,serif\" font-size=\"14.00\">y</text>\n",
              "</g>\n",
              "<!-- x&#45;&gt;y -->\n",
              "<g id=\"edge1\" class=\"edge\">\n",
              "<title>x&#45;&gt;y</title>\n",
              "<path fill=\"none\" stroke=\"black\" d=\"M33.4,-72.41C36.51,-64.34 40.33,-54.43 43.83,-45.35\"/>\n",
              "<polygon fill=\"black\" stroke=\"black\" points=\"47.13,-46.55 47.46,-35.96 40.6,-44.03 47.13,-46.55\"/>\n",
              "</g>\n",
              "<!-- z -->\n",
              "<g id=\"node2\" class=\"node\">\n",
              "<title>z</title>\n",
              "<ellipse fill=\"none\" stroke=\"black\" cx=\"54\" cy=\"-162\" rx=\"27\" ry=\"18\"/>\n",
              "<text text-anchor=\"middle\" x=\"54\" y=\"-158.3\" font-family=\"Times,serif\" font-size=\"14.00\">z</text>\n",
              "</g>\n",
              "<!-- z&#45;&gt;x -->\n",
              "<g id=\"edge2\" class=\"edge\">\n",
              "<title>z&#45;&gt;x</title>\n",
              "<path fill=\"none\" stroke=\"black\" d=\"M47.6,-144.41C44.49,-136.34 40.67,-126.43 37.17,-117.35\"/>\n",
              "<polygon fill=\"black\" stroke=\"black\" points=\"40.4,-116.03 33.54,-107.96 33.87,-118.55 40.4,-116.03\"/>\n",
              "</g>\n",
              "<!-- z&#45;&gt;y -->\n",
              "<g id=\"edge3\" class=\"edge\">\n",
              "<title>z&#45;&gt;y</title>\n",
              "<path fill=\"none\" stroke=\"black\" d=\"M57.65,-143.91C59.68,-133.57 61.98,-120.09 63,-108 64.34,-92.06 64.34,-87.94 63,-72 62.28,-63.5 60.93,-54.31 59.49,-46.01\"/>\n",
              "<polygon fill=\"black\" stroke=\"black\" points=\"62.91,-45.29 57.65,-36.09 56.03,-46.56 62.91,-45.29\"/>\n",
              "</g>\n",
              "</g>\n",
              "</svg>\n"
            ],
            "text/plain": [
              "<graphviz.graphs.Digraph at 0x7fc1d6eae260>"
            ]
          },
          "execution_count": 38,
          "metadata": {},
          "output_type": "execute_result"
        }
      ],
      "source": [
        "from causalgraphicalmodels.examples import simple_confounded\n",
        "\n",
        "simple_confounded.draw()"
      ]
    },
    {
      "cell_type": "markdown",
      "metadata": {
        "id": "czlJD3d4OmHm"
      },
      "source": [
        "Under intervention on  X , the causal graphical model generating the data is"
      ]
    },
    {
      "cell_type": "code",
      "execution_count": null,
      "metadata": {
        "colab": {
          "base_uri": "https://localhost:8080/",
          "height": 187
        },
        "id": "Nuze03BWOppj",
        "outputId": "1e4bbd94-55e5-4062-a1c9-f44616b97469"
      },
      "outputs": [
        {
          "data": {
            "image/svg+xml": [
              "<?xml version=\"1.0\" encoding=\"UTF-8\" standalone=\"no\"?>\n",
              "<!DOCTYPE svg PUBLIC \"-//W3C//DTD SVG 1.1//EN\"\n",
              " \"http://www.w3.org/Graphics/SVG/1.1/DTD/svg11.dtd\">\n",
              "<!-- Generated by graphviz version 2.43.0 (0)\n",
              " -->\n",
              "<!-- Title: %3 Pages: 1 -->\n",
              "<svg width=\"142pt\" height=\"124pt\"\n",
              " viewBox=\"0.00 0.00 142.00 124.00\" xmlns=\"http://www.w3.org/2000/svg\" xmlns:xlink=\"http://www.w3.org/1999/xlink\">\n",
              "<g id=\"graph0\" class=\"graph\" transform=\"scale(1 1) rotate(0) translate(4 120)\">\n",
              "<title>%3</title>\n",
              "<polygon fill=\"white\" stroke=\"transparent\" points=\"-4,4 -4,-120 138,-120 138,4 -4,4\"/>\n",
              "<!-- x -->\n",
              "<g id=\"node1\" class=\"node\">\n",
              "<title>x</title>\n",
              "<ellipse fill=\"none\" stroke=\"black\" cx=\"31\" cy=\"-94\" rx=\"27\" ry=\"18\"/>\n",
              "<ellipse fill=\"none\" stroke=\"black\" cx=\"31\" cy=\"-94\" rx=\"31\" ry=\"22\"/>\n",
              "<text text-anchor=\"middle\" x=\"31\" y=\"-90.3\" font-family=\"Times,serif\" font-size=\"14.00\">x</text>\n",
              "</g>\n",
              "<!-- y -->\n",
              "<g id=\"node3\" class=\"node\">\n",
              "<title>y</title>\n",
              "<ellipse fill=\"none\" stroke=\"black\" cx=\"69\" cy=\"-18\" rx=\"27\" ry=\"18\"/>\n",
              "<text text-anchor=\"middle\" x=\"69\" y=\"-14.3\" font-family=\"Times,serif\" font-size=\"14.00\">y</text>\n",
              "</g>\n",
              "<!-- x&#45;&gt;y -->\n",
              "<g id=\"edge1\" class=\"edge\">\n",
              "<title>x&#45;&gt;y</title>\n",
              "<path fill=\"none\" stroke=\"black\" d=\"M41.18,-73.17C45.73,-64.31 51.15,-53.76 55.99,-44.33\"/>\n",
              "<polygon fill=\"black\" stroke=\"black\" points=\"59.13,-45.88 60.59,-35.39 52.9,-42.68 59.13,-45.88\"/>\n",
              "</g>\n",
              "<!-- z -->\n",
              "<g id=\"node2\" class=\"node\">\n",
              "<title>z</title>\n",
              "<ellipse fill=\"none\" stroke=\"black\" cx=\"107\" cy=\"-94\" rx=\"27\" ry=\"18\"/>\n",
              "<text text-anchor=\"middle\" x=\"107\" y=\"-90.3\" font-family=\"Times,serif\" font-size=\"14.00\">z</text>\n",
              "</g>\n",
              "<!-- z&#45;&gt;y -->\n",
              "<g id=\"edge2\" class=\"edge\">\n",
              "<title>z&#45;&gt;y</title>\n",
              "<path fill=\"none\" stroke=\"black\" d=\"M98.57,-76.58C93.7,-67.09 87.47,-54.96 81.98,-44.28\"/>\n",
              "<polygon fill=\"black\" stroke=\"black\" points=\"85.09,-42.67 77.41,-35.38 78.86,-45.87 85.09,-42.67\"/>\n",
              "</g>\n",
              "</g>\n",
              "</svg>\n"
            ],
            "text/plain": [
              "<graphviz.graphs.Digraph at 0x7fc1d6eac850>"
            ]
          },
          "execution_count": 39,
          "metadata": {},
          "output_type": "execute_result"
        }
      ],
      "source": [
        "simple_confounded.do(\"x\").draw()"
      ]
    },
    {
      "cell_type": "markdown",
      "metadata": {
        "id": "fuplrJVQOs3a"
      },
      "source": [
        "## EXAMPLE: BACKDOOR PATH"
      ]
    },
    {
      "cell_type": "code",
      "execution_count": null,
      "metadata": {
        "colab": {
          "base_uri": "https://localhost:8080/",
          "height": 464
        },
        "id": "zxQXzDa3OxuC",
        "outputId": "cf755003-9cee-4775-9c21-e6fe3364e10e"
      },
      "outputs": [
        {
          "data": {
            "image/svg+xml": [
              "<?xml version=\"1.0\" encoding=\"UTF-8\" standalone=\"no\"?>\n",
              "<!DOCTYPE svg PUBLIC \"-//W3C//DTD SVG 1.1//EN\"\n",
              " \"http://www.w3.org/Graphics/SVG/1.1/DTD/svg11.dtd\">\n",
              "<!-- Generated by graphviz version 2.43.0 (0)\n",
              " -->\n",
              "<!-- Title: %3 Pages: 1 -->\n",
              "<svg width=\"189pt\" height=\"332pt\"\n",
              " viewBox=\"0.00 0.00 189.00 332.00\" xmlns=\"http://www.w3.org/2000/svg\" xmlns:xlink=\"http://www.w3.org/1999/xlink\">\n",
              "<g id=\"graph0\" class=\"graph\" transform=\"scale(1 1) rotate(0) translate(4 328)\">\n",
              "<title>%3</title>\n",
              "<polygon fill=\"white\" stroke=\"transparent\" points=\"-4,4 -4,-328 185,-328 185,4 -4,4\"/>\n",
              "<!-- d -->\n",
              "<g id=\"node1\" class=\"node\">\n",
              "<title>d</title>\n",
              "<ellipse fill=\"none\" stroke=\"black\" cx=\"154\" cy=\"-234\" rx=\"27\" ry=\"18\"/>\n",
              "<text text-anchor=\"middle\" x=\"154\" y=\"-230.3\" font-family=\"Times,serif\" font-size=\"14.00\">d</text>\n",
              "</g>\n",
              "<!-- e -->\n",
              "<g id=\"node7\" class=\"node\">\n",
              "<title>e</title>\n",
              "<ellipse fill=\"none\" stroke=\"black\" cx=\"154\" cy=\"-162\" rx=\"27\" ry=\"18\"/>\n",
              "<text text-anchor=\"middle\" x=\"154\" y=\"-158.3\" font-family=\"Times,serif\" font-size=\"14.00\">e</text>\n",
              "</g>\n",
              "<!-- d&#45;&gt;e -->\n",
              "<g id=\"edge9\" class=\"edge\">\n",
              "<title>d&#45;&gt;e</title>\n",
              "<path fill=\"none\" stroke=\"black\" d=\"M154,-215.7C154,-207.98 154,-198.71 154,-190.11\"/>\n",
              "<polygon fill=\"black\" stroke=\"black\" points=\"157.5,-190.1 154,-180.1 150.5,-190.1 157.5,-190.1\"/>\n",
              "</g>\n",
              "<!-- h -->\n",
              "<g id=\"node2\" class=\"node\">\n",
              "<title>h</title>\n",
              "<ellipse fill=\"none\" stroke=\"black\" cx=\"27\" cy=\"-18\" rx=\"27\" ry=\"18\"/>\n",
              "<text text-anchor=\"middle\" x=\"27\" y=\"-14.3\" font-family=\"Times,serif\" font-size=\"14.00\">h</text>\n",
              "</g>\n",
              "<!-- a -->\n",
              "<g id=\"node3\" class=\"node\">\n",
              "<title>a</title>\n",
              "<ellipse fill=\"none\" stroke=\"black\" cx=\"54\" cy=\"-306\" rx=\"27\" ry=\"18\"/>\n",
              "<text text-anchor=\"middle\" x=\"54\" y=\"-302.3\" font-family=\"Times,serif\" font-size=\"14.00\">a</text>\n",
              "</g>\n",
              "<!-- a&#45;&gt;h -->\n",
              "<g id=\"edge2\" class=\"edge\">\n",
              "<title>a&#45;&gt;h</title>\n",
              "<path fill=\"none\" stroke=\"black\" d=\"M51.11,-287.85C49.44,-277.5 47.4,-264.02 46,-252 37.37,-177.67 31.32,-89.55 28.6,-46.06\"/>\n",
              "<polygon fill=\"black\" stroke=\"black\" points=\"32.09,-45.76 27.99,-36 25.1,-46.19 32.09,-45.76\"/>\n",
              "</g>\n",
              "<!-- x -->\n",
              "<g id=\"node4\" class=\"node\">\n",
              "<title>x</title>\n",
              "<ellipse fill=\"none\" stroke=\"black\" cx=\"82\" cy=\"-234\" rx=\"27\" ry=\"18\"/>\n",
              "<text text-anchor=\"middle\" x=\"82\" y=\"-230.3\" font-family=\"Times,serif\" font-size=\"14.00\">x</text>\n",
              "</g>\n",
              "<!-- a&#45;&gt;x -->\n",
              "<g id=\"edge1\" class=\"edge\">\n",
              "<title>a&#45;&gt;x</title>\n",
              "<path fill=\"none\" stroke=\"black\" d=\"M60.64,-288.41C63.91,-280.22 67.94,-270.14 71.62,-260.95\"/>\n",
              "<polygon fill=\"black\" stroke=\"black\" points=\"74.95,-262.05 75.41,-251.47 68.45,-259.45 74.95,-262.05\"/>\n",
              "</g>\n",
              "<!-- c -->\n",
              "<g id=\"node8\" class=\"node\">\n",
              "<title>c</title>\n",
              "<ellipse fill=\"none\" stroke=\"black\" cx=\"82\" cy=\"-162\" rx=\"27\" ry=\"18\"/>\n",
              "<text text-anchor=\"middle\" x=\"82\" y=\"-158.3\" font-family=\"Times,serif\" font-size=\"14.00\">c</text>\n",
              "</g>\n",
              "<!-- x&#45;&gt;c -->\n",
              "<g id=\"edge5\" class=\"edge\">\n",
              "<title>x&#45;&gt;c</title>\n",
              "<path fill=\"none\" stroke=\"black\" d=\"M82,-215.7C82,-207.98 82,-198.71 82,-190.11\"/>\n",
              "<polygon fill=\"black\" stroke=\"black\" points=\"85.5,-190.1 82,-180.1 78.5,-190.1 85.5,-190.1\"/>\n",
              "</g>\n",
              "<!-- y -->\n",
              "<g id=\"node5\" class=\"node\">\n",
              "<title>y</title>\n",
              "<ellipse fill=\"none\" stroke=\"black\" cx=\"82\" cy=\"-90\" rx=\"27\" ry=\"18\"/>\n",
              "<text text-anchor=\"middle\" x=\"82\" y=\"-86.3\" font-family=\"Times,serif\" font-size=\"14.00\">y</text>\n",
              "</g>\n",
              "<!-- y&#45;&gt;h -->\n",
              "<g id=\"edge8\" class=\"edge\">\n",
              "<title>y&#45;&gt;h</title>\n",
              "<path fill=\"none\" stroke=\"black\" d=\"M70.07,-73.81C62.79,-64.55 53.34,-52.52 45.15,-42.09\"/>\n",
              "<polygon fill=\"black\" stroke=\"black\" points=\"47.84,-39.86 38.91,-34.16 42.34,-44.18 47.84,-39.86\"/>\n",
              "</g>\n",
              "<!-- f -->\n",
              "<g id=\"node6\" class=\"node\">\n",
              "<title>f</title>\n",
              "<ellipse fill=\"none\" stroke=\"black\" cx=\"99\" cy=\"-18\" rx=\"27\" ry=\"18\"/>\n",
              "<text text-anchor=\"middle\" x=\"99\" y=\"-14.3\" font-family=\"Times,serif\" font-size=\"14.00\">f</text>\n",
              "</g>\n",
              "<!-- y&#45;&gt;f -->\n",
              "<g id=\"edge7\" class=\"edge\">\n",
              "<title>y&#45;&gt;f</title>\n",
              "<path fill=\"none\" stroke=\"black\" d=\"M86.12,-72.05C88.01,-64.26 90.3,-54.82 92.42,-46.08\"/>\n",
              "<polygon fill=\"black\" stroke=\"black\" points=\"95.85,-46.82 94.8,-36.28 89.04,-45.17 95.85,-46.82\"/>\n",
              "</g>\n",
              "<!-- e&#45;&gt;y -->\n",
              "<g id=\"edge10\" class=\"edge\">\n",
              "<title>e&#45;&gt;y</title>\n",
              "<path fill=\"none\" stroke=\"black\" d=\"M139.43,-146.83C129.25,-136.94 115.48,-123.55 103.97,-112.36\"/>\n",
              "<polygon fill=\"black\" stroke=\"black\" points=\"106.41,-109.85 96.8,-105.38 101.53,-114.87 106.41,-109.85\"/>\n",
              "</g>\n",
              "<!-- c&#45;&gt;y -->\n",
              "<g id=\"edge6\" class=\"edge\">\n",
              "<title>c&#45;&gt;y</title>\n",
              "<path fill=\"none\" stroke=\"black\" d=\"M82,-143.7C82,-135.98 82,-126.71 82,-118.11\"/>\n",
              "<polygon fill=\"black\" stroke=\"black\" points=\"85.5,-118.1 82,-108.1 78.5,-118.1 85.5,-118.1\"/>\n",
              "</g>\n",
              "<!-- b -->\n",
              "<g id=\"node9\" class=\"node\">\n",
              "<title>b</title>\n",
              "<ellipse fill=\"none\" stroke=\"black\" cx=\"140\" cy=\"-306\" rx=\"27\" ry=\"18\"/>\n",
              "<text text-anchor=\"middle\" x=\"140\" y=\"-302.3\" font-family=\"Times,serif\" font-size=\"14.00\">b</text>\n",
              "</g>\n",
              "<!-- b&#45;&gt;d -->\n",
              "<g id=\"edge4\" class=\"edge\">\n",
              "<title>b&#45;&gt;d</title>\n",
              "<path fill=\"none\" stroke=\"black\" d=\"M143.39,-288.05C144.93,-280.35 146.79,-271.03 148.53,-262.36\"/>\n",
              "<polygon fill=\"black\" stroke=\"black\" points=\"152.02,-262.77 150.54,-252.28 145.15,-261.39 152.02,-262.77\"/>\n",
              "</g>\n",
              "<!-- b&#45;&gt;x -->\n",
              "<g id=\"edge3\" class=\"edge\">\n",
              "<title>b&#45;&gt;x</title>\n",
              "<path fill=\"none\" stroke=\"black\" d=\"M127.41,-289.81C119.74,-280.55 109.77,-268.52 101.14,-258.09\"/>\n",
              "<polygon fill=\"black\" stroke=\"black\" points=\"103.64,-255.63 94.56,-250.16 98.25,-260.09 103.64,-255.63\"/>\n",
              "</g>\n",
              "</g>\n",
              "</svg>\n"
            ],
            "text/plain": [
              "<graphviz.graphs.Digraph at 0x7fc1d6e43f70>"
            ]
          },
          "execution_count": 40,
          "metadata": {},
          "output_type": "execute_result"
        }
      ],
      "source": [
        "from causalgraphicalmodels.examples import big_csm\n",
        "\n",
        "example_cgm = big_csm.cgm\n",
        "example_cgm.draw()"
      ]
    },
    {
      "cell_type": "code",
      "execution_count": null,
      "metadata": {
        "colab": {
          "base_uri": "https://localhost:8080/"
        },
        "id": "7HmDK9qXO3nZ",
        "outputId": "878a917b-8def-45ab-96ce-7f3e27431846"
      },
      "outputs": [
        {
          "data": {
            "text/plain": [
              "[['x', 'a', 'h', 'y'], ['x', 'b', 'd', 'e', 'y']]"
            ]
          },
          "execution_count": 41,
          "metadata": {},
          "output_type": "execute_result"
        }
      ],
      "source": [
        "example_cgm.get_all_backdoor_paths(\"x\", \"y\")"
      ]
    },
    {
      "cell_type": "markdown",
      "metadata": {
        "id": "NqfI4G5MO8kB"
      },
      "source": [
        "There are two backdoor paths between $X$ and $Y$\n",
        "\n",
        "But because $h$ acts as a collider in the first path, it is blocked unless conditioned on. To find a valid adjustment set, we need a set which blocks this path. Any of the variables $B, D, E$ would work, as well as any combination of the above. We can also include any other variable in this set, as long as it doesn't create new paths. Adding $H, F$ or $C$ to the adjustment set would create a new path, making the adjustment set invalid."
      ]
    },
    {
      "cell_type": "code",
      "execution_count": null,
      "metadata": {
        "colab": {
          "base_uri": "https://localhost:8080/"
        },
        "id": "DK7EC7J_PBFS",
        "outputId": "39654731-1c08-4a66-81ba-055c93472af6"
      },
      "outputs": [
        {
          "data": {
            "text/plain": [
              "False"
            ]
          },
          "execution_count": 42,
          "metadata": {},
          "output_type": "execute_result"
        }
      ],
      "source": [
        "example_cgm.is_valid_backdoor_adjustment_set(\"x\", \"y\", {\"a\", \"h\"})"
      ]
    },
    {
      "cell_type": "code",
      "execution_count": null,
      "metadata": {
        "colab": {
          "base_uri": "https://localhost:8080/"
        },
        "id": "k6YVKeSyPFF8",
        "outputId": "68716ab3-1e32-4655-b3af-e9362e6fdcd0"
      },
      "outputs": [
        {
          "data": {
            "text/plain": [
              "True"
            ]
          },
          "execution_count": 43,
          "metadata": {},
          "output_type": "execute_result"
        }
      ],
      "source": [
        "example_cgm.is_valid_backdoor_adjustment_set(\"x\", \"y\", {\"b\", \"d\", \"e\"})"
      ]
    },
    {
      "cell_type": "code",
      "execution_count": null,
      "metadata": {
        "colab": {
          "base_uri": "https://localhost:8080/"
        },
        "id": "Q7Cyf35LPI6a",
        "outputId": "6f149166-07f0-4675-d5b2-3aab97da1c2b"
      },
      "outputs": [
        {
          "data": {
            "text/plain": [
              "False"
            ]
          },
          "execution_count": 44,
          "metadata": {},
          "output_type": "execute_result"
        }
      ],
      "source": [
        "example_cgm.is_valid_backdoor_adjustment_set(\"x\", \"y\", {\"b\", \"d\", \"e\", \"h\"})"
      ]
    },
    {
      "cell_type": "code",
      "execution_count": null,
      "metadata": {
        "colab": {
          "base_uri": "https://localhost:8080/"
        },
        "id": "D6bRuyjVPLV-",
        "outputId": "c586c003-a658-47a0-d5d8-343c75ca12a0"
      },
      "outputs": [
        {
          "data": {
            "text/plain": [
              "False"
            ]
          },
          "execution_count": 45,
          "metadata": {},
          "output_type": "execute_result"
        }
      ],
      "source": [
        "example_cgm.is_valid_backdoor_adjustment_set(\"x\", \"y\", {\"b\", \"d\", \"e\", \"f\"})"
      ]
    },
    {
      "cell_type": "code",
      "execution_count": null,
      "metadata": {
        "colab": {
          "base_uri": "https://localhost:8080/"
        },
        "id": "k31Moyb-PPMw",
        "outputId": "85b1bfb1-9711-4d77-d4da-5449e76c0205"
      },
      "outputs": [
        {
          "data": {
            "text/plain": [
              "True"
            ]
          },
          "execution_count": 46,
          "metadata": {},
          "output_type": "execute_result"
        }
      ],
      "source": [
        "example_cgm.is_valid_backdoor_adjustment_set(\"x\", \"y\", {\"a\",\"b\"})"
      ]
    },
    {
      "cell_type": "markdown",
      "metadata": {
        "id": "JUhAH31APSal"
      },
      "source": [
        "We can compute all valid adjustment sets using the following:"
      ]
    },
    {
      "cell_type": "code",
      "execution_count": null,
      "metadata": {
        "colab": {
          "base_uri": "https://localhost:8080/"
        },
        "id": "Oj9cH5v1PVMT",
        "outputId": "e52b2b56-6191-4b7f-8576-8ef6bd4fdf77"
      },
      "outputs": [
        {
          "data": {
            "text/plain": [
              "frozenset({frozenset({'e'}),\n",
              "           frozenset({'d'}),\n",
              "           frozenset({'a', 'd'}),\n",
              "           frozenset({'b'}),\n",
              "           frozenset({'a', 'e'}),\n",
              "           frozenset({'a', 'b', 'e'}),\n",
              "           frozenset({'a', 'd', 'e'}),\n",
              "           frozenset({'a', 'b'}),\n",
              "           frozenset({'b', 'd'}),\n",
              "           frozenset({'d', 'e'}),\n",
              "           frozenset({'b', 'e'}),\n",
              "           frozenset({'b', 'd', 'e'}),\n",
              "           frozenset({'a', 'b', 'd'}),\n",
              "           frozenset({'a', 'b', 'd', 'e'})})"
            ]
          },
          "execution_count": 47,
          "metadata": {},
          "output_type": "execute_result"
        }
      ],
      "source": [
        "example_cgm.get_all_backdoor_adjustment_sets(\"x\", \"y\")"
      ]
    },
    {
      "cell_type": "markdown",
      "metadata": {
        "id": "JL_Wu5WaPZKI"
      },
      "source": [
        "## EXAMPLE: front-door criterion\n",
        "\n",
        "Finally, let's consider the smoking example, where we have one or more unobserved confounders, for example $U$ (smoking gene), and one or more observed variables, for example $Z$ (tar deposit), between cause $X$ (smoking) and outcome $Y$ (lung cancer):\n",
        "\n",
        "<img src='https://drive.google.com/uc?id=1emjrUC_sUyiWxZEqRyxnEetDal6XjyGB'>\n",
        "\n",
        "In this case, a possible implementation of the network is the following:"
      ]
    },
    {
      "cell_type": "code",
      "execution_count": null,
      "metadata": {
        "colab": {
          "base_uri": "https://localhost:8080/",
          "height": 325
        },
        "id": "N_QQkBJOPen1",
        "outputId": "7c5225fb-6052-4637-e66a-1ce73dc40ca2"
      },
      "outputs": [
        {
          "data": {
            "image/svg+xml": [
              "<?xml version=\"1.0\" encoding=\"UTF-8\" standalone=\"no\"?>\n",
              "<!DOCTYPE svg PUBLIC \"-//W3C//DTD SVG 1.1//EN\"\n",
              " \"http://www.w3.org/Graphics/SVG/1.1/DTD/svg11.dtd\">\n",
              "<!-- Generated by graphviz version 2.43.0 (0)\n",
              " -->\n",
              "<!-- Title: %3 Pages: 1 -->\n",
              "<svg width=\"89pt\" height=\"228pt\"\n",
              " viewBox=\"0.00 0.00 89.00 227.60\" xmlns=\"http://www.w3.org/2000/svg\" xmlns:xlink=\"http://www.w3.org/1999/xlink\">\n",
              "<g id=\"graph0\" class=\"graph\" transform=\"scale(1 1) rotate(0) translate(4 223.6)\">\n",
              "<title>%3</title>\n",
              "<polygon fill=\"white\" stroke=\"transparent\" points=\"-4,4 -4,-223.6 85,-223.6 85,4 -4,4\"/>\n",
              "<!-- X -->\n",
              "<g id=\"node1\" class=\"node\">\n",
              "<title>X</title>\n",
              "<ellipse fill=\"none\" stroke=\"black\" cx=\"27\" cy=\"-162\" rx=\"27\" ry=\"18\"/>\n",
              "<text text-anchor=\"middle\" x=\"27\" y=\"-158.3\" font-family=\"Times,serif\" font-size=\"14.00\">X</text>\n",
              "</g>\n",
              "<!-- Z -->\n",
              "<g id=\"node3\" class=\"node\">\n",
              "<title>Z</title>\n",
              "<ellipse fill=\"none\" stroke=\"black\" cx=\"27\" cy=\"-90\" rx=\"27\" ry=\"18\"/>\n",
              "<text text-anchor=\"middle\" x=\"27\" y=\"-86.3\" font-family=\"Times,serif\" font-size=\"14.00\">Z</text>\n",
              "</g>\n",
              "<!-- X&#45;&gt;Z -->\n",
              "<g id=\"edge1\" class=\"edge\">\n",
              "<title>X&#45;&gt;Z</title>\n",
              "<path fill=\"none\" stroke=\"black\" d=\"M27,-143.7C27,-135.98 27,-126.71 27,-118.11\"/>\n",
              "<polygon fill=\"black\" stroke=\"black\" points=\"30.5,-118.1 27,-108.1 23.5,-118.1 30.5,-118.1\"/>\n",
              "</g>\n",
              "<!-- Y -->\n",
              "<g id=\"node2\" class=\"node\">\n",
              "<title>Y</title>\n",
              "<ellipse fill=\"none\" stroke=\"black\" cx=\"54\" cy=\"-18\" rx=\"27\" ry=\"18\"/>\n",
              "<text text-anchor=\"middle\" x=\"54\" y=\"-14.3\" font-family=\"Times,serif\" font-size=\"14.00\">Y</text>\n",
              "</g>\n",
              "<!-- Z&#45;&gt;Y -->\n",
              "<g id=\"edge2\" class=\"edge\">\n",
              "<title>Z&#45;&gt;Y</title>\n",
              "<path fill=\"none\" stroke=\"black\" d=\"M33.4,-72.41C36.51,-64.34 40.33,-54.43 43.83,-45.35\"/>\n",
              "<polygon fill=\"black\" stroke=\"black\" points=\"47.13,-46.55 47.46,-35.96 40.6,-44.03 47.13,-46.55\"/>\n",
              "</g>\n",
              "<!-- Unobserved_0 -->\n",
              "<g id=\"node4\" class=\"node\">\n",
              "<title>Unobserved_0</title>\n",
              "<ellipse fill=\"black\" stroke=\"black\" cx=\"54\" cy=\"-217.8\" rx=\"1.8\" ry=\"1.8\"/>\n",
              "</g>\n",
              "<!-- Unobserved_0&#45;&gt;X -->\n",
              "<g id=\"edge3\" class=\"edge\">\n",
              "<title>Unobserved_0&#45;&gt;X</title>\n",
              "<path fill=\"none\" stroke=\"black\" stroke-dasharray=\"5,2\" d=\"M53.53,-215.87C51.82,-212.45 45.69,-200.23 39.75,-188.4\"/>\n",
              "<polygon fill=\"black\" stroke=\"black\" points=\"42.73,-186.54 35.12,-179.17 36.47,-189.68 42.73,-186.54\"/>\n",
              "</g>\n",
              "<!-- Unobserved_0&#45;&gt;Y -->\n",
              "<g id=\"edge4\" class=\"edge\">\n",
              "<title>Unobserved_0&#45;&gt;Y</title>\n",
              "<path fill=\"none\" stroke=\"black\" stroke-dasharray=\"5,2\" d=\"M54.3,-215.9C55.67,-211.83 61.24,-194.63 63,-180 68.74,-132.34 67.03,-119.83 63,-72 62.28,-63.5 60.93,-54.31 59.49,-46.01\"/>\n",
              "<polygon fill=\"black\" stroke=\"black\" points=\"62.91,-45.29 57.65,-36.09 56.03,-46.56 62.91,-45.29\"/>\n",
              "</g>\n",
              "</g>\n",
              "</svg>\n"
            ],
            "text/plain": [
              "<graphviz.graphs.Digraph at 0x7fc1d6eae860>"
            ]
          },
          "execution_count": 48,
          "metadata": {},
          "output_type": "execute_result"
        }
      ],
      "source": [
        "bdnet3 = CausalGraphicalModel(\n",
        "    nodes = ['X', 'Y', 'Z'],\n",
        "    edges = [\n",
        "        ('X','Z'),\n",
        "        ('Z', 'Y')\n",
        "    ],\n",
        "    latent_edges = [\n",
        "    ('X', 'Y')\n",
        "    ]\n",
        "\n",
        ")\n",
        "\n",
        "bdnet3.draw()"
      ]
    },
    {
      "cell_type": "markdown",
      "metadata": {
        "id": "cQVP4flZPhdz"
      },
      "source": [
        "where the variable  U , since unobserved, is substituted by a generic confounder link (dashed arrows) between  X  and  Y . The following method can be used to detect all the valid sets for applying the front-door criterion:"
      ]
    },
    {
      "cell_type": "code",
      "execution_count": null,
      "metadata": {
        "colab": {
          "base_uri": "https://localhost:8080/"
        },
        "id": "FYb9F_VBPmvy",
        "outputId": "b3fe4b06-bd54-403b-ab6e-caa0a9ef6816"
      },
      "outputs": [
        {
          "data": {
            "text/plain": [
              "frozenset({frozenset({'Z'})})"
            ]
          },
          "execution_count": 49,
          "metadata": {},
          "output_type": "execute_result"
        }
      ],
      "source": [
        "bdnet3.get_all_frontdoor_adjustment_sets('X', 'Y')"
      ]
    },
    {
      "cell_type": "markdown",
      "metadata": {
        "id": "820DmHOAPqTi"
      },
      "source": [
        "The answer is indeed the intermediate variable  Z."
      ]
    }
  ],
  "metadata": {
    "colab": {
      "provenance": []
    },
    "kernelspec": {
      "display_name": "Python 3",
      "name": "python3"
    },
    "language_info": {
      "codemirror_mode": {
        "name": "ipython",
        "version": 3
      },
      "file_extension": ".py",
      "mimetype": "text/x-python",
      "name": "python",
      "nbconvert_exporter": "python",
      "pygments_lexer": "ipython3",
      "version": "3.10.6"
    }
  },
  "nbformat": 4,
  "nbformat_minor": 0
}
