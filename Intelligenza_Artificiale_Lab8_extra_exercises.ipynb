{
  "nbformat": 4,
  "nbformat_minor": 0,
  "metadata": {
    "colab": {
      "provenance": []
    },
    "kernelspec": {
      "name": "python3",
      "display_name": "Python 3"
    },
    "language_info": {
      "name": "python"
    }
  },
  "cells": [
    {
      "cell_type": "markdown",
      "source": [
        "## EXERCISE 1\n",
        "\n",
        "Create the following causal network to verify that the red path is indeed a backdor path using the Causal Graphical Models library\n",
        "\n",
        "<img src='https://drive.google.com/uc?id=18HUhYGI9Bd2eR87jW_1AdQyCZZBOtBfD'>"
      ],
      "metadata": {
        "id": "twbLWgpO7YQH"
      }
    },
    {
      "cell_type": "markdown",
      "source": [
        "## EXERCISE 2\n",
        "\n",
        "Create the following causal network using the Causal Graphical Models library and find out all the possible sets that satisfy the backdoor criterion.\n",
        "\n",
        "<img src='https://drive.google.com/uc?id=1rY42DmXV7TpRm7rt5N7m78w30VmyvotC'>\n",
        "\n"
      ],
      "metadata": {
        "id": "XMJra_7H790G"
      }
    },
    {
      "cell_type": "markdown",
      "source": [
        "## EXERCISE 3\n",
        "\n",
        "Create the following causal network using the Causal Graphical Models library and find out all the valid sets for applying the front-door criterion.\n",
        "\n",
        "<img src='https://drive.google.com/uc?id=1Z6YiKMDVKPLFM5luY_pT78ovSpWH-Ibd'>\n"
      ],
      "metadata": {
        "id": "5ov1r8ir8vbP"
      }
    },
    {
      "cell_type": "markdown",
      "source": [
        "## EXERCISE 4\n",
        "\n",
        "Create the following causal network using the Causal Graphical Models library and find out all the valid sets for applying the front-door criterion.\n",
        "\n",
        "<img src='https://drive.google.com/uc?id=1lK3HZktVYCsJrDzZYEB0uQhL-DxWACcP'>"
      ],
      "metadata": {
        "id": "4_OslB3gBSjZ"
      }
    },
    {
      "cell_type": "markdown",
      "source": [
        "## EXERCISE 5\n",
        "\n",
        "Consider again the smoking example, for which we have the following data from an hypothetical experiment with 400 smokers and 400 non-smokers:\n",
        "\n",
        "<img src='https://drive.google.com/uc?id=1RvqtRMF4auVECmSniLFm5yOCq3ykmT-0'>\n",
        "\n",
        "Write a Python program implementing the front-door adjustment and compute the causal effect of smoking on lung cancer is $P(y | do(x))$."
      ],
      "metadata": {
        "id": "hA4mtAwrMtXO"
      }
    }
  ]
}