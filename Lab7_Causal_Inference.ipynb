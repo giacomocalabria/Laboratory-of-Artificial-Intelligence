{
  "cells": [
    {
      "cell_type": "markdown",
      "metadata": {
        "id": "AmvPd8zUKQTf"
      },
      "source": [
        "**Laboratory Lecture 7**\n",
        "\n",
        "## EXAMPLE: Causal effect of rain on wet grass\n",
        "\n",
        "Let's consider again our Sprinkler network, assuming this is a reliable description of the causal relationships between its four variables:\n",
        "\n",
        "\n",
        "<img src='https://drive.google.com/uc?id=1C2vyT2X19C_IekWf3rELuF4SumvJxo2b'>\n",
        "\n",
        "In this case we want to estimate the causal effects of the rain on the \"wetness\" of the grass.\n",
        "\n",
        "Note that it wouldn't be physically possible to modify the rain variable $R$. Yet, we can use probabilities from observational data of the weather to compute its causal effect \"as if\" we were able to intervene on it.\n",
        "\n",
        "To this end, we can compute the effect of the intervention $P(G = true | do(R = true))$, or simply $P(g | do(r))$, by using the adjustment formula for the only parent of $R$, which is $C$:\n",
        "\n",
        "$\n",
        "\\begin{align*}\n",
        "P(g | do(r)) &= \\sum_{z \\in C} P(g | r, z) P(z) \\\\\n",
        "&= P(g | r, c) P(c) + P(g | r, \\neg c) P(\\neg c)\n",
        "\\end{align*}\n",
        "$\n",
        "\n",
        "The probability distribution ${\\bf P}(C) = \\langle P(c), P(\\neg c) \\rangle$ is already given by the network. The conditional distribution ${\\bf P}(G | r, c) = \\langle P(g | r, c), P(\\neg g | r, c)\\rangle$ can be computed as follows:\n",
        "\n",
        "$\n",
        "\\begin{align*}\n",
        "{\\bf P}(G | r, c) = \\dfrac{{\\bf P}(G, r, c)}{P(r, c)} = \\alpha {\\bf P}(G, r, c) &= \\alpha \\sum_s {\\bf P}(G, r, c, s) \\\\\n",
        "&= \\alpha \\sum_s P(c) P(r|c) P(s|c) {\\bf P}(G | r, s) \\\\\n",
        "&= \\alpha P(c) P(r|c) \\sum_s  P(s|c) {\\bf P}(G | r, s) \\\\\n",
        "&= \\alpha' \\sum_s  P(s|c) {\\bf P}(G | r, s) \\\\\n",
        "&= \\alpha' \\big[ P(s|c) {\\bf P}(G | r, s) + P(\\neg s|c) {\\bf P}(G | r, \\neg s) \\big]\n",
        "\\end{align*}\n",
        "$\n",
        "\n",
        "where in the last steps we moved the product $P(c) P(r|c)$ within the normalisation factor $\\alpha'$.\n",
        "\n",
        "Substituting the values from the network's CPTs, we get the following:\n",
        "\n",
        "$\n",
        "{\\bf P}(G | r, c) = \\alpha' \\big[ 0.1 \\times \\langle 0.95, 0.05 \\rangle + 0.9 \\times \\langle 0.90, 0.10 \\rangle \\big] = \\langle 0.905, 0.095 \\rangle\n",
        "$\n",
        "\n",
        "If we do the same for the condition $\\neg c$, we obtain the following distribution:\n",
        "\n",
        "$\n",
        "{\\bf P}(G | r, \\neg c) = \\alpha' \\big[ 0.5 \\times \\langle 0.95, 0.05 \\rangle + 0.5 \\times \\langle 0.90, 0.10 \\rangle \\big] = \\langle 0.925, 0.075 \\rangle\n",
        "$\n",
        "\n",
        "Finally, we use the calculated values, $P(g | r, c) = 0.905$ and $P(g | r, \\neg c) = 0.925$, in the previous adjustment formula and obtain the following:\n",
        "\n",
        "$\n",
        "P(g | do(r)) = 0.905 \\times 0.5 + 0.925 \\times 0.5 = 0.915\n",
        "$\n",
        "\n",
        "which is our causal effect of the intervention $R = true$ on the wetness $G = true$.\n",
        "\n",
        "\n"
      ]
    },
    {
      "cell_type": "markdown",
      "metadata": {
        "id": "2qY8fRnodWRD"
      },
      "source": [
        "## EXAMPLE: Simpson’s Paradox\n",
        "\n",
        "This notebook follows the famous example from Causality (Pearl, 2009) and the documentation in the pyAgrum website. "
      ]
    },
    {
      "cell_type": "code",
      "execution_count": 11,
      "metadata": {
        "colab": {
          "base_uri": "https://localhost:8080/"
        },
        "id": "kkoIaLtPdT26",
        "outputId": "dcc57247-1869-4b72-bbc6-11179c22c0ce"
      },
      "outputs": [],
      "source": [
        "#!pip install pyAgrum\n",
        "from IPython.display import display, Math, Latex\n",
        "\n",
        "import pyAgrum as gum\n",
        "import pyAgrum.lib.notebook as gnb\n",
        "import pyAgrum.causal as csl\n",
        "import pyAgrum.causal.notebook as cslnb"
      ]
    },
    {
      "cell_type": "markdown",
      "metadata": {
        "id": "treCJzzleFam"
      },
      "source": [
        "In a statistical study about a drug, we try to evaluate the latter’s efficiency among a population of men and women. Let’s note: - Drug\n",
        " : drug taking - Patient\n",
        " : cured patient - Gender\n",
        " : patient’s gender\n",
        "\n",
        " The model from the observed date is as follow :"
      ]
    },
    {
      "cell_type": "code",
      "execution_count": 12,
      "metadata": {
        "colab": {
          "base_uri": "https://localhost:8080/",
          "height": 292
        },
        "id": "SeuwhDateRCT",
        "outputId": "e48da456-bc1b-46cf-9587-ebb5b6e578ec"
      },
      "outputs": [
        {
          "ename": "FileNotFoundError",
          "evalue": "[WinError 2] \"dot\" not found in path.",
          "output_type": "error",
          "traceback": [
            "\u001b[1;31m---------------------------------------------------------------------------\u001b[0m",
            "\u001b[1;31mFileNotFoundError\u001b[0m                         Traceback (most recent call last)",
            "File \u001b[1;32mc:\\Users\\giova\\AppData\\Local\\Programs\\Python\\Python311\\Lib\\site-packages\\pydot.py:1923\u001b[0m, in \u001b[0;36mDot.create\u001b[1;34m(self, prog, format, encoding)\u001b[0m\n\u001b[0;32m   1922\u001b[0m \u001b[39mtry\u001b[39;00m:\n\u001b[1;32m-> 1923\u001b[0m     stdout_data, stderr_data, process \u001b[39m=\u001b[39m call_graphviz(\n\u001b[0;32m   1924\u001b[0m         program\u001b[39m=\u001b[39;49mprog,\n\u001b[0;32m   1925\u001b[0m         arguments\u001b[39m=\u001b[39;49marguments,\n\u001b[0;32m   1926\u001b[0m         working_dir\u001b[39m=\u001b[39;49mtmp_dir,\n\u001b[0;32m   1927\u001b[0m     )\n\u001b[0;32m   1928\u001b[0m \u001b[39mexcept\u001b[39;00m \u001b[39mOSError\u001b[39;00m \u001b[39mas\u001b[39;00m e:\n",
            "File \u001b[1;32mc:\\Users\\giova\\AppData\\Local\\Programs\\Python\\Python311\\Lib\\site-packages\\pydot.py:132\u001b[0m, in \u001b[0;36mcall_graphviz\u001b[1;34m(program, arguments, working_dir, **kwargs)\u001b[0m\n\u001b[0;32m    130\u001b[0m program_with_args \u001b[39m=\u001b[39m [program, ] \u001b[39m+\u001b[39m arguments\n\u001b[1;32m--> 132\u001b[0m process \u001b[39m=\u001b[39m subprocess\u001b[39m.\u001b[39;49mPopen(\n\u001b[0;32m    133\u001b[0m     program_with_args,\n\u001b[0;32m    134\u001b[0m     env\u001b[39m=\u001b[39;49menv,\n\u001b[0;32m    135\u001b[0m     cwd\u001b[39m=\u001b[39;49mworking_dir,\n\u001b[0;32m    136\u001b[0m     shell\u001b[39m=\u001b[39;49m\u001b[39mFalse\u001b[39;49;00m,\n\u001b[0;32m    137\u001b[0m     stderr\u001b[39m=\u001b[39;49msubprocess\u001b[39m.\u001b[39;49mPIPE,\n\u001b[0;32m    138\u001b[0m     stdout\u001b[39m=\u001b[39;49msubprocess\u001b[39m.\u001b[39;49mPIPE,\n\u001b[0;32m    139\u001b[0m     \u001b[39m*\u001b[39;49m\u001b[39m*\u001b[39;49mkwargs\n\u001b[0;32m    140\u001b[0m )\n\u001b[0;32m    141\u001b[0m stdout_data, stderr_data \u001b[39m=\u001b[39m process\u001b[39m.\u001b[39mcommunicate()\n",
            "File \u001b[1;32mc:\\Users\\giova\\AppData\\Local\\Programs\\Python\\Python311\\Lib\\subprocess.py:1024\u001b[0m, in \u001b[0;36mPopen.__init__\u001b[1;34m(self, args, bufsize, executable, stdin, stdout, stderr, preexec_fn, close_fds, shell, cwd, env, universal_newlines, startupinfo, creationflags, restore_signals, start_new_session, pass_fds, user, group, extra_groups, encoding, errors, text, umask, pipesize, process_group)\u001b[0m\n\u001b[0;32m   1021\u001b[0m             \u001b[39mself\u001b[39m\u001b[39m.\u001b[39mstderr \u001b[39m=\u001b[39m io\u001b[39m.\u001b[39mTextIOWrapper(\u001b[39mself\u001b[39m\u001b[39m.\u001b[39mstderr,\n\u001b[0;32m   1022\u001b[0m                     encoding\u001b[39m=\u001b[39mencoding, errors\u001b[39m=\u001b[39merrors)\n\u001b[1;32m-> 1024\u001b[0m     \u001b[39mself\u001b[39;49m\u001b[39m.\u001b[39;49m_execute_child(args, executable, preexec_fn, close_fds,\n\u001b[0;32m   1025\u001b[0m                         pass_fds, cwd, env,\n\u001b[0;32m   1026\u001b[0m                         startupinfo, creationflags, shell,\n\u001b[0;32m   1027\u001b[0m                         p2cread, p2cwrite,\n\u001b[0;32m   1028\u001b[0m                         c2pread, c2pwrite,\n\u001b[0;32m   1029\u001b[0m                         errread, errwrite,\n\u001b[0;32m   1030\u001b[0m                         restore_signals,\n\u001b[0;32m   1031\u001b[0m                         gid, gids, uid, umask,\n\u001b[0;32m   1032\u001b[0m                         start_new_session, process_group)\n\u001b[0;32m   1033\u001b[0m \u001b[39mexcept\u001b[39;00m:\n\u001b[0;32m   1034\u001b[0m     \u001b[39m# Cleanup if the child failed starting.\u001b[39;00m\n",
            "File \u001b[1;32mc:\\Users\\giova\\AppData\\Local\\Programs\\Python\\Python311\\Lib\\subprocess.py:1509\u001b[0m, in \u001b[0;36mPopen._execute_child\u001b[1;34m(self, args, executable, preexec_fn, close_fds, pass_fds, cwd, env, startupinfo, creationflags, shell, p2cread, p2cwrite, c2pread, c2pwrite, errread, errwrite, unused_restore_signals, unused_gid, unused_gids, unused_uid, unused_umask, unused_start_new_session, unused_process_group)\u001b[0m\n\u001b[0;32m   1508\u001b[0m \u001b[39mtry\u001b[39;00m:\n\u001b[1;32m-> 1509\u001b[0m     hp, ht, pid, tid \u001b[39m=\u001b[39m _winapi\u001b[39m.\u001b[39mCreateProcess(executable, args,\n\u001b[0;32m   1510\u001b[0m                              \u001b[39m# no special security\u001b[39;00m\n\u001b[0;32m   1511\u001b[0m                              \u001b[39mNone\u001b[39;00m, \u001b[39mNone\u001b[39;00m,\n\u001b[0;32m   1512\u001b[0m                              \u001b[39mint\u001b[39m(\u001b[39mnot\u001b[39;00m close_fds),\n\u001b[0;32m   1513\u001b[0m                              creationflags,\n\u001b[0;32m   1514\u001b[0m                              env,\n\u001b[0;32m   1515\u001b[0m                              cwd,\n\u001b[0;32m   1516\u001b[0m                              startupinfo)\n\u001b[0;32m   1517\u001b[0m \u001b[39mfinally\u001b[39;00m:\n\u001b[0;32m   1518\u001b[0m     \u001b[39m# Child is launched. Close the parent's copy of those pipe\u001b[39;00m\n\u001b[0;32m   1519\u001b[0m     \u001b[39m# handles that only the child should have open.  You need\u001b[39;00m\n\u001b[1;32m   (...)\u001b[0m\n\u001b[0;32m   1522\u001b[0m     \u001b[39m# pipe will not close when the child process exits and the\u001b[39;00m\n\u001b[0;32m   1523\u001b[0m     \u001b[39m# ReadFile will hang.\u001b[39;00m\n",
            "\u001b[1;31mFileNotFoundError\u001b[0m: [WinError 2] Impossibile trovare il file specificato",
            "\nDuring handling of the above exception, another exception occurred:\n",
            "\u001b[1;31mFileNotFoundError\u001b[0m                         Traceback (most recent call last)",
            "Cell \u001b[1;32mIn[12], line 11\u001b[0m\n\u001b[0;32m      9\u001b[0m m1\u001b[39m.\u001b[39mcpt(\u001b[39m\"\u001b[39m\u001b[39mPatient\u001b[39m\u001b[39m\"\u001b[39m)[{\u001b[39m'\u001b[39m\u001b[39mDrug\u001b[39m\u001b[39m'\u001b[39m:\u001b[39m'\u001b[39m\u001b[39mWith\u001b[39m\u001b[39m'\u001b[39m,\u001b[39m'\u001b[39m\u001b[39mGender\u001b[39m\u001b[39m'\u001b[39m:\u001b[39m'\u001b[39m\u001b[39mF\u001b[39m\u001b[39m'\u001b[39m}]\u001b[39m=\u001b[39m[\u001b[39m0.3\u001b[39m,\u001b[39m0.7\u001b[39m] \u001b[39m#Drug, Male -> healed 0.7 of cases\u001b[39;00m\n\u001b[0;32m     10\u001b[0m m1\u001b[39m.\u001b[39mcpt(\u001b[39m\"\u001b[39m\u001b[39mPatient\u001b[39m\u001b[39m\"\u001b[39m)[{\u001b[39m'\u001b[39m\u001b[39mDrug\u001b[39m\u001b[39m'\u001b[39m:\u001b[39m'\u001b[39m\u001b[39mWith\u001b[39m\u001b[39m'\u001b[39m,\u001b[39m'\u001b[39m\u001b[39mGender\u001b[39m\u001b[39m'\u001b[39m:\u001b[39m'\u001b[39m\u001b[39mM\u001b[39m\u001b[39m'\u001b[39m}]\u001b[39m=\u001b[39m[\u001b[39m0.8\u001b[39m,\u001b[39m0.2\u001b[39m] \u001b[39m#Drug, Female -> healed in 0.2 of cases\u001b[39;00m\n\u001b[1;32m---> 11\u001b[0m gnb\u001b[39m.\u001b[39;49mflow\u001b[39m.\u001b[39;49mrow(m1)\n",
            "File \u001b[1;32mc:\\Users\\giova\\AppData\\Local\\Programs\\Python\\Python311\\Lib\\site-packages\\pyAgrum\\lib\\notebook.py:201\u001b[0m, in \u001b[0;36mFlowLayout.row\u001b[1;34m(self, captions, *args)\u001b[0m\n\u001b[0;32m    199\u001b[0m \u001b[39mfor\u001b[39;00m i, arg \u001b[39min\u001b[39;00m \u001b[39menumerate\u001b[39m(args):\n\u001b[0;32m    200\u001b[0m   \u001b[39mif\u001b[39;00m captions \u001b[39mis\u001b[39;00m \u001b[39mNone\u001b[39;00m:\n\u001b[1;32m--> 201\u001b[0m     \u001b[39mself\u001b[39;49m\u001b[39m.\u001b[39;49madd(arg)\n\u001b[0;32m    202\u001b[0m   \u001b[39melse\u001b[39;00m:\n\u001b[0;32m    203\u001b[0m     \u001b[39mself\u001b[39m\u001b[39m.\u001b[39madd(arg, captions[i])\n",
            "File \u001b[1;32mc:\\Users\\giova\\AppData\\Local\\Programs\\Python\\Python311\\Lib\\site-packages\\pyAgrum\\lib\\notebook.py:188\u001b[0m, in \u001b[0;36mFlowLayout.add\u001b[1;34m(self, obj, caption, title)\u001b[0m\n\u001b[0;32m    186\u001b[0m   \u001b[39mself\u001b[39m\u001b[39m.\u001b[39madd_plot(obj, cap)\n\u001b[0;32m    187\u001b[0m \u001b[39melif\u001b[39;00m \u001b[39mhasattr\u001b[39m(obj, \u001b[39m\"\u001b[39m\u001b[39m_repr_html_\u001b[39m\u001b[39m\"\u001b[39m):\n\u001b[1;32m--> 188\u001b[0m   \u001b[39mself\u001b[39m\u001b[39m.\u001b[39madd_html(obj\u001b[39m.\u001b[39;49m_repr_html_(), cap)\n\u001b[0;32m    189\u001b[0m \u001b[39melse\u001b[39;00m:\n\u001b[0;32m    190\u001b[0m   \u001b[39mself\u001b[39m\u001b[39m.\u001b[39madd_html(obj, cap)\n",
            "File \u001b[1;32mc:\\Users\\giova\\AppData\\Local\\Programs\\Python\\Python311\\Lib\\site-packages\\pyAgrum\\lib\\notebook.py:1571\u001b[0m, in \u001b[0;36m<lambda>\u001b[1;34m(self)\u001b[0m\n\u001b[0;32m   1568\u001b[0m gum\u001b[39m.\u001b[39mconfig\u001b[39m.\u001b[39mrun_hooks()\n\u001b[0;32m   1570\u001b[0m \u001b[39m# adding _repr_html_ to some pyAgrum classes !\u001b[39;00m\n\u001b[1;32m-> 1571\u001b[0m gum\u001b[39m.\u001b[39mBayesNet\u001b[39m.\u001b[39m_repr_html_ \u001b[39m=\u001b[39m \u001b[39mlambda\u001b[39;00m \u001b[39mself\u001b[39m: getBN(\u001b[39mself\u001b[39;49m)\n\u001b[0;32m   1572\u001b[0m gum\u001b[39m.\u001b[39mBayesNetFragment\u001b[39m.\u001b[39m_repr_html_ \u001b[39m=\u001b[39m \u001b[39mlambda\u001b[39;00m \u001b[39mself\u001b[39m: getBN(\u001b[39mself\u001b[39m)\n\u001b[0;32m   1573\u001b[0m gum\u001b[39m.\u001b[39mMarkovRandomField\u001b[39m.\u001b[39m_repr_html_ \u001b[39m=\u001b[39m \u001b[39mlambda\u001b[39;00m \u001b[39mself\u001b[39m: getMRF(\u001b[39mself\u001b[39m)\n",
            "File \u001b[1;32mc:\\Users\\giova\\AppData\\Local\\Programs\\Python\\Python311\\Lib\\site-packages\\pyAgrum\\lib\\notebook.py:938\u001b[0m, in \u001b[0;36mgetBN\u001b[1;34m(bn, size, nodeColor, arcWidth, arcLabel, arcColor, cmap, cmapArc)\u001b[0m\n\u001b[0;32m    935\u001b[0m \u001b[39mif\u001b[39;00m cmapArc \u001b[39mis\u001b[39;00m \u001b[39mNone\u001b[39;00m:\n\u001b[0;32m    936\u001b[0m   cmapArc \u001b[39m=\u001b[39m cmap\n\u001b[1;32m--> 938\u001b[0m \u001b[39mreturn\u001b[39;00m getGraph(\n\u001b[0;32m    939\u001b[0m   BN2dot(bn, size\u001b[39m=\u001b[39;49msize, nodeColor\u001b[39m=\u001b[39;49mnodeColor, arcWidth\u001b[39m=\u001b[39;49marcWidth, arcLabel\u001b[39m=\u001b[39;49marcLabel, arcColor\u001b[39m=\u001b[39;49marcColor, cmapNode\u001b[39m=\u001b[39;49mcmap,\n\u001b[0;32m    940\u001b[0m          cmapArc\u001b[39m=\u001b[39;49mcmapArc), size)\n",
            "File \u001b[1;32mc:\\Users\\giova\\AppData\\Local\\Programs\\Python\\Python311\\Lib\\site-packages\\pyAgrum\\lib\\notebook.py:320\u001b[0m, in \u001b[0;36mgetGraph\u001b[1;34m(gr, size)\u001b[0m\n\u001b[0;32m    317\u001b[0m gr\u001b[39m.\u001b[39mdel_node(\u001b[39m'\u001b[39m\u001b[39m\"\u001b[39m\u001b[39m\\\\\u001b[39;00m\u001b[39mn\u001b[39m\u001b[39m\"\u001b[39m\u001b[39m'\u001b[39m)\n\u001b[0;32m    318\u001b[0m gr\u001b[39m.\u001b[39mdel_node(\u001b[39m'\u001b[39m\u001b[39m\"\u001b[39m\u001b[39m\\\\\u001b[39;00m\u001b[39mn\u001b[39m\u001b[39m\\\\\u001b[39;00m\u001b[39mn\u001b[39m\u001b[39m\"\u001b[39m\u001b[39m'\u001b[39m)\n\u001b[1;32m--> 320\u001b[0m \u001b[39mreturn\u001b[39;00m _reprGraph(gr, size, asString\u001b[39m=\u001b[39;49m\u001b[39mTrue\u001b[39;49;00m)\n",
            "File \u001b[1;32mc:\\Users\\giova\\AppData\\Local\\Programs\\Python\\Python311\\Lib\\site-packages\\pyAgrum\\lib\\notebook.py:268\u001b[0m, in \u001b[0;36m_reprGraph\u001b[1;34m(gr, size, asString, format)\u001b[0m\n\u001b[0;32m    264\u001b[0m   \u001b[39mformat\u001b[39m \u001b[39m=\u001b[39m gum\u001b[39m.\u001b[39mconfig[\u001b[39m\"\u001b[39m\u001b[39mnotebook\u001b[39m\u001b[39m\"\u001b[39m, \u001b[39m\"\u001b[39m\u001b[39mgraph_format\u001b[39m\u001b[39m\"\u001b[39m]\n\u001b[0;32m    266\u001b[0m \u001b[39mif\u001b[39;00m \u001b[39mformat\u001b[39m \u001b[39m==\u001b[39m \u001b[39m\"\u001b[39m\u001b[39msvg\u001b[39m\u001b[39m\"\u001b[39m:\n\u001b[0;32m    267\u001b[0m   gsvg \u001b[39m=\u001b[39m IPython\u001b[39m.\u001b[39mdisplay\u001b[39m.\u001b[39mSVG(prepareLinksForSVG(\n\u001b[1;32m--> 268\u001b[0m     gr\u001b[39m.\u001b[39;49mcreate_svg(encoding\u001b[39m=\u001b[39;49m\u001b[39m\"\u001b[39;49m\u001b[39mutf-8\u001b[39;49m\u001b[39m\"\u001b[39;49m)\u001b[39m.\u001b[39mdecode(\u001b[39m'\u001b[39m\u001b[39mutf-8\u001b[39m\u001b[39m'\u001b[39m)))\n\u001b[0;32m    269\u001b[0m   \u001b[39mif\u001b[39;00m asString:\n\u001b[0;32m    270\u001b[0m     \u001b[39mreturn\u001b[39;00m gsvg\u001b[39m.\u001b[39mdata\n",
            "File \u001b[1;32mc:\\Users\\giova\\AppData\\Local\\Programs\\Python\\Python311\\Lib\\site-packages\\pydot.py:1733\u001b[0m, in \u001b[0;36mDot.__init__.<locals>.new_method\u001b[1;34m(f, prog, encoding)\u001b[0m\n\u001b[0;32m   1729\u001b[0m \u001b[39mdef\u001b[39;00m \u001b[39mnew_method\u001b[39m(\n\u001b[0;32m   1730\u001b[0m         f\u001b[39m=\u001b[39mfrmt, prog\u001b[39m=\u001b[39m\u001b[39mself\u001b[39m\u001b[39m.\u001b[39mprog,\n\u001b[0;32m   1731\u001b[0m         encoding\u001b[39m=\u001b[39m\u001b[39mNone\u001b[39;00m):\n\u001b[0;32m   1732\u001b[0m \u001b[39m    \u001b[39m\u001b[39m\"\"\"Refer to docstring of method `create`.\"\"\"\u001b[39;00m\n\u001b[1;32m-> 1733\u001b[0m     \u001b[39mreturn\u001b[39;00m \u001b[39mself\u001b[39;49m\u001b[39m.\u001b[39;49mcreate(\n\u001b[0;32m   1734\u001b[0m         \u001b[39mformat\u001b[39;49m\u001b[39m=\u001b[39;49mf, prog\u001b[39m=\u001b[39;49mprog, encoding\u001b[39m=\u001b[39;49mencoding)\n",
            "File \u001b[1;32mc:\\Users\\giova\\AppData\\Local\\Programs\\Python\\Python311\\Lib\\site-packages\\pydot.py:1933\u001b[0m, in \u001b[0;36mDot.create\u001b[1;34m(self, prog, format, encoding)\u001b[0m\n\u001b[0;32m   1930\u001b[0m     args \u001b[39m=\u001b[39m \u001b[39mlist\u001b[39m(e\u001b[39m.\u001b[39margs)\n\u001b[0;32m   1931\u001b[0m     args[\u001b[39m1\u001b[39m] \u001b[39m=\u001b[39m \u001b[39m'\u001b[39m\u001b[39m\"\u001b[39m\u001b[39m{prog}\u001b[39;00m\u001b[39m\"\u001b[39m\u001b[39m not found in path.\u001b[39m\u001b[39m'\u001b[39m\u001b[39m.\u001b[39mformat(\n\u001b[0;32m   1932\u001b[0m         prog\u001b[39m=\u001b[39mprog)\n\u001b[1;32m-> 1933\u001b[0m     \u001b[39mraise\u001b[39;00m \u001b[39mOSError\u001b[39;00m(\u001b[39m*\u001b[39margs)\n\u001b[0;32m   1934\u001b[0m \u001b[39melse\u001b[39;00m:\n\u001b[0;32m   1935\u001b[0m     \u001b[39mraise\u001b[39;00m\n",
            "\u001b[1;31mFileNotFoundError\u001b[0m: [WinError 2] \"dot\" not found in path."
          ]
        }
      ],
      "source": [
        "m1 = gum.fastBN(\"Gender{F|M}->Drug{Without|With}->Patient{Sick|Healed}<-Gender\")\n",
        "\n",
        "m1.cpt(\"Gender\")[:]=[0.5,0.5]\n",
        "m1.cpt(\"Drug\")[:]=[[0.25,0.75],  #Gender=F\n",
        "                   [0.75,0.25]]  #Gender=M\n",
        "\n",
        "m1.cpt(\"Patient\")[{'Drug':'Without','Gender':'F'}]=[0.2,0.8] #No Drug, Male -> healed in 0.8 of cases\n",
        "m1.cpt(\"Patient\")[{'Drug':'Without','Gender':'M'}]=[0.6,0.4] #No Drug, Female -> healed in 0.4 of cases\n",
        "m1.cpt(\"Patient\")[{'Drug':'With','Gender':'F'}]=[0.3,0.7] #Drug, Male -> healed 0.7 of cases\n",
        "m1.cpt(\"Patient\")[{'Drug':'With','Gender':'M'}]=[0.8,0.2] #Drug, Female -> healed in 0.2 of cases\n",
        "gnb.flow.row(m1)"
      ]
    },
    {
      "cell_type": "code",
      "execution_count": 6,
      "metadata": {
        "colab": {
          "base_uri": "https://localhost:8080/",
          "height": 243
        },
        "id": "6TF8KLPyekXA",
        "outputId": "2ff3822d-eae1-425a-cd90-bade64668de7"
      },
      "outputs": [
        {
          "data": {
            "text/html": [
              "<table style=\"border-style: hidden; border-collapse: collapse;\" width=\"100%\"><tr><td style=\"border-top:hidden;border-bottom:hidden;vertical-align:middle;\"><div align=\"center\" style=\"vertical-align:middle;\"><table style=\"border:1px solid black;\">\n",
              "<tr style='border:1px solid black;color:black;background-color:#808080'>\n",
              "      <th colspan='2'><center>Drug</center></th></tr>\n",
              "<tr><th style='border:1px solid black;border-bottom-style: double;color:black;background-color:#BBBBBB'>\n",
              "      <center>Without</center></th><th style='border:1px solid black;border-bottom-style: double;color:black;background-color:#BBBBBB'>\n",
              "      <center>With</center></th></tr>\n",
              "<tr><td style='text-align:right;'>0.5000</td><td style='text-align:right;'>0.5750</td></tr>\n",
              "</table><br><small><i>$P(Patient = Healed \\mid Drug )$<br/>Taking $Drug$ is observed as efficient to cure</i></small></div></td><td style=\"border-top:hidden;border-bottom:hidden;vertical-align:middle;\"><div align=\"center\" style=\"vertical-align:middle;\"><table style=\"border:1px solid black;\">\n",
              "<tr style='border:1px solid black;color:black;background-color:#808080'>\n",
              "      <th colspan='2'><center>Drug</center></th></tr>\n",
              "<tr><th style='border:1px solid black;border-bottom-style: double;color:black;background-color:#BBBBBB'>\n",
              "      <center>Without</center></th><th style='border:1px solid black;border-bottom-style: double;color:black;background-color:#BBBBBB'>\n",
              "      <center>With</center></th></tr>\n",
              "<tr><td style='text-align:right;'>0.8000</td><td style='text-align:right;'>0.7000</td></tr>\n",
              "</table><br><small><i>$P(Patient = Healed \\mid Gender=F,Drug)$<br/>except if the $gender$ of the patient is female</i></small></div></td><td style=\"border-top:hidden;border-bottom:hidden;vertical-align:middle;\"><div align=\"center\" style=\"vertical-align:middle;\"><table style=\"border:1px solid black;\">\n",
              "<tr style='border:1px solid black;color:black;background-color:#808080'>\n",
              "      <th colspan='2'><center>Drug</center></th></tr>\n",
              "<tr><th style='border:1px solid black;border-bottom-style: double;color:black;background-color:#BBBBBB'>\n",
              "      <center>Without</center></th><th style='border:1px solid black;border-bottom-style: double;color:black;background-color:#BBBBBB'>\n",
              "      <center>With</center></th></tr>\n",
              "<tr><td style='text-align:right;'>0.4000</td><td style='text-align:right;'>0.2000</td></tr>\n",
              "</table><br><small><i>$P(Patient = Healed \\mid Gender=M,Drug)$<br/>... or male.</i></small></div></td></tr></table>"
            ],
            "text/plain": [
              "<IPython.core.display.HTML object>"
            ]
          },
          "metadata": {},
          "output_type": "display_data"
        }
      ],
      "source": [
        "def getCuredObservedProba(m1,evs):\n",
        "    evs0=dict(evs)\n",
        "    evs1=dict(evs)\n",
        "    evs0[\"Drug\"]='Without' \n",
        "    evs1[\"Drug\"]='With'\n",
        "    \n",
        "    return gum.Potential().add(m1.variableFromName(\"Drug\")).fillWith([\n",
        "            gum.getPosterior(m1,target=\"Patient\",evs=evs0)[1],\n",
        "            gum.getPosterior(m1,target=\"Patient\",evs=evs1)[1]\n",
        "        ])\n",
        "    \n",
        "\n",
        "gnb.sideBySide(getCuredObservedProba(m1,{}),\n",
        "               getCuredObservedProba(m1,{'Gender':'F'}),\n",
        "               getCuredObservedProba(m1,{'Gender':'M'}),\n",
        "               captions=[\"$P(Patient = Healed \\mid Drug )$<br/>Taking $Drug$ is observed as efficient to cure\",\n",
        "                         \"$P(Patient = Healed \\mid Gender=F,Drug)$<br/>except if the $gender$ of the patient is female\",\n",
        "                         \"$P(Patient = Healed \\mid Gender=M,Drug)$<br/>... or male.\"])"
      ]
    },
    {
      "cell_type": "markdown",
      "metadata": {
        "id": "7TDuk_m0et5a"
      },
      "source": [
        "Those results form a paradox called Simpson paradox :\n",
        "\n",
        "$\n",
        "\\begin{align*}\n",
        "P(C | \\neg D) &= 0.5 < P(C |D) = 0.575\\\\\n",
        "P(C | \\neg D, G = Male) &= 0.8 > P(C |D, G= Male) = 0.7\\\\\n",
        "P(C | \\neg D, G = Female) &= 0.4 > P(C |D, G= Female) = 0.2\\\\\n",
        "\\end{align*}\n",
        "$\n",
        "\n",
        "Actually, giving a drug is not an observation in our model but rather an intervention. What if we use intervention instead of observation ?"
      ]
    },
    {
      "cell_type": "markdown",
      "metadata": {
        "id": "fcPScjhHgHeO"
      },
      "source": [
        "How to compute causal impacts on the patient’s health ?\n",
        "We propose this causal model."
      ]
    },
    {
      "cell_type": "code",
      "execution_count": 4,
      "metadata": {
        "colab": {
          "base_uri": "https://localhost:8080/",
          "height": 261
        },
        "id": "rJzNl2m2gNEC",
        "outputId": "75b40185-9380-4fbd-ed0c-233f8ad671fe"
      },
      "outputs": [
        {
          "ename": "FileNotFoundError",
          "evalue": "[WinError 2] \"dot\" not found in path.",
          "output_type": "error",
          "traceback": [
            "\u001b[1;31m---------------------------------------------------------------------------\u001b[0m",
            "\u001b[1;31mFileNotFoundError\u001b[0m                         Traceback (most recent call last)",
            "File \u001b[1;32mc:\\Users\\giova\\AppData\\Local\\Programs\\Python\\Python311\\Lib\\site-packages\\pydot.py:1923\u001b[0m, in \u001b[0;36mDot.create\u001b[1;34m(self, prog, format, encoding)\u001b[0m\n\u001b[0;32m   1922\u001b[0m \u001b[39mtry\u001b[39;00m:\n\u001b[1;32m-> 1923\u001b[0m     stdout_data, stderr_data, process \u001b[39m=\u001b[39m call_graphviz(\n\u001b[0;32m   1924\u001b[0m         program\u001b[39m=\u001b[39;49mprog,\n\u001b[0;32m   1925\u001b[0m         arguments\u001b[39m=\u001b[39;49marguments,\n\u001b[0;32m   1926\u001b[0m         working_dir\u001b[39m=\u001b[39;49mtmp_dir,\n\u001b[0;32m   1927\u001b[0m     )\n\u001b[0;32m   1928\u001b[0m \u001b[39mexcept\u001b[39;00m \u001b[39mOSError\u001b[39;00m \u001b[39mas\u001b[39;00m e:\n",
            "File \u001b[1;32mc:\\Users\\giova\\AppData\\Local\\Programs\\Python\\Python311\\Lib\\site-packages\\pydot.py:132\u001b[0m, in \u001b[0;36mcall_graphviz\u001b[1;34m(program, arguments, working_dir, **kwargs)\u001b[0m\n\u001b[0;32m    130\u001b[0m program_with_args \u001b[39m=\u001b[39m [program, ] \u001b[39m+\u001b[39m arguments\n\u001b[1;32m--> 132\u001b[0m process \u001b[39m=\u001b[39m subprocess\u001b[39m.\u001b[39;49mPopen(\n\u001b[0;32m    133\u001b[0m     program_with_args,\n\u001b[0;32m    134\u001b[0m     env\u001b[39m=\u001b[39;49menv,\n\u001b[0;32m    135\u001b[0m     cwd\u001b[39m=\u001b[39;49mworking_dir,\n\u001b[0;32m    136\u001b[0m     shell\u001b[39m=\u001b[39;49m\u001b[39mFalse\u001b[39;49;00m,\n\u001b[0;32m    137\u001b[0m     stderr\u001b[39m=\u001b[39;49msubprocess\u001b[39m.\u001b[39;49mPIPE,\n\u001b[0;32m    138\u001b[0m     stdout\u001b[39m=\u001b[39;49msubprocess\u001b[39m.\u001b[39;49mPIPE,\n\u001b[0;32m    139\u001b[0m     \u001b[39m*\u001b[39;49m\u001b[39m*\u001b[39;49mkwargs\n\u001b[0;32m    140\u001b[0m )\n\u001b[0;32m    141\u001b[0m stdout_data, stderr_data \u001b[39m=\u001b[39m process\u001b[39m.\u001b[39mcommunicate()\n",
            "File \u001b[1;32mc:\\Users\\giova\\AppData\\Local\\Programs\\Python\\Python311\\Lib\\subprocess.py:1024\u001b[0m, in \u001b[0;36mPopen.__init__\u001b[1;34m(self, args, bufsize, executable, stdin, stdout, stderr, preexec_fn, close_fds, shell, cwd, env, universal_newlines, startupinfo, creationflags, restore_signals, start_new_session, pass_fds, user, group, extra_groups, encoding, errors, text, umask, pipesize, process_group)\u001b[0m\n\u001b[0;32m   1021\u001b[0m             \u001b[39mself\u001b[39m\u001b[39m.\u001b[39mstderr \u001b[39m=\u001b[39m io\u001b[39m.\u001b[39mTextIOWrapper(\u001b[39mself\u001b[39m\u001b[39m.\u001b[39mstderr,\n\u001b[0;32m   1022\u001b[0m                     encoding\u001b[39m=\u001b[39mencoding, errors\u001b[39m=\u001b[39merrors)\n\u001b[1;32m-> 1024\u001b[0m     \u001b[39mself\u001b[39;49m\u001b[39m.\u001b[39;49m_execute_child(args, executable, preexec_fn, close_fds,\n\u001b[0;32m   1025\u001b[0m                         pass_fds, cwd, env,\n\u001b[0;32m   1026\u001b[0m                         startupinfo, creationflags, shell,\n\u001b[0;32m   1027\u001b[0m                         p2cread, p2cwrite,\n\u001b[0;32m   1028\u001b[0m                         c2pread, c2pwrite,\n\u001b[0;32m   1029\u001b[0m                         errread, errwrite,\n\u001b[0;32m   1030\u001b[0m                         restore_signals,\n\u001b[0;32m   1031\u001b[0m                         gid, gids, uid, umask,\n\u001b[0;32m   1032\u001b[0m                         start_new_session, process_group)\n\u001b[0;32m   1033\u001b[0m \u001b[39mexcept\u001b[39;00m:\n\u001b[0;32m   1034\u001b[0m     \u001b[39m# Cleanup if the child failed starting.\u001b[39;00m\n",
            "File \u001b[1;32mc:\\Users\\giova\\AppData\\Local\\Programs\\Python\\Python311\\Lib\\subprocess.py:1509\u001b[0m, in \u001b[0;36mPopen._execute_child\u001b[1;34m(self, args, executable, preexec_fn, close_fds, pass_fds, cwd, env, startupinfo, creationflags, shell, p2cread, p2cwrite, c2pread, c2pwrite, errread, errwrite, unused_restore_signals, unused_gid, unused_gids, unused_uid, unused_umask, unused_start_new_session, unused_process_group)\u001b[0m\n\u001b[0;32m   1508\u001b[0m \u001b[39mtry\u001b[39;00m:\n\u001b[1;32m-> 1509\u001b[0m     hp, ht, pid, tid \u001b[39m=\u001b[39m _winapi\u001b[39m.\u001b[39;49mCreateProcess(executable, args,\n\u001b[0;32m   1510\u001b[0m                              \u001b[39m# no special security\u001b[39;49;00m\n\u001b[0;32m   1511\u001b[0m                              \u001b[39mNone\u001b[39;49;00m, \u001b[39mNone\u001b[39;49;00m,\n\u001b[0;32m   1512\u001b[0m                              \u001b[39mint\u001b[39;49m(\u001b[39mnot\u001b[39;49;00m close_fds),\n\u001b[0;32m   1513\u001b[0m                              creationflags,\n\u001b[0;32m   1514\u001b[0m                              env,\n\u001b[0;32m   1515\u001b[0m                              cwd,\n\u001b[0;32m   1516\u001b[0m                              startupinfo)\n\u001b[0;32m   1517\u001b[0m \u001b[39mfinally\u001b[39;00m:\n\u001b[0;32m   1518\u001b[0m     \u001b[39m# Child is launched. Close the parent's copy of those pipe\u001b[39;00m\n\u001b[0;32m   1519\u001b[0m     \u001b[39m# handles that only the child should have open.  You need\u001b[39;00m\n\u001b[1;32m   (...)\u001b[0m\n\u001b[0;32m   1522\u001b[0m     \u001b[39m# pipe will not close when the child process exits and the\u001b[39;00m\n\u001b[0;32m   1523\u001b[0m     \u001b[39m# ReadFile will hang.\u001b[39;00m\n",
            "\u001b[1;31mFileNotFoundError\u001b[0m: [WinError 2] Impossibile trovare il file specificato",
            "\nDuring handling of the above exception, another exception occurred:\n",
            "\u001b[1;31mFileNotFoundError\u001b[0m                         Traceback (most recent call last)",
            "Cell \u001b[1;32mIn[4], line 2\u001b[0m\n\u001b[0;32m      1\u001b[0m d1 \u001b[39m=\u001b[39m csl\u001b[39m.\u001b[39mCausalModel(m1)\n\u001b[1;32m----> 2\u001b[0m cslnb\u001b[39m.\u001b[39;49mshowCausalModel(d1)\n",
            "File \u001b[1;32mc:\\Users\\giova\\AppData\\Local\\Programs\\Python\\Python311\\Lib\\site-packages\\pyAgrum\\causal\\notebook.py:70\u001b[0m, in \u001b[0;36mshowCausalModel\u001b[1;34m(cm, size)\u001b[0m\n\u001b[0;32m     68\u001b[0m \u001b[39mif\u001b[39;00m size \u001b[39mis\u001b[39;00m \u001b[39mNone\u001b[39;00m:\n\u001b[0;32m     69\u001b[0m   size\u001b[39m=\u001b[39mpyAgrum\u001b[39m.\u001b[39mconfig[\u001b[39m'\u001b[39m\u001b[39mcausal\u001b[39m\u001b[39m'\u001b[39m, \u001b[39m'\u001b[39m\u001b[39mdefault_graph_size\u001b[39m\u001b[39m'\u001b[39m]\n\u001b[1;32m---> 70\u001b[0m gnb\u001b[39m.\u001b[39;49mshowDot(cm\u001b[39m.\u001b[39;49mtoDot(),size\u001b[39m=\u001b[39;49msize)\n",
            "File \u001b[1;32mc:\\Users\\giova\\AppData\\Local\\Programs\\Python\\Python311\\Lib\\site-packages\\pyAgrum\\lib\\notebook.py:355\u001b[0m, in \u001b[0;36mshowDot\u001b[1;34m(dotstring, size)\u001b[0m\n\u001b[0;32m    353\u001b[0m \u001b[39mif\u001b[39;00m size \u001b[39mis\u001b[39;00m \u001b[39mNone\u001b[39;00m:\n\u001b[0;32m    354\u001b[0m   size \u001b[39m=\u001b[39m gum\u001b[39m.\u001b[39mconfig[\u001b[39m\"\u001b[39m\u001b[39mnotebook\u001b[39m\u001b[39m\"\u001b[39m, \u001b[39m\"\u001b[39m\u001b[39mdefault_graph_size\u001b[39m\u001b[39m\"\u001b[39m]\n\u001b[1;32m--> 355\u001b[0m showGraph(_from_dotstring(dotstring), size)\n",
            "File \u001b[1;32mc:\\Users\\giova\\AppData\\Local\\Programs\\Python\\Python311\\Lib\\site-packages\\pyAgrum\\lib\\notebook.py:295\u001b[0m, in \u001b[0;36mshowGraph\u001b[1;34m(gr, size)\u001b[0m\n\u001b[0;32m    292\u001b[0m \u001b[39mif\u001b[39;00m size \u001b[39mis\u001b[39;00m \u001b[39mNone\u001b[39;00m:\n\u001b[0;32m    293\u001b[0m   size \u001b[39m=\u001b[39m gum\u001b[39m.\u001b[39mconfig[\u001b[39m\"\u001b[39m\u001b[39mnotebook\u001b[39m\u001b[39m\"\u001b[39m, \u001b[39m\"\u001b[39m\u001b[39mdefault_graph_size\u001b[39m\u001b[39m\"\u001b[39m]\n\u001b[1;32m--> 295\u001b[0m \u001b[39mreturn\u001b[39;00m _reprGraph(gr, size, asString\u001b[39m=\u001b[39;49m\u001b[39mFalse\u001b[39;49;00m)\n",
            "File \u001b[1;32mc:\\Users\\giova\\AppData\\Local\\Programs\\Python\\Python311\\Lib\\site-packages\\pyAgrum\\lib\\notebook.py:268\u001b[0m, in \u001b[0;36m_reprGraph\u001b[1;34m(gr, size, asString, format)\u001b[0m\n\u001b[0;32m    264\u001b[0m   \u001b[39mformat\u001b[39m \u001b[39m=\u001b[39m gum\u001b[39m.\u001b[39mconfig[\u001b[39m\"\u001b[39m\u001b[39mnotebook\u001b[39m\u001b[39m\"\u001b[39m, \u001b[39m\"\u001b[39m\u001b[39mgraph_format\u001b[39m\u001b[39m\"\u001b[39m]\n\u001b[0;32m    266\u001b[0m \u001b[39mif\u001b[39;00m \u001b[39mformat\u001b[39m \u001b[39m==\u001b[39m \u001b[39m\"\u001b[39m\u001b[39msvg\u001b[39m\u001b[39m\"\u001b[39m:\n\u001b[0;32m    267\u001b[0m   gsvg \u001b[39m=\u001b[39m IPython\u001b[39m.\u001b[39mdisplay\u001b[39m.\u001b[39mSVG(prepareLinksForSVG(\n\u001b[1;32m--> 268\u001b[0m     gr\u001b[39m.\u001b[39;49mcreate_svg(encoding\u001b[39m=\u001b[39;49m\u001b[39m\"\u001b[39;49m\u001b[39mutf-8\u001b[39;49m\u001b[39m\"\u001b[39;49m)\u001b[39m.\u001b[39mdecode(\u001b[39m'\u001b[39m\u001b[39mutf-8\u001b[39m\u001b[39m'\u001b[39m)))\n\u001b[0;32m    269\u001b[0m   \u001b[39mif\u001b[39;00m asString:\n\u001b[0;32m    270\u001b[0m     \u001b[39mreturn\u001b[39;00m gsvg\u001b[39m.\u001b[39mdata\n",
            "File \u001b[1;32mc:\\Users\\giova\\AppData\\Local\\Programs\\Python\\Python311\\Lib\\site-packages\\pydot.py:1733\u001b[0m, in \u001b[0;36mDot.__init__.<locals>.new_method\u001b[1;34m(f, prog, encoding)\u001b[0m\n\u001b[0;32m   1729\u001b[0m \u001b[39mdef\u001b[39;00m \u001b[39mnew_method\u001b[39m(\n\u001b[0;32m   1730\u001b[0m         f\u001b[39m=\u001b[39mfrmt, prog\u001b[39m=\u001b[39m\u001b[39mself\u001b[39m\u001b[39m.\u001b[39mprog,\n\u001b[0;32m   1731\u001b[0m         encoding\u001b[39m=\u001b[39m\u001b[39mNone\u001b[39;00m):\n\u001b[0;32m   1732\u001b[0m \u001b[39m    \u001b[39m\u001b[39m\"\"\"Refer to docstring of method `create`.\"\"\"\u001b[39;00m\n\u001b[1;32m-> 1733\u001b[0m     \u001b[39mreturn\u001b[39;00m \u001b[39mself\u001b[39;49m\u001b[39m.\u001b[39;49mcreate(\n\u001b[0;32m   1734\u001b[0m         \u001b[39mformat\u001b[39;49m\u001b[39m=\u001b[39;49mf, prog\u001b[39m=\u001b[39;49mprog, encoding\u001b[39m=\u001b[39;49mencoding)\n",
            "File \u001b[1;32mc:\\Users\\giova\\AppData\\Local\\Programs\\Python\\Python311\\Lib\\site-packages\\pydot.py:1933\u001b[0m, in \u001b[0;36mDot.create\u001b[1;34m(self, prog, format, encoding)\u001b[0m\n\u001b[0;32m   1930\u001b[0m     args \u001b[39m=\u001b[39m \u001b[39mlist\u001b[39m(e\u001b[39m.\u001b[39margs)\n\u001b[0;32m   1931\u001b[0m     args[\u001b[39m1\u001b[39m] \u001b[39m=\u001b[39m \u001b[39m'\u001b[39m\u001b[39m\"\u001b[39m\u001b[39m{prog}\u001b[39;00m\u001b[39m\"\u001b[39m\u001b[39m not found in path.\u001b[39m\u001b[39m'\u001b[39m\u001b[39m.\u001b[39mformat(\n\u001b[0;32m   1932\u001b[0m         prog\u001b[39m=\u001b[39mprog)\n\u001b[1;32m-> 1933\u001b[0m     \u001b[39mraise\u001b[39;00m \u001b[39mOSError\u001b[39;00m(\u001b[39m*\u001b[39margs)\n\u001b[0;32m   1934\u001b[0m \u001b[39melse\u001b[39;00m:\n\u001b[0;32m   1935\u001b[0m     \u001b[39mraise\u001b[39;00m\n",
            "\u001b[1;31mFileNotFoundError\u001b[0m: [WinError 2] \"dot\" not found in path."
          ]
        }
      ],
      "source": [
        "d1 = csl.CausalModel(m1)\n",
        "cslnb.showCausalModel(d1)"
      ]
    },
    {
      "cell_type": "markdown",
      "metadata": {
        "id": "Uto714OdgWRq"
      },
      "source": [
        "Computing P(Patient=Healed∣↪Drug=Without)"
      ]
    },
    {
      "cell_type": "code",
      "execution_count": null,
      "metadata": {
        "colab": {
          "base_uri": "https://localhost:8080/",
          "height": 299
        },
        "id": "CQGO5lEMgYgd",
        "outputId": "72bbd3ed-e274-4052-dc4a-41de1800aa7a"
      },
      "outputs": [
        {
          "data": {
            "text/html": [
              "\n",
              "      <style>\n",
              "      .floating-box {\n",
              "      display: inline-block;\n",
              "      margin: 7px;\n",
              "      padding : 3px;\n",
              "      border: 0px solid transparent;  \n",
              "      valign:middle;\n",
              "      background-color: transparent;\n",
              "      }\n",
              "      </style>\n",
              "      <div class=\"floating-box\"><svg xmlns=\"http://www.w3.org/2000/svg\" xmlns:xlink=\"http://www.w3.org/1999/xlink\" width=\"97pt\" height=\"180pt\" viewBox=\"0.00 0.00 96.70 180.00\">\n",
              "<g id=\"graph0\" class=\"graph\" transform=\"scale(1.04 1.04) rotate(0) translate(4 184)\">\n",
              "<title>G</title>\n",
              "<!-- Gender -->\n",
              "<g id=\"node1\" class=\"node\">\n",
              "<title>Gender</title>\n",
              "<ellipse fill=\"#404040\" stroke=\"#4a4a4a\" cx=\"56.6\" cy=\"-162\" rx=\"36.29\" ry=\"18\"/>\n",
              "<text text-anchor=\"middle\" x=\"56.6\" y=\"-158.3\" font-family=\"Times,serif\" font-size=\"14.00\" fill=\"white\">Gender</text>\n",
              "</g>\n",
              "<!-- Drug -->\n",
              "<g id=\"node2\" class=\"node\">\n",
              "<title>Drug</title>\n",
              "<ellipse fill=\"#404040\" stroke=\"#4a4a4a\" cx=\"28.6\" cy=\"-90\" rx=\"28.7\" ry=\"18\"/>\n",
              "<text text-anchor=\"middle\" x=\"28.6\" y=\"-86.3\" font-family=\"Times,serif\" font-size=\"14.00\" fill=\"white\">Drug</text>\n",
              "</g>\n",
              "<!-- Gender&#45;&gt;Drug -->\n",
              "<g id=\"edge1\" class=\"edge\">\n",
              "<title>Gender-&gt;Drug</title>\n",
              "<path fill=\"none\" stroke=\"#4a4a4a\" d=\"M48.89,-144.43C45.66,-136.34 41.72,-126.49 38.11,-117.48\"/>\n",
              "<path fill=\"none\" stroke=\"#4a4a4a\" d=\"M50.75,-143.68C47.51,-135.6 43.57,-125.75 39.97,-116.74\"/>\n",
              "<polygon fill=\"#4a4a4a\" stroke=\"#4a4a4a\" points=\"42.28,-115.77 35.31,-107.79 35.78,-118.37 42.28,-115.77\"/>\n",
              "</g>\n",
              "<!-- Patient -->\n",
              "<g id=\"node3\" class=\"node\">\n",
              "<title>Patient</title>\n",
              "<ellipse fill=\"#404040\" stroke=\"#4a4a4a\" cx=\"56.6\" cy=\"-18\" rx=\"35.19\" ry=\"18\"/>\n",
              "<text text-anchor=\"middle\" x=\"56.6\" y=\"-14.3\" font-family=\"Times,serif\" font-size=\"14.00\" fill=\"white\">Patient</text>\n",
              "</g>\n",
              "<!-- Gender&#45;&gt;Patient -->\n",
              "<g id=\"edge2\" class=\"edge\">\n",
              "<title>Gender-&gt;Patient</title>\n",
              "<path fill=\"none\" stroke=\"#4a4a4a\" d=\"M59.68,-143.72C61.92,-133.41 64.48,-119.93 65.6,-107.91 67.09,-92.07 67.09,-87.93 65.6,-72.09 64.81,-63.64 63.31,-54.45 61.71,-46.18\"/>\n",
              "<path fill=\"none\" stroke=\"#4a4a4a\" d=\"M61.63,-144.14C63.89,-133.78 66.45,-120.31 67.59,-108.09 69.09,-92.07 69.09,-87.93 67.59,-71.91 66.79,-63.32 65.28,-54.12 63.68,-45.8\"/>\n",
              "<polygon fill=\"#4a4a4a\" stroke=\"#4a4a4a\" points=\"66.1,-45.16 60.66,-36.07 59.24,-46.57 66.1,-45.16\"/>\n",
              "</g>\n",
              "<!-- Drug&#45;&gt;Patient -->\n",
              "<g id=\"edge3\" class=\"edge\">\n",
              "<title>Drug-&gt;Patient</title>\n",
              "<path fill=\"none\" stroke=\"#4a4a4a\" d=\"M34.3,-72.04C37.53,-63.96 41.5,-54.06 45.13,-44.98\"/>\n",
              "<path fill=\"none\" stroke=\"#4a4a4a\" d=\"M36.16,-72.78C39.39,-64.71 43.35,-54.8 46.98,-45.73\"/>\n",
              "<polygon fill=\"#4a4a4a\" stroke=\"#4a4a4a\" points=\"49.35,-46.54 49.81,-35.96 42.85,-43.94 49.35,-46.54\"/>\n",
              "</g>\n",
              "</g>\n",
              "</svg><br><center><small><em>Causal Model</em></small></center></div><div class=\"floating-box\">$$\\begin{equation*}P( Patient \\mid \\hookrightarrow\\mkern-6.5muDrug) = \\sum_{Gender}{P\\left(Patient\\mid Drug,Gender\\right) \\cdot P\\left(Gender\\right)}\\end{equation*}$$<br><center><small><em>Explanation : backdoor ['Gender'] found.</em></small></center></div><div class=\"floating-box\"><table style=\"border:1px solid black;\">\n",
              "<tr style='border:1px solid black;color:black;background-color:#808080'>\n",
              "      <th colspan='2'><center>Patient</center></th></tr>\n",
              "<tr><th style='border:1px solid black;border-bottom-style: double;color:black;background-color:#BBBBBB'>\n",
              "      <center>Sick</center></th><th style='border:1px solid black;border-bottom-style: double;color:black;background-color:#BBBBBB'>\n",
              "      <center>Healed</center></th></tr>\n",
              "<tr><td style='color:black;background-color:#cbb264;text-align:right;'>0.4000</td><td style='color:black;background-color:#b2cb64;text-align:right;'>0.6000</td></tr>\n",
              "</table><br><center><small><em>Impact</em></small></center></div>"
            ],
            "text/plain": [
              "<IPython.core.display.HTML object>"
            ]
          },
          "metadata": {},
          "output_type": "display_data"
        }
      ],
      "source": [
        "cslnb.showCausalImpact(d1, \"Patient\", doing=\"Drug\",values={\"Drug\" : \"Without\"})"
      ]
    },
    {
      "cell_type": "markdown",
      "metadata": {
        "id": "JWp0pKg1gqg0"
      },
      "source": [
        "Computing  P(Patient=Healed∣↪Drug=With)"
      ]
    },
    {
      "cell_type": "code",
      "execution_count": null,
      "metadata": {
        "colab": {
          "base_uri": "https://localhost:8080/",
          "height": 299
        },
        "id": "ygG4QSJggwJG",
        "outputId": "a54be2c4-0efd-45a3-8f97-d4264f9c617d"
      },
      "outputs": [
        {
          "data": {
            "text/html": [
              "\n",
              "      <style>\n",
              "      .floating-box {\n",
              "      display: inline-block;\n",
              "      margin: 7px;\n",
              "      padding : 3px;\n",
              "      border: 0px solid transparent;  \n",
              "      valign:middle;\n",
              "      background-color: transparent;\n",
              "      }\n",
              "      </style>\n",
              "      <div class=\"floating-box\"><svg xmlns=\"http://www.w3.org/2000/svg\" xmlns:xlink=\"http://www.w3.org/1999/xlink\" width=\"97pt\" height=\"180pt\" viewBox=\"0.00 0.00 96.70 180.00\">\n",
              "<g id=\"graph0\" class=\"graph\" transform=\"scale(1.04 1.04) rotate(0) translate(4 184)\">\n",
              "<title>G</title>\n",
              "<!-- Gender -->\n",
              "<g id=\"node1\" class=\"node\">\n",
              "<title>Gender</title>\n",
              "<ellipse fill=\"#404040\" stroke=\"#4a4a4a\" cx=\"56.6\" cy=\"-162\" rx=\"36.29\" ry=\"18\"/>\n",
              "<text text-anchor=\"middle\" x=\"56.6\" y=\"-158.3\" font-family=\"Times,serif\" font-size=\"14.00\" fill=\"white\">Gender</text>\n",
              "</g>\n",
              "<!-- Drug -->\n",
              "<g id=\"node2\" class=\"node\">\n",
              "<title>Drug</title>\n",
              "<ellipse fill=\"#404040\" stroke=\"#4a4a4a\" cx=\"28.6\" cy=\"-90\" rx=\"28.7\" ry=\"18\"/>\n",
              "<text text-anchor=\"middle\" x=\"28.6\" y=\"-86.3\" font-family=\"Times,serif\" font-size=\"14.00\" fill=\"white\">Drug</text>\n",
              "</g>\n",
              "<!-- Gender&#45;&gt;Drug -->\n",
              "<g id=\"edge1\" class=\"edge\">\n",
              "<title>Gender-&gt;Drug</title>\n",
              "<path fill=\"none\" stroke=\"#4a4a4a\" d=\"M48.89,-144.43C45.66,-136.34 41.72,-126.49 38.11,-117.48\"/>\n",
              "<path fill=\"none\" stroke=\"#4a4a4a\" d=\"M50.75,-143.68C47.51,-135.6 43.57,-125.75 39.97,-116.74\"/>\n",
              "<polygon fill=\"#4a4a4a\" stroke=\"#4a4a4a\" points=\"42.28,-115.77 35.31,-107.79 35.78,-118.37 42.28,-115.77\"/>\n",
              "</g>\n",
              "<!-- Patient -->\n",
              "<g id=\"node3\" class=\"node\">\n",
              "<title>Patient</title>\n",
              "<ellipse fill=\"#404040\" stroke=\"#4a4a4a\" cx=\"56.6\" cy=\"-18\" rx=\"35.19\" ry=\"18\"/>\n",
              "<text text-anchor=\"middle\" x=\"56.6\" y=\"-14.3\" font-family=\"Times,serif\" font-size=\"14.00\" fill=\"white\">Patient</text>\n",
              "</g>\n",
              "<!-- Gender&#45;&gt;Patient -->\n",
              "<g id=\"edge2\" class=\"edge\">\n",
              "<title>Gender-&gt;Patient</title>\n",
              "<path fill=\"none\" stroke=\"#4a4a4a\" d=\"M59.68,-143.72C61.92,-133.41 64.48,-119.93 65.6,-107.91 67.09,-92.07 67.09,-87.93 65.6,-72.09 64.81,-63.64 63.31,-54.45 61.71,-46.18\"/>\n",
              "<path fill=\"none\" stroke=\"#4a4a4a\" d=\"M61.63,-144.14C63.89,-133.78 66.45,-120.31 67.59,-108.09 69.09,-92.07 69.09,-87.93 67.59,-71.91 66.79,-63.32 65.28,-54.12 63.68,-45.8\"/>\n",
              "<polygon fill=\"#4a4a4a\" stroke=\"#4a4a4a\" points=\"66.1,-45.16 60.66,-36.07 59.24,-46.57 66.1,-45.16\"/>\n",
              "</g>\n",
              "<!-- Drug&#45;&gt;Patient -->\n",
              "<g id=\"edge3\" class=\"edge\">\n",
              "<title>Drug-&gt;Patient</title>\n",
              "<path fill=\"none\" stroke=\"#4a4a4a\" d=\"M34.3,-72.04C37.53,-63.96 41.5,-54.06 45.13,-44.98\"/>\n",
              "<path fill=\"none\" stroke=\"#4a4a4a\" d=\"M36.16,-72.78C39.39,-64.71 43.35,-54.8 46.98,-45.73\"/>\n",
              "<polygon fill=\"#4a4a4a\" stroke=\"#4a4a4a\" points=\"49.35,-46.54 49.81,-35.96 42.85,-43.94 49.35,-46.54\"/>\n",
              "</g>\n",
              "</g>\n",
              "</svg><br><center><small><em>Causal Model</em></small></center></div><div class=\"floating-box\">$$\\begin{equation*}P( Patient \\mid \\hookrightarrow\\mkern-6.5muDrug) = \\sum_{Gender}{P\\left(Patient\\mid Drug,Gender\\right) \\cdot P\\left(Gender\\right)}\\end{equation*}$$<br><center><small><em>Explanation : backdoor ['Gender'] found.</em></small></center></div><div class=\"floating-box\"><table style=\"border:1px solid black;\">\n",
              "<tr style='border:1px solid black;color:black;background-color:#808080'>\n",
              "      <th colspan='2'><center>Patient</center></th></tr>\n",
              "<tr><th style='border:1px solid black;border-bottom-style: double;color:black;background-color:#BBBBBB'>\n",
              "      <center>Sick</center></th><th style='border:1px solid black;border-bottom-style: double;color:black;background-color:#BBBBBB'>\n",
              "      <center>Healed</center></th></tr>\n",
              "<tr><td style='color:black;background-color:#b8c564;text-align:right;'>0.5500</td><td style='color:black;background-color:#c5b864;text-align:right;'>0.4500</td></tr>\n",
              "</table><br><center><small><em>Impact</em></small></center></div>"
            ],
            "text/plain": [
              "<IPython.core.display.HTML object>"
            ]
          },
          "metadata": {},
          "output_type": "display_data"
        }
      ],
      "source": [
        "d1 = csl.CausalModel(m1)\n",
        "cslnb.showCausalImpact(d1, \"Patient\", \"Drug\",values={\"Drug\" : \"With\"})"
      ]
    },
    {
      "cell_type": "markdown",
      "metadata": {
        "id": "Uih6pmIXg1X2"
      },
      "source": [
        "And then : $P(Patient=Healed∣↪Drug=With) = 0.45 $\n",
        "\n",
        "Therefore : $P(Patient=Healed∣↪Drug=Without) = 0.6 > P(Patient=Healed∣↪Drug=With) = 0.45 $\n",
        "\n",
        "Which means that taking this drug would not enhance the patient’s healing process, and it is better not to prescribe this drug for treatment."
      ]
    },
    {
      "cell_type": "markdown",
      "metadata": {
        "id": "rv7Jhhlth4FS"
      },
      "source": [
        "\n",
        "Simpson paradox solved by interventions\n",
        "\n",
        "So to summarize, the paradox appears when wrongly dealing with observations on Drug\n",
        " :"
      ]
    },
    {
      "cell_type": "code",
      "execution_count": null,
      "metadata": {
        "colab": {
          "base_uri": "https://localhost:8080/",
          "height": 139
        },
        "id": "CGvho9GCh_Ez",
        "outputId": "cbe6a865-256a-4986-d81c-df437fd5ddaf"
      },
      "outputs": [
        {
          "data": {
            "text/html": [
              "<table style=\"border-style: hidden; border-collapse: collapse;\" width=\"100%\"><tr><td style=\"border-top:hidden;border-bottom:hidden;vertical-align:middle;\"><div align=\"center\" style=\"vertical-align:middle;\"><table style=\"border:1px solid black;\">\n",
              "<tr style='border:1px solid black;color:black;background-color:#808080'>\n",
              "      <th colspan='2'><center>Drug</center></th></tr>\n",
              "<tr><th style='border:1px solid black;border-bottom-style: double;color:black;background-color:#BBBBBB'>\n",
              "      <center>Without</center></th><th style='border:1px solid black;border-bottom-style: double;color:black;background-color:#BBBBBB'>\n",
              "      <center>With</center></th></tr>\n",
              "<tr><td style='text-align:right;'>0.5000</td><td style='text-align:right;'>0.5750</td></tr>\n",
              "</table><br><small><i>$P(Patient = Healed \\mid Drug )$<br/>Taking $Drug$ is observed as efficient to cure</i></small></div></td><td style=\"border-top:hidden;border-bottom:hidden;vertical-align:middle;\"><div align=\"center\" style=\"vertical-align:middle;\"><table style=\"border:1px solid black;\">\n",
              "<tr style='border:1px solid black;color:black;background-color:#808080'>\n",
              "      <th colspan='2'><center>Drug</center></th></tr>\n",
              "<tr><th style='border:1px solid black;border-bottom-style: double;color:black;background-color:#BBBBBB'>\n",
              "      <center>Without</center></th><th style='border:1px solid black;border-bottom-style: double;color:black;background-color:#BBBBBB'>\n",
              "      <center>With</center></th></tr>\n",
              "<tr><td style='text-align:right;'>0.8000</td><td style='text-align:right;'>0.7000</td></tr>\n",
              "</table><br><small><i>$P(Patient = Healed \\mid Gender=F,Drug)$<br/>except if the $gender$ of the patient is female</i></small></div></td><td style=\"border-top:hidden;border-bottom:hidden;vertical-align:middle;\"><div align=\"center\" style=\"vertical-align:middle;\"><table style=\"border:1px solid black;\">\n",
              "<tr style='border:1px solid black;color:black;background-color:#808080'>\n",
              "      <th colspan='2'><center>Drug</center></th></tr>\n",
              "<tr><th style='border:1px solid black;border-bottom-style: double;color:black;background-color:#BBBBBB'>\n",
              "      <center>Without</center></th><th style='border:1px solid black;border-bottom-style: double;color:black;background-color:#BBBBBB'>\n",
              "      <center>With</center></th></tr>\n",
              "<tr><td style='text-align:right;'>0.4000</td><td style='text-align:right;'>0.2000</td></tr>\n",
              "</table><br><small><i>$P(Patient = Healed \\mid Gender=M,Drug)$<br/>... or male.</i></small></div></td></tr></table>"
            ],
            "text/plain": [
              "<IPython.core.display.HTML object>"
            ]
          },
          "metadata": {},
          "output_type": "display_data"
        }
      ],
      "source": [
        "gnb.sideBySide(getCuredObservedProba(m1,{}),\n",
        "               getCuredObservedProba(m1,{'Gender':'F'}),\n",
        "               getCuredObservedProba(m1,{'Gender':'M'}),\n",
        "               captions=[\"$P(Patient = Healed \\mid Drug )$<br/>Taking $Drug$ is observed as efficient to cure\",\n",
        "                         \"$P(Patient = Healed \\mid Gender=F,Drug)$<br/>except if the $gender$ of the patient is female\",\n",
        "                         \"$P(Patient = Healed \\mid Gender=M,Drug)$<br/>... or male.\"])"
      ]
    },
    {
      "cell_type": "markdown",
      "metadata": {
        "id": "yknvcJ-7iE4q"
      },
      "source": [
        "… and disappears when dealing with intervention on Drug:"
      ]
    },
    {
      "cell_type": "code",
      "execution_count": null,
      "metadata": {
        "colab": {
          "base_uri": "https://localhost:8080/",
          "height": 139
        },
        "id": "fb0u7dDviIIP",
        "outputId": "867c8139-d51e-43be-df99-fb24f265ec7e"
      },
      "outputs": [
        {
          "data": {
            "text/html": [
              "<table style=\"border-style: hidden; border-collapse: collapse;\" width=\"100%\"><tr><td style=\"border-top:hidden;border-bottom:hidden;vertical-align:middle;\"><div align=\"center\" style=\"vertical-align:middle;\"><table style=\"border:1px solid black;\">\n",
              "<tr style='border:1px solid black;color:black;background-color:#808080'>\n",
              "      <th colspan='2'><center>Drug</center></th></tr>\n",
              "<tr><th style='border:1px solid black;border-bottom-style: double;color:black;background-color:#BBBBBB'>\n",
              "      <center>Without</center></th><th style='border:1px solid black;border-bottom-style: double;color:black;background-color:#BBBBBB'>\n",
              "      <center>With</center></th></tr>\n",
              "<tr><td style='text-align:right;'>0.6000</td><td style='text-align:right;'>0.4500</td></tr>\n",
              "</table><br><small><i>$P(Patient = 1 \\mid \\hookrightarrow Drug )$<br/>Effectively $Drug$ taking is not efficient to cure</i></small></div></td><td style=\"border-top:hidden;border-bottom:hidden;vertical-align:middle;\"><div align=\"center\" style=\"vertical-align:middle;\"><table style=\"border:1px solid black;\">\n",
              "<tr style='border:1px solid black;color:black;background-color:#808080'>\n",
              "      <th colspan='2'><center>Drug</center></th></tr>\n",
              "<tr><th style='border:1px solid black;border-bottom-style: double;color:black;background-color:#BBBBBB'>\n",
              "      <center>Without</center></th><th style='border:1px solid black;border-bottom-style: double;color:black;background-color:#BBBBBB'>\n",
              "      <center>With</center></th></tr>\n",
              "<tr><td style='text-align:right;'>0.8000</td><td style='text-align:right;'>0.7000</td></tr>\n",
              "</table><br><small><i>$P(Patient = 1 \\mid \\hookrightarrow Drug, gender=F )$<br/>, the $gender$ of the patient being female</i></small></div></td><td style=\"border-top:hidden;border-bottom:hidden;vertical-align:middle;\"><div align=\"center\" style=\"vertical-align:middle;\"><table style=\"border:1px solid black;\">\n",
              "<tr style='border:1px solid black;color:black;background-color:#808080'>\n",
              "      <th colspan='2'><center>Drug</center></th></tr>\n",
              "<tr><th style='border:1px solid black;border-bottom-style: double;color:black;background-color:#BBBBBB'>\n",
              "      <center>Without</center></th><th style='border:1px solid black;border-bottom-style: double;color:black;background-color:#BBBBBB'>\n",
              "      <center>With</center></th></tr>\n",
              "<tr><td style='text-align:right;'>0.4000</td><td style='text-align:right;'>0.2000</td></tr>\n",
              "</table><br><small><i>$P(Patient = 1 \\mid \\hookrightarrow Drug, gender=M )$<br/>, ... or male.</i></small></div></td></tr></table>"
            ],
            "text/plain": [
              "<IPython.core.display.HTML object>"
            ]
          },
          "metadata": {},
          "output_type": "display_data"
        }
      ],
      "source": [
        "gnb.sideBySide(csl.causalImpact(d1,on=\"Patient\",doing=\"Drug\",values={\"Patient\":\"Healed\"})[1],\n",
        "               csl.causalImpact(d1,on=\"Patient\",doing=\"Drug\",knowing={\"Gender\"},values={\"Patient\":\"Healed\",\"Gender\":\"F\"})[1],\n",
        "               csl.causalImpact(d1,on=\"Patient\",doing=\"Drug\",knowing={\"Gender\"},values={\"Patient\":\"Healed\",\"Gender\":\"M\"})[1],\n",
        "               captions=[\"$P(Patient = 1 \\mid \\hookrightarrow Drug )$<br/>Effectively $Drug$ taking is not efficient to cure\",\n",
        "                         \"$P(Patient = 1 \\mid \\hookrightarrow Drug, gender=F )$<br/>, the $gender$ of the patient being female\",\n",
        "                         \"$P(Patient = 1 \\mid \\hookrightarrow Drug, gender=M )$<br/>, ... or male.\"])"
      ]
    }
  ],
  "metadata": {
    "colab": {
      "provenance": []
    },
    "kernelspec": {
      "display_name": "Python 3",
      "language": "python",
      "name": "python3"
    },
    "language_info": {
      "codemirror_mode": {
        "name": "ipython",
        "version": 3
      },
      "file_extension": ".py",
      "mimetype": "text/x-python",
      "name": "python",
      "nbconvert_exporter": "python",
      "pygments_lexer": "ipython3",
      "version": "3.11.3"
    }
  },
  "nbformat": 4,
  "nbformat_minor": 0
}
