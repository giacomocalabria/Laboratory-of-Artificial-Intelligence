{
  "cells": [
    {
      "cell_type": "markdown",
      "source": [
        "## EXERCISE 1: Weather's probability\n",
        "You are given a (fake) <a href=\"https://drive.google.com/file/d/1LjZLE9ozaHcBwiCl90mHaS1nXKcglfr4/view\">padua_weather.csv</a>\n",
        "of historical records for Padua's weather. The weather, which can be either rainy (= 1 in the dataset), misty (= 2), or sunny (= 3), is reported for each day of the week, for a whole year (52 weeks).\n",
        "\n",
        "After you formalised the problem (i.e. identify the random variables and necessary mathematical formulae), write a Python program that reads the dataset and computes the following:\n",
        "- probability of being sunny during the weekend (one or both days);\n",
        "- expected weather for each day of the week (*);\n",
        "- supposed you don't know which day of the week is today: although very unrealistic, how could you guess which day is today based only on the weather?\n",
        "\n",
        "(\\*) An expected value of, for example, 2.5 can be interpreted as \"a mix of misty and sunny weather\".\n",
        " \n",
        "\n"
      ],
      "metadata": {
        "id": "5cdVfkvhWpt_"
      }
    },
    {
      "cell_type": "markdown",
      "source": [
        "## EXERCISE 2: Broad Street cholera outbreak\n",
        "\n",
        "The following is a simplified version of an example in Judea Pearl's *The Book of Why*. It refers to a case of cholera epidemic, caused by contaminated water, which killed hundreds of people in London between 1853 and 1854. The diagram below illustrates some of the key factors explaining this epidemic, in particular:\n",
        "- $X$ indicates whether the water company's intake was downstream of the London's sewers;\n",
        "- $W$ indicates whether the water was contaminated or not;\n",
        "- $Z$ indicates the presence of other external factors (e.g. poverty, miasma, etc.);\n",
        "- $Y$ indicates the outbreak of cholera.\n",
        "\n",
        "<img src='https://drive.google.com/uc?id=10O10x_nuuxF55rqRk0TpanHV_7Q819MA'>\n",
        "\n",
        "(please note the probabilities in the diagram are fake)\n",
        "\n",
        "> - Formalise the problem using opportune mathematical notations and derive an expression for computing the probability distribution of the cholera given that the water company's intake is upstream (i.e. what is the query? how can it be decomposed?)\n",
        "> - Write a Python program that computes the actual probabilities of the above distribution using the information from the given CPTs."
      ],
      "metadata": {
        "id": "GmiY-cDUhmhE"
      }
    }
  ],
  "metadata": {
    "kernelspec": {
      "display_name": "Python 3",
      "language": "python",
      "name": "python3"
    },
    "language_info": {
      "codemirror_mode": {
        "name": "ipython",
        "version": 3
      },
      "file_extension": ".py",
      "mimetype": "text/x-python",
      "name": "python",
      "nbconvert_exporter": "python",
      "pygments_lexer": "ipython3",
      "version": "3.8.10"
    },
    "colab": {
      "provenance": []
    }
  },
  "nbformat": 4,
  "nbformat_minor": 0
}