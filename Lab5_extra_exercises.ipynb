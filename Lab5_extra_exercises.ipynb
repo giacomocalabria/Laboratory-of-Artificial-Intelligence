{
  "cells": [
    {
      "cell_type": "markdown",
      "metadata": {
        "id": "5cdVfkvhWpt_"
      },
      "source": [
        "## EXERCISE 1: Weather's probability\n",
        "You are given a (fake) <a href=\"https://drive.google.com/file/d/1LjZLE9ozaHcBwiCl90mHaS1nXKcglfr4/view\">padua_weather.csv</a>\n",
        "of historical records for Padua's weather. The weather, which can be either rainy (= 1 in the dataset), misty (= 2), or sunny (= 3), is reported for each day of the week, for a whole year (52 weeks).\n",
        "\n",
        "After you formalised the problem (i.e. identify the random variables and necessary mathematical formulae), write a Python program that reads the dataset and computes the following:\n",
        "- probability of being sunny during the weekend (one or both days);\n",
        "- expected weather for each day of the week (*);\n",
        "- supposed you don't know which day of the week is today: although very unrealistic, how could you guess which day is today based only on the weather?\n",
        "\n",
        "(\\*) An expected value of, for example, 2.5 can be interpreted as \"a mix of misty and sunny weather\".\n",
        " \n",
        "\n"
      ]
    },
    {
      "cell_type": "code",
      "execution_count": 2,
      "metadata": {},
      "outputs": [],
      "source": [
        "import numpy as np\n",
        "import pandas as pd\n",
        "\n",
        "hr = pd.read_csv('padua_weather.csv')\n",
        "\n",
        "weeks = len(hr)\n",
        "\n",
        "# p_full_joint = np.array([])\n",
        "\n",
        "p_mon_rain = hr.loc[hr[\"Monday\"] == 1][\"Monday\"].count()/weeks\n",
        "\n",
        "p_mon_misty = hr.loc[hr[\"Monday\"] == 2][\"Monday\"].count()/weeks\n",
        "\n",
        "p_mon_sunny = hr.loc[hr[\"Monday\"] == 3][\"Monday\"].count()/weeks\n",
        "\n",
        "p_tue_rain = hr.loc[hr[\"Tuesday\"] == 1][\"Tuesday\"].count()/weeks\n",
        "\n",
        "p_tue_misty = hr.loc[hr[\"Tuesday\"] == 2][\"Tuesday\"].count()/weeks\n",
        "\n",
        "p_tue_sunny = hr.loc[hr[\"Tuesday\"] == 3][\"Tuesday\"].count()/weeks\n",
        "\n",
        "p_wed_rain = hr.loc[hr[\"Wednesday\"] == 1][\"Wednesday\"].count()/weeks\n",
        "\n",
        "p_wed_misty = hr.loc[hr[\"Wednesday\"] == 2][\"Wednesday\"].count()/weeks\n",
        "\n",
        "p_wed_sunny = hr.loc[hr[\"Wednesday\"] == 3][\"Wednesday\"].count()/weeks\n",
        "\n",
        "p_thu_rain = hr.loc[hr[\"Thursday\"] == 1][\"Thursday\"].count()/weeks\n",
        "\n",
        "p_thu_misty = hr.loc[hr[\"Thursday\"] == 2][\"Thursday\"].count()/weeks\n",
        "\n",
        "p_thu_sunny = hr.loc[hr[\"Thursday\"] == 3][\"Thursday\"].count()/weeks\n",
        "\n",
        "p_fri_rain = hr.loc[hr[\"Friday\"] == 1][\"Friday\"].count()/weeks\n",
        "\n",
        "p_fri_misty = hr.loc[hr[\"Friday\"] == 2][\"Friday\"].count()/weeks\n",
        "\n",
        "p_fri_sunny = hr.loc[hr[\"Friday\"] == 3][\"Friday\"].count()/weeks\n",
        "\n",
        "p_sat_rain = hr.loc[hr[\"Saturday\"] == 1][\"Saturday\"].count()/weeks\n",
        "\n",
        "p_sat_misty = hr.loc[hr[\"Saturday\"] == 2][\"Saturday\"].count()/weeks\n",
        "\n",
        "p_sat_sunny = hr.loc[hr[\"Saturday\"] == 3][\"Saturday\"].count()/weeks\n",
        "\n",
        "p_sun_rain = hr.loc[hr[\"Sunday\"] == 1][\"Sunday\"].count()/weeks\n",
        "\n",
        "p_sun_misty = hr.loc[hr[\"Sunday\"] == 2][\"Sunday\"].count()/weeks\n",
        "\n",
        "p_sun_sunny = hr.loc[hr[\"Sunday\"] == 3][\"Sunday\"].count()/weeks"
      ]
    },
    {
      "cell_type": "code",
      "execution_count": 3,
      "metadata": {},
      "outputs": [
        {
          "name": "stdout",
          "output_type": "stream",
          "text": [
            "0.4423076923076923\n"
          ]
        }
      ],
      "source": [
        "p_weekend_sunny = hr.loc[(hr[\"Sunday\"] == 3) | (hr[\"Saturday\"] == 3)][\"Sunday\"].count()/weeks\n",
        "\n",
        "print(p_weekend_sunny)"
      ]
    },
    {
      "cell_type": "code",
      "execution_count": 4,
      "metadata": {},
      "outputs": [
        {
          "name": "stdout",
          "output_type": "stream",
          "text": [
            "Expected weather on Monday:  2.076923076923077\n",
            "Expected weather on Tuesday:  1.9807692307692306\n",
            "Expected weather on Wednesday:  2.0384615384615383\n",
            "Expected weather on Thursday:  1.9423076923076923\n",
            "Expected weather on Friday:  1.9615384615384617\n",
            "Expected weather on Saturday:  1.8461538461538463\n",
            "Expected weather on Sunday:  1.75\n"
          ]
        }
      ],
      "source": [
        "Exp_weather_mon = 1 * p_mon_rain + 2 * p_mon_misty + 3 * p_mon_sunny\n",
        "Exp_weather_tue = 1 * p_tue_rain + 2 * p_tue_misty + 3 * p_tue_sunny\n",
        "Exp_weather_wed = 1 * p_wed_rain + 2 * p_wed_misty + 3 * p_wed_sunny\n",
        "Exp_weather_thu = 1 * p_thu_rain + 2 * p_thu_misty + 3 * p_thu_sunny\n",
        "Exp_weather_fri = 1 * p_fri_rain + 2 * p_fri_misty + 3 * p_fri_sunny\n",
        "Exp_weather_sat = 1 * p_sat_rain + 2 * p_sat_misty + 3 * p_sat_sunny\n",
        "Exp_weather_sun = 1 * p_sun_rain + 2 * p_sun_misty + 3 * p_sun_sunny\n",
        "\n",
        "print(\"Expected weather on Monday: \", Exp_weather_mon)\n",
        "print(\"Expected weather on Tuesday: \", Exp_weather_tue)\n",
        "print(\"Expected weather on Wednesday: \", Exp_weather_wed)\n",
        "print(\"Expected weather on Thursday: \", Exp_weather_thu)\n",
        "print(\"Expected weather on Friday: \", Exp_weather_fri)\n",
        "print(\"Expected weather on Saturday: \", Exp_weather_sat)\n",
        "print(\"Expected weather on Sunday: \", Exp_weather_sun)"
      ]
    },
    {
      "attachments": {},
      "cell_type": "markdown",
      "metadata": {},
      "source": [
        "supposed you don't know which day of the week is today: although very unrealistic, how could you guess which day is today based only on the weather?"
      ]
    },
    {
      "cell_type": "code",
      "execution_count": 5,
      "metadata": {},
      "outputs": [],
      "source": [
        "# Vogliamo calcolare la probabiltà di P(mon|piove)\n",
        "\n"
      ]
    },
    {
      "cell_type": "markdown",
      "metadata": {
        "id": "GmiY-cDUhmhE"
      },
      "source": [
        "## EXERCISE 2: Broad Street cholera outbreak\n",
        "\n",
        "The following is a simplified version of an example in Judea Pearl's *The Book of Why*. It refers to a case of cholera epidemic, caused by contaminated water, which killed hundreds of people in London between 1853 and 1854. The diagram below illustrates some of the key factors explaining this epidemic, in particular:\n",
        "- $X$ indicates whether the water company's intake was downstream of the London's sewers;\n",
        "- $W$ indicates whether the water was contaminated or not;\n",
        "- $Z$ indicates the presence of other external factors (e.g. poverty, miasma, etc.);\n",
        "- $Y$ indicates the outbreak of cholera.\n",
        "\n",
        "<img src='https://drive.google.com/uc?id=10O10x_nuuxF55rqRk0TpanHV_7Q819MA'>\n",
        "\n",
        "(please note the probabilities in the diagram are fake)\n",
        "\n",
        "> - Formalise the problem using opportune mathematical notations and derive an expression for computing the probability distribution of the cholera given that the water company's intake is upstream (i.e. what is the query? how can it be decomposed?)\n",
        "> - Write a Python program that computes the actual probabilities of the above distribution using the information from the given CPTs."
      ]
    }
  ],
  "metadata": {
    "colab": {
      "provenance": []
    },
    "kernelspec": {
      "display_name": "Python 3",
      "language": "python",
      "name": "python3"
    },
    "language_info": {
      "codemirror_mode": {
        "name": "ipython",
        "version": 3
      },
      "file_extension": ".py",
      "mimetype": "text/x-python",
      "name": "python",
      "nbconvert_exporter": "python",
      "pygments_lexer": "ipython3",
      "version": "3.11.3"
    }
  },
  "nbformat": 4,
  "nbformat_minor": 0
}
