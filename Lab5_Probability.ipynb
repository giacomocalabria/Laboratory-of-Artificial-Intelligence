{
  "cells": [
    {
      "cell_type": "markdown",
      "source": [
        "**Laboratory Lecture 5**"
      ],
      "metadata": {
        "id": "_6hSAViVTB3G"
      }
    },
    {
      "cell_type": "markdown",
      "metadata": {
        "id": "cQt7Q-d_sFiZ"
      },
      "source": [
        "## EXAMPLE: Probability of disease given symptoms\n",
        "Let's assume we want to calculate the probability of having COVID-19 based on three possible symptoms: \n",
        "*   high fever,\n",
        "*   continuous cough,\n",
        "*   loss of taste/smell.\n",
        "\n",
        "We know there are 1% chances of being infected, and in such case the probabilities of developing the symptoms are as follows:\n",
        "- high fever: 10% with COVID, only 2% without\n",
        "- continuous cough: 20% with COVID, only 5% without\n",
        "- loss of taste/smell: 15% with COVID, only 0.1% without\n",
        "\n",
        "> __QUESTION:__ What is the probability of having COVID given the presence of all the three symptoms?"
      ]
    },
    {
      "cell_type": "markdown",
      "source": [
        "### Solution\n",
        "\n",
        "We have four random variables, which can be either *true* or *false*:\n",
        "- COVID disease $D$\n",
        "- fever $F$\n",
        "- cough $C$\n",
        "- loss of taste/smell $L$\n",
        "\n",
        "For simpliciy, we will use lower-case letters to indicate single events (e.g., $d$ means $D = true$ and $¬d$ means $D = false$).\n",
        "The task then consists in computing the probability $P(d | f, c, l)$.\n",
        "\n",
        "We can write the following probability distributions, given by the problem:\n",
        "\n",
        "$\n",
        "P(d) = 0.01 \\\\\n",
        "P(¬d) = 0.99\n",
        "$\n",
        "\n",
        "or simply\n",
        "\n",
        "$\n",
        "{\\bf P}(D) = \\langle 0.01, 0.99 \\rangle\n",
        "$\n",
        "\n",
        "Similarly, for the conditional probabilities of the symptoms:\n",
        "\n",
        "$\n",
        "{\\bf P}(F | d) = \\langle 0.1, 0.9 \\rangle \\\\\n",
        "{\\bf P}(F | ¬d) = \\langle 0.02, 0.98 \\rangle \\\\\n",
        "~\\\\\n",
        "{\\bf P}(C | d) = \\langle 0.2, 0.8 \\rangle \\\\\n",
        "{\\bf P}(C | ¬d) = \\langle 0.05, 0.95 \\rangle \\\\\n",
        "~\\\\\n",
        "{\\bf P}(L | d) = \\langle 0.15, 0.85 \\rangle \\\\\n",
        "{\\bf P}(L | ¬d) = \\langle 0.001, 0.999 \\rangle.\n",
        "$\n",
        "<br><br>"
      ],
      "metadata": {
        "id": "dmx0csTnT7C_"
      }
    },
    {
      "cell_type": "markdown",
      "source": [
        "Let's put these in some Python arrays:"
      ],
      "metadata": {
        "id": "4s2z3GlQUP1g"
      }
    },
    {
      "cell_type": "code",
      "execution_count": null,
      "metadata": {
        "colab": {
          "base_uri": "https://localhost:8080/"
        },
        "id": "L1QB1ldfsFii",
        "outputId": "4ed173c7-22c5-4d84-d9a3-74475e9a1721"
      },
      "outputs": [
        {
          "output_type": "stream",
          "name": "stdout",
          "text": [
            "P(D) =  [0.01 0.99]\n",
            "\n",
            "P(F|D) =\n",
            " [[0.1  0.9 ]\n",
            " [0.02 0.98]]\n",
            "\n",
            "P(C|D) =\n",
            " [[0.2  0.8 ]\n",
            " [0.05 0.95]]\n",
            "\n",
            "P(L|D) =\n",
            " [[0.15  0.85 ]\n",
            " [0.001 0.999]]\n"
          ]
        }
      ],
      "source": [
        "import numpy as np\n",
        "\n",
        "p_disease = np.array([0.01, 0.99])\n",
        "print('P(D) = ', p_disease)\n",
        "\n",
        "p_fever_disease = np.array([[0.1, 0.9], [0.02, 0.98]])\n",
        "print('\\nP(F|D) =\\n', p_fever_disease)\n",
        "\n",
        "p_cough_disease = np.array([[0.2, 0.8], [0.05, 0.95]])\n",
        "print('\\nP(C|D) =\\n', p_cough_disease)\n",
        "\n",
        "p_loss_disease = np.array([[0.15, 0.85], [0.001, 0.999]])\n",
        "print('\\nP(L|D) =\\n', p_loss_disease)"
      ]
    },
    {
      "cell_type": "markdown",
      "metadata": {
        "id": "RYZanOROsFil"
      },
      "source": [
        "<br><br>\n",
        "Applying Bayes rule, we can write\n",
        "\n",
        "$$P(d | f, c, l) = \\dfrac{P(f, c, l | d) P(d)}{P(f, c, l)}.$$\n",
        "\n",
        "At the numerator, we can exploit the fact that the three symptoms are conditionally independent, given the disease (i.e. if I know I have COVID, my chances of having a fever do not change by the fact of having also a cough or loss of taste/smell). Therefore\n",
        "\n",
        "$$P(f, c, l | d) P(d) = P(f|d) P(c|d) P(l|d) P(d).$$\n",
        "\n",
        "We can also apply the law of total probability to the denominator and write\n",
        "\n",
        "$$\n",
        "\\begin{align}\n",
        "P(f, c, l) &= \\sum_{x \\in D} P(f, c, l | x) P(x) \\nonumber\\\\\n",
        " &= P(f, c, l | d) P(d) + P(f, c, l | ¬d) P(¬d) \\nonumber\\\\\n",
        " &= P(f|d) P(c|d) P(l|d) P(d) + P(f|¬d) P(c|¬d) P(l|¬d) P(¬d).\\nonumber\n",
        "\\end{align}\n",
        "$$\n",
        "\n",
        "By substituting the above expressions for the numerator and denominator, we can write the answer to the original question:\n",
        "\n",
        "$$P(d | f, c, l) = \\dfrac{P(f | d) P(c | d) P(l | d) P(d)}{P(f|d) P(c|d) P(l|d) P(d) + P(f|¬d) P(c|¬d) P(l|¬d) P(¬d)}.$$\n",
        "\n",
        "<br><br>\n",
        "Let's implement this in Python to compute the actual probability value, starting from the numerator:"
      ]
    },
    {
      "cell_type": "code",
      "execution_count": null,
      "metadata": {
        "colab": {
          "base_uri": "https://localhost:8080/"
        },
        "id": "WrMB3FkzsFio",
        "outputId": "14dc09b1-9e4c-47c1-ffb7-ebc8d2f5384f"
      },
      "outputs": [
        {
          "output_type": "stream",
          "name": "stdout",
          "text": [
            "P(f,c,l|d) P(d) =\n",
            " 3.0000000000000004e-05\n"
          ]
        }
      ],
      "source": [
        "numerator = p_fever_disease[0,0] * p_cough_disease[0,0] * p_loss_disease[0,0] * p_disease[0]\n",
        "print('P(f,c,l|d) P(d) =\\n', numerator)"
      ]
    },
    {
      "cell_type": "markdown",
      "metadata": {
        "id": "b-XOR3yLsFiq"
      },
      "source": [
        "At the denominator we have the sum of the symptoms probability with and without disease:"
      ]
    },
    {
      "cell_type": "code",
      "execution_count": null,
      "metadata": {
        "colab": {
          "base_uri": "https://localhost:8080/"
        },
        "id": "Y7sVZfpQsFir",
        "outputId": "f74125c6-175c-434a-a2d3-d912cb9badb3"
      },
      "outputs": [
        {
          "output_type": "stream",
          "name": "stdout",
          "text": [
            "P(f,c,l|d)P(d) + P(f,c,l|¬d)P(¬d) =\n",
            " 3.0990000000000007e-05\n"
          ]
        }
      ],
      "source": [
        "denominator = p_fever_disease[0,0] * p_cough_disease[0,0] * p_loss_disease[0,0] * p_disease[0] +\\\n",
        "    p_fever_disease[1,0] * p_cough_disease[1,0] * p_loss_disease[1,0] * p_disease[1]\n",
        "print('P(f,c,l|d)P(d) + P(f,c,l|¬d)P(¬d) =\\n', denominator)"
      ]
    },
    {
      "cell_type": "markdown",
      "metadata": {
        "id": "En_CUUPGsFit"
      },
      "source": [
        "Finally, the probability of the disease given all the symptoms are present is the following"
      ]
    },
    {
      "cell_type": "code",
      "execution_count": null,
      "metadata": {
        "colab": {
          "base_uri": "https://localhost:8080/"
        },
        "id": "GCBuSy7vsFit",
        "outputId": "6bddee3e-e3be-4dc3-d057-a08ee3c999a6"
      },
      "outputs": [
        {
          "output_type": "stream",
          "name": "stdout",
          "text": [
            "P(d|f,c,l) =\n",
            " 0.9680542110358179\n"
          ]
        }
      ],
      "source": [
        "result = numerator / denominator\n",
        "print('P(d|f,c,l) =\\n', result)"
      ]
    },
    {
      "cell_type": "markdown",
      "metadata": {
        "id": "DNHFaHkVsFiv"
      },
      "source": [
        "So the actual probability of having COVID, given the presence of all the three symptoms, is almost **97%**!\n"
      ]
    },
    {
      "cell_type": "markdown",
      "metadata": {
        "id": "6hCXgxQ2sFiw"
      },
      "source": [
        "---\n",
        "\n",
        "## EXAMPLE: Probability from data\n",
        "\n",
        "Let's see in practice how you could extract some probabilities from data.\n",
        "\n",
        "Consider the following table, listing 10 students and their final grades (either A, B, or C) obtained in Year 1, Year 2 and Year 3:\n",
        "\n",
        "| Student | Grade Y1 | Grade Y2 | Grade Y3 |\n",
        "| --- | --- | --- | --- |\n",
        "| John | A | A | B |\n",
        "| Sarah | C | C | B |\n",
        "| Eric | A | B | B |\n",
        "| Paul | B | C | A |\n",
        "| Susanne | A | A | A |\n",
        "| Beth | B | A | B |\n",
        "| Jack | B | C | B |\n",
        "| Rachel | B | A | A |\n",
        "| Tom | B | C | C |\n",
        "| Jenny | B | A | B |\n",
        "\n",
        "Assuming three random variables, $G_1$, $G_2$, and $G_3$, to represent the grades at each year, how can we compute some useful probabilities from this table like, for example, $P(G_1 = A)$ or $P(G_1 = B, G_2 = C)$?\n",
        "\n",
        "\n"
      ]
    },
    {
      "cell_type": "markdown",
      "source": [
        "Let's count the instances in the table:\n",
        "- in Year 1 there are three A grades out of ten, therefore $P(G_1 = A) = 3/10 = 0.3$\n",
        "- we can also see there are only three cases in which $G_1 = B$ and $G_2 = C$, therefore $P(G_1 = B, G_2 = C) = 0.3$.\n",
        "\n",
        "A little more complicated is to extract a conditional probability. For example, what about $P(G_3 = A | G_2 = C)$?\n",
        "- there are four cases in which $G_2 = C$ (Sarah, Paul, Jack, and Tom)\n",
        "- among these, only Paul got an A in Year 3, therefore $P(G_3 = A | G_2 = C) = 1/4 = 0.25$.\n",
        "\n",
        "Let's see if this could also be calculated differently:\n",
        "- there is only one case (Paul) in which $G_2 = C$ and $G_3 = A$, therefore $P(G_2 = C, G_3 = A) = 1/10$\n",
        "- also, the probability $P(G_2 = C) = 4/10$\n",
        "- therefore, $P(G_3 = A | G_2 = C) = \\dfrac{P(G_2 = C, G_3 = A)}{P(G_2 = C)} = \\dfrac{1/10}{4/10} = 0.25$, as expected.\n",
        "\n",
        "\n",
        "**NOTE**: the above example is based on the assumption that the given data captures the real probability distribution of student grades ${\\bf P}(G_1, G_2, G_3)$. In general this is not true though, since even a small change in our data could cause significant changes in the probabilities (try to recompute the above in case Jack had a B in Year 2: what do you get?). Typically, the more data you have, the better it is, as long as the samples cover sufficiently well the underlying probability distribution."
      ],
      "metadata": {
        "id": "oGEqhl_SVhtP"
      }
    },
    {
      "cell_type": "markdown",
      "source": [
        "## EXAMPLE: Sprinkler\n",
        "\n",
        "Let's consider the scenario in the figure, where the WetGrass can be caused a Sprinkler or the Rain, both of which depend on the Cloudy weather:\n",
        "\n",
        "\n",
        "<img src='https://drive.google.com/uc?id=1w_J1m_024zE_kLQInfWHMJtXA8OGbVKm'>\n",
        "\n",
        "We want to compute the probability distribution of the wet grass given that is cloudy.\n",
        "Let's start by exploiting the structure of the Bayesian Network to decompose the query:\n",
        "\n",
        "$$\n",
        "\\begin{align}\n",
        "{\\bf P}(W | c) &= \\alpha ~{\\bf P}(W, c) \\nonumber\\\\\n",
        "&= \\alpha \\sum_{r,s} {\\bf P}(W, c, r, s) \\nonumber\\\\\n",
        "&= \\alpha \\sum_{r,s} {\\bf P}(W | r, s) P(r | c) P(s | c) P(c) \\nonumber\\\\\n",
        "&= \\alpha P(c) \\sum_r P(r | c) \\sum_s {\\bf P}(W | r, s)  P(s | c)  \\nonumber\n",
        "\\end{align}\n",
        "$$\n",
        "\n",
        "We need four quantities. The first one is a simple probability $P(c)$:"
      ],
      "metadata": {
        "id": "ERYguIJ-fcRd"
      }
    },
    {
      "cell_type": "code",
      "source": [
        "P_c = 0.5"
      ],
      "metadata": {
        "id": "fw2aW1vggrYV"
      },
      "execution_count": null,
      "outputs": []
    },
    {
      "cell_type": "markdown",
      "source": [
        "The second is the distribution ${\\bf P}(R|c) = \\langle P(r | c), P(\\neg r | c) \\rangle$:"
      ],
      "metadata": {
        "id": "h0AVDiYCgnXm"
      }
    },
    {
      "cell_type": "code",
      "source": [
        "import numpy as np\n",
        "\n",
        "# 'true' and 'false' indexes\n",
        "t, f = 0, 1\n",
        "\n",
        "P_R_c = np.array([0.8, 0.2])\n",
        "# this is a 2D vector, the elements of which can be accessed as follows\n",
        "print('P(r|c) = ', P_R_c[t])\n",
        "print('P(¬r|c) = ', P_R_c[f])"
      ],
      "metadata": {
        "id": "6HArWTrggz-E",
        "colab": {
          "base_uri": "https://localhost:8080/"
        },
        "outputId": "5566617a-e9cb-4d1f-a46d-195b9f803b98"
      },
      "execution_count": null,
      "outputs": [
        {
          "output_type": "stream",
          "name": "stdout",
          "text": [
            "P(r|c) =  0.8\n",
            "P(¬r|c) =  0.2\n"
          ]
        }
      ]
    },
    {
      "cell_type": "markdown",
      "source": [
        "The third is the distribution ${\\bf P}(W | R, S)$:"
      ],
      "metadata": {
        "id": "mD-22eIEg5R1"
      }
    },
    {
      "cell_type": "code",
      "source": [
        "P_W_RS = np.array([[[0.95, 0.90],[0.90, 0.10]],[[0.05, 0.10], [0.10, 0.90]]])\n",
        "# this is a 2x2x2 matrix, the elements of which can be accessed as follows\n",
        "print('P(w|¬r,s) = ', P_W_RS[t,f,t])"
      ],
      "metadata": {
        "id": "LoAYLtO4g9lY",
        "colab": {
          "base_uri": "https://localhost:8080/"
        },
        "outputId": "68b8f972-0c7f-4e02-f067-22d4aa37539c"
      },
      "execution_count": null,
      "outputs": [
        {
          "output_type": "stream",
          "name": "stdout",
          "text": [
            "P(w|¬r,s) =  0.9\n"
          ]
        }
      ]
    },
    {
      "cell_type": "markdown",
      "source": [
        "The last one is the distribution  P(S|c) :"
      ],
      "metadata": {
        "id": "-Ew2gwgmhBTh"
      }
    },
    {
      "cell_type": "code",
      "source": [
        "P_S_c = np.array([0.1, 0.9])"
      ],
      "metadata": {
        "id": "pwX4vzZmhCfV"
      },
      "execution_count": null,
      "outputs": []
    },
    {
      "cell_type": "markdown",
      "source": [
        "Starting from the right side of the query equation, we can sum out $S$ by computing ${\\bf P}(W | r, s) P(s | c) + {\\bf P}(W | r, \\neg s) P(\\neg s | c)$:"
      ],
      "metadata": {
        "id": "PQmJ3awJhJO6"
      }
    },
    {
      "cell_type": "code",
      "source": [
        "Phi_S = P_W_RS[:,:,t] * P_S_c[t] + P_W_RS[:,:,f] * P_S_c[f]\n",
        "print(Phi_S)"
      ],
      "metadata": {
        "id": "X0cTt7ZThOdI",
        "colab": {
          "base_uri": "https://localhost:8080/"
        },
        "outputId": "e7e18167-dd1c-4c0a-af14-1538a01de0b6"
      },
      "execution_count": null,
      "outputs": [
        {
          "output_type": "stream",
          "name": "stdout",
          "text": [
            "[[0.905 0.18 ]\n",
            " [0.095 0.82 ]]\n"
          ]
        }
      ]
    },
    {
      "cell_type": "markdown",
      "source": [
        "We remain with a 2x2 matrix indexed by  W  and  R , which we call  ΦS(W,R)  for short. We can then proceed by summing out  R  with  P(r|c)ΦS(W,r)+P(¬r|c)ΦS(W,¬r) :"
      ],
      "metadata": {
        "id": "Scf46lDMhRIp"
      }
    },
    {
      "cell_type": "code",
      "source": [
        "Phi_R = P_R_c[t] * Phi_S[:,t] + P_R_c[f] * Phi_S[:,f]\n",
        "print(Phi_R)"
      ],
      "metadata": {
        "id": "pnL1gn0fhUk_",
        "colab": {
          "base_uri": "https://localhost:8080/"
        },
        "outputId": "16cbbf9e-d0cf-4037-9a11-922887b254b7"
      },
      "execution_count": null,
      "outputs": [
        {
          "output_type": "stream",
          "name": "stdout",
          "text": [
            "[0.76 0.24]\n"
          ]
        }
      ]
    },
    {
      "cell_type": "markdown",
      "source": [
        "The result is a 2D vector indexed only by  W , which we call  ΦR(W) . Multiplying the latter for  P(c)  and normalising, we obtain the final distribution:"
      ],
      "metadata": {
        "id": "zjfkwJAthYLP"
      }
    },
    {
      "cell_type": "code",
      "source": [
        "P_W_c = P_c * Phi_R\n",
        "print(Phi_R)\n",
        "print(sum(P_W_c))\n",
        "print(P_c)\n",
        "P_W_c = P_W_c / sum(P_W_c)\n",
        "print('P(W|c) = ', P_W_c)"
      ],
      "metadata": {
        "id": "2D97MmKXhdWW",
        "colab": {
          "base_uri": "https://localhost:8080/"
        },
        "outputId": "9fd3cfba-b29f-42df-cab8-457dd8460b4b"
      },
      "execution_count": null,
      "outputs": [
        {
          "output_type": "stream",
          "name": "stdout",
          "text": [
            "[0.76 0.24]\n",
            "0.5000000000000001\n",
            "0.5\n",
            "P(W|c) =  [0.76 0.24]\n"
          ]
        }
      ]
    },
    {
      "cell_type": "markdown",
      "source": [
        "Notice that the last step does not change the result because the previous sum was already normalised and $P(c)$ is just a constant that could be included in $\\alpha$."
      ],
      "metadata": {
        "id": "CV0UpSu0hfx8"
      }
    }
  ],
  "metadata": {
    "kernelspec": {
      "display_name": "Python 3",
      "language": "python",
      "name": "python3"
    },
    "language_info": {
      "codemirror_mode": {
        "name": "ipython",
        "version": 3
      },
      "file_extension": ".py",
      "mimetype": "text/x-python",
      "name": "python",
      "nbconvert_exporter": "python",
      "pygments_lexer": "ipython3",
      "version": "3.8.10"
    },
    "colab": {
      "provenance": []
    }
  },
  "nbformat": 4,
  "nbformat_minor": 0
}