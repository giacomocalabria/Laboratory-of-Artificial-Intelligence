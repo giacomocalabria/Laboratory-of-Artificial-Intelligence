{
  "cells": [
    {
      "cell_type": "markdown",
      "metadata": {
        "id": "TlMnrfxBoV5Y"
      },
      "source": [
        "**Laboratory Lecture 6**"
      ]
    },
    {
      "cell_type": "markdown",
      "metadata": {
        "id": "pF8-DdTkQSaN"
      },
      "source": [
        "## EXAMPLE: Sampling from a probability distribution\n",
        "\n",
        "All the algorithms for approximate inference with Bayesian Networks require a method for sampling from a known probability distribution.\n",
        "\n",
        "Let's see a possible implementation of such sampling method in case of Boolean variables and known CPTs:"
      ]
    },
    {
      "cell_type": "code",
      "execution_count": 1,
      "metadata": {
        "id": "vjm9xNg8QSaT"
      },
      "outputs": [],
      "source": [
        "import numpy as np\n",
        "import random as rnd\n",
        "\n",
        "t, f = 0, 1\n",
        "\n",
        "def samplegen(Pdist, Parents = []):\n",
        "\tassert len(Parents) < len(Pdist.shape)\n",
        "\tif rnd.random() < Pdist[t][tuple(Parents)]:\n",
        "\t\treturn t\n",
        "\treturn f"
      ]
    },
    {
      "cell_type": "markdown",
      "metadata": {
        "id": "hj0Zr9F3QSaY"
      },
      "source": [
        "The input of this funtion is a probability distribution **Pdist** with the content of the CPT and, if available, the values of the **Parents** events.\n",
        "\n",
        "Let's generate some samples from the Sprinkler network:\n",
        "\n",
        "<img src='https://drive.google.com/uc?id=1xV8HNKqH1_IUF3LWK6VzeMHK1z1VhOfv'>\n",
        "\n",
        "In particular, let's say we want to generate 20 samples from the $Cloudy$ distribution, ${\\bf P}(C)$, which has no parents:"
      ]
    },
    {
      "cell_type": "code",
      "execution_count": 3,
      "metadata": {
        "colab": {
          "base_uri": "https://localhost:8080/"
        },
        "id": "nGjPG2f5QSaa",
        "outputId": "5525cf88-acca-403e-f16c-c6490b3b3b84"
      },
      "outputs": [
        {
          "name": "stdout",
          "output_type": "stream",
          "text": [
            "C =  TRUE\n",
            "C =  FALSE\n",
            "C =  TRUE\n",
            "C =  FALSE\n",
            "C =  FALSE\n",
            "C =  FALSE\n",
            "C =  TRUE\n",
            "C =  FALSE\n",
            "C =  FALSE\n",
            "C =  FALSE\n",
            "C =  FALSE\n",
            "C =  FALSE\n",
            "C =  FALSE\n",
            "C =  FALSE\n",
            "C =  TRUE\n",
            "C =  TRUE\n",
            "C =  FALSE\n",
            "C =  TRUE\n",
            "C =  FALSE\n",
            "C =  FALSE\n"
          ]
        }
      ],
      "source": [
        "P_C = np.array([0.5, 0.5])\n",
        "\n",
        "for i in range(20):\n",
        "    s = samplegen(P_C)\n",
        "    print(\"C = \", 'TRUE' if s == t else 'FALSE')"
      ]
    },
    {
      "cell_type": "markdown",
      "metadata": {
        "id": "Do_gPHj9QSac"
      },
      "source": [
        "As expected, there are approximately 50% $true$ and 50% $false$ outcomes.\n",
        "\n",
        "Let's sample from a conditional distribution, for example ${\\bf P}(R | \\neg c)$:"
      ]
    },
    {
      "cell_type": "code",
      "execution_count": 7,
      "metadata": {
        "colab": {
          "base_uri": "https://localhost:8080/"
        },
        "id": "oJsH7QBYQSad",
        "outputId": "63c37eb0-cdec-4723-90e8-9232ee84dde4"
      },
      "outputs": [
        {
          "name": "stdout",
          "output_type": "stream",
          "text": [
            "R =  TRUE\n",
            "R =  FALSE\n",
            "R =  FALSE\n",
            "R =  FALSE\n",
            "R =  TRUE\n",
            "R =  FALSE\n",
            "R =  FALSE\n",
            "R =  FALSE\n",
            "R =  FALSE\n",
            "R =  FALSE\n",
            "R =  FALSE\n",
            "R =  FALSE\n",
            "R =  FALSE\n",
            "R =  TRUE\n",
            "R =  FALSE\n",
            "R =  FALSE\n",
            "R =  FALSE\n",
            "R =  FALSE\n",
            "R =  TRUE\n",
            "R =  FALSE\n"
          ]
        }
      ],
      "source": [
        "P_R_C = np.array([[0.8, 0.1],[0.2, 0.9]])\n",
        "\n",
        "for i in range(20):\n",
        "    s = samplegen(P_R_C, [f])\n",
        "    print(\"R = \", 'TRUE' if s == t else 'FALSE')"
      ]
    },
    {
      "cell_type": "markdown",
      "metadata": {
        "id": "dzX61aRkQSaf"
      },
      "source": [
        "In this case there are many more $false$ than $true$ outcomes because ${\\bf P}(R | \\neg c) = \\langle 0.1, 0.9\\rangle$.\n",
        "\n",
        "Finally, let's sample ${\\bf P}(W | \\neg s, r) = \\langle 0.9, 0.1\\rangle$:"
      ]
    },
    {
      "cell_type": "code",
      "execution_count": 8,
      "metadata": {
        "colab": {
          "base_uri": "https://localhost:8080/"
        },
        "id": "JXOHYJBQQSag",
        "outputId": "e68a59fd-1b94-4b7e-b054-ed2272afbd6e"
      },
      "outputs": [
        {
          "name": "stdout",
          "output_type": "stream",
          "text": [
            "W =  TRUE\n",
            "W =  TRUE\n",
            "W =  TRUE\n",
            "W =  TRUE\n",
            "W =  TRUE\n",
            "W =  TRUE\n",
            "W =  TRUE\n",
            "W =  TRUE\n",
            "W =  TRUE\n",
            "W =  TRUE\n",
            "W =  TRUE\n",
            "W =  FALSE\n",
            "W =  TRUE\n",
            "W =  TRUE\n",
            "W =  TRUE\n",
            "W =  TRUE\n",
            "W =  TRUE\n",
            "W =  TRUE\n",
            "W =  TRUE\n",
            "W =  TRUE\n"
          ]
        }
      ],
      "source": [
        "P_W_SR = np.array([[[0.95, 0.9],[0.9, 0.1]],[[0.05, 0.1],[0.1, 0.9]]])\n",
        "\n",
        "for i in range(20):\n",
        "    s = samplegen(P_W_SR, [f, t])\n",
        "    print(\"W = \", 'TRUE' if s == t else 'FALSE')"
      ]
    },
    {
      "cell_type": "markdown",
      "metadata": {
        "id": "voLLVHJIQSah"
      },
      "source": [
        "Even in this case, the samples are more or less as expected, about 90% $true$ and 10% $false$.\n",
        "\n",
        "## EXAMPLE: Prior-Sampling\n",
        "\n",
        "Let's implement now the *Prior Sampling* algorithm (see the lecture slides of *Bayesian Networks II* or Chapter 14 of Russell & Norvig's book), starting with some data structures to represent the Sprinkler network:"
      ]
    },
    {
      "cell_type": "code",
      "execution_count": 9,
      "metadata": {
        "id": "fzjiaECaQSaj"
      },
      "outputs": [],
      "source": [
        "# some of these distributions were already defined before, but we repeate them just in case\n",
        "P_C = np.array([0.5, 0.5])\n",
        "P_S_C = np.array([[0.1, 0.5],[0.9, 0.5]])\n",
        "P_R_C = np.array([[0.8, 0.1],[0.2, 0.9]])\n",
        "P_W_SR = np.array([[[0.95, 0.9],[0.9, 0.1]],[[0.05, 0.1],[0.1, 0.9]]])\n",
        "\n",
        "# network variables...\n",
        "var = ['C','S','R','W']\n",
        "# their distributions...\n",
        "prd = {'C':P_C, 'S':P_S_C, 'R':P_R_C, 'W':P_W_SR}\n",
        "# their parents...\n",
        "par = {'C':[], 'S':['C'], 'R':['C'], 'W':['S','R']}\n",
        "# and their initial values\n",
        "val = {'C':f, 'S':f, 'R':f, 'W':f}\n"
      ]
    },
    {
      "cell_type": "markdown",
      "metadata": {
        "id": "tN7T1jviQSak"
      },
      "source": [
        "Let's define also a function to retrieve the values of the parents of a variable:"
      ]
    },
    {
      "cell_type": "code",
      "execution_count": 10,
      "metadata": {
        "id": "nOvSv5dDQSal"
      },
      "outputs": [],
      "source": [
        "def parents(X):\n",
        "\treturn [val[i] for i in par[X]]"
      ]
    },
    {
      "cell_type": "markdown",
      "metadata": {
        "id": "lHTkmKvRQSam"
      },
      "source": [
        "The following algorithm generates 1000 events from the Sprinkler network:"
      ]
    },
    {
      "cell_type": "code",
      "execution_count": 24,
      "metadata": {
        "colab": {
          "base_uri": "https://localhost:8080/"
        },
        "id": "3AP10qd7QSan",
        "outputId": "367d98cd-32c6-49c8-c156-b268a21b8b31"
      },
      "outputs": [
        {
          "name": "stdout",
          "output_type": "stream",
          "text": [
            "First randomly generated event =  ['t', 'f', 't', 't']\n",
            "Number or randomly generated events =  1000\n",
            "P(c,¬s,r,w) =  0.324\n"
          ]
        }
      ],
      "source": [
        "event = []\n",
        "\n",
        "for n in range(1000):\n",
        "\tfor x in var:\n",
        "\t\tval[x] = samplegen(prd[x], parents(x))\n",
        "\tevent.append(['f' if val[x] else 't' for x in var])\n",
        "\n",
        "print(\"First randomly generated event = \", event[0])\n",
        "print(\"Number or randomly generated events = \", len(event))\n",
        "\n",
        "P_query = event.count(['t', 'f', 't', 't']) / len(event)\n",
        "print(\"P(c,¬s,r,w) = \", P_query)"
      ]
    },
    {
      "cell_type": "markdown",
      "metadata": {
        "id": "PS9ANa2DQSan"
      },
      "source": [
        "Finally, we can compute the probability of any event by counting the number of times it was generated and normalising. For example, we can verify that $P(c, \\neg s, r, w) = 0.328 \\approx \\dfrac{N_{PS}(c, \\neg s, r, w)}{N} = {\\hat P}(c, \\neg s, r, w)$, as predicted in the lecture:"
      ]
    },
    {
      "cell_type": "markdown",
      "metadata": {
        "id": "l4e0JGFGQSap"
      },
      "source": [
        "which is indeed very close to the exact probability!\n"
      ]
    },
    {
      "cell_type": "markdown",
      "metadata": {
        "id": "36ETGJmTKMfy"
      },
      "source": [
        "---\n",
        "\n",
        "## EXAMPLE 1: Excel for Filtering (Day 1)\n",
        "\n",
        "The spreadsheet <a href=\"https://docs.google.com/spreadsheets/d/1BeARmsvIf-pHuuPgICcgyTTOqZq8yC9-/edit?usp=share_link&ouid=116452643742209360003&rtpof=true&sd=true\">Umbrella.xlsx</a> models the umbrella example over the first 2 days.\n",
        "\n",
        "\n",
        "<img src='https://drive.google.com/uc?id=1QkA4DpBqRRl5bc9opUvqm16S30_a-Npd'>\n",
        "\n",
        "\n",
        "On the top line, the probability of rain for Day 0 is the prior probability.\n",
        "\n",
        "At the bottom of the sheet are the conditional probability tables for the transition model and the sensor model.\n",
        "\n",
        "The predicted probability for rain on Day 1 (top) is computed from the probability for Day 0 and the transition model.\n",
        "\n",
        "To get the filtered probability, we have to bring in information about whether we saw an umbrella or not. The filtered probability of rain for Day 1 (middle of the sheet) is computed by combining the predicted probability for\n",
        "Day 1, the sensor model, and what we know about umbrellas.\n",
        "\n",
        "<b>Note:</b> There are two versions of the filtered probability. The raw values which we get directly from the\n",
        "calculation, and the normalized values (raw values sclaed so they add to 1).\n",
        "\n",
        "Look at what happens if you change the probability of <tt>umbrella/not umbrella</tt>. Currently the values say\n",
        "you see an umbrella (probability of <tt>umbrella</tt> is 1 and that of <tt>not umbrella</tt> is 0).\n",
        "What happens if you don't see an umbrella (probability of <tt>umbrella</tt> is 0 and that of <tt>not umbrella</tt> is 1)?\n",
        "\n",
        "What about if you have no information (probability of <tt>umbrella</tt> is 0.5 and that of <tt>not umbrella</tt> is 0.5)?\n",
        "\n",
        "\n",
        "The column for Day 2 just repeats the calculations for Day 1, but starting from the results from Day 1.\n",
        "\n",
        "Thus the predicted probability for Day 2 is calculated by applying the transition model to the (normalized) filtered probability for Day 1.\n",
        "\n",
        "The filtered probability of Day 2 is calculated from the predicted probability for Day 2, the sensor model, and what we know about umbrellas.\n",
        "\n",
        "In other words, the probabilities for Day 2 are computed just like those for Day 1. The calculation is modular.\n",
        "\n",
        "Look at what happens when the probabilities of umbrella/not umbrella on Days 1 and 2 vary"
      ]
    },
    {
      "cell_type": "markdown",
      "metadata": {
        "id": "X4eE7340ZOge"
      },
      "source": [
        "Pomegranate for Predicting and Filtering\n",
        "\n",
        "For this example we will use a Python package called <tt>pomegranate</tt>, which provides support for probabilistic reasoning. If you have not installed it before, you will need to do so with:\n",
        "\n",
        "<tt>pip install pomegranate</tt>\n",
        "\n",
        "Then you can run the following version of the umbrella model. <tt>pomegranate</tt> can only solve Bayesian neworks (not Dynamic Bayesian Networks), so we have to unroll the whole example to the depth that we want."
      ]
    },
    {
      "cell_type": "code",
      "execution_count": 3,
      "metadata": {
        "colab": {
          "base_uri": "https://localhost:8080/",
          "height": 382
        },
        "id": "PRYrtwbVZn-K",
        "outputId": "d8190673-d057-4f1e-a870-5c68c9b1ac65"
      },
      "outputs": [
        {
          "ename": "NameError",
          "evalue": "name 'DiscreteDistribution' is not defined",
          "output_type": "error",
          "traceback": [
            "\u001b[0;31m---------------------------------------------------------------------------\u001b[0m",
            "\u001b[0;31mNameError\u001b[0m                                 Traceback (most recent call last)",
            "Cell \u001b[0;32mIn[3], line 7\u001b[0m\n\u001b[1;32m      3\u001b[0m \u001b[39mimport\u001b[39;00m \u001b[39mpomegranate\u001b[39;00m\n\u001b[1;32m      5\u001b[0m \u001b[39m# Variables are RainN and UmbrellaN+1 for N = 0, 1, ...\u001b[39;00m\n\u001b[1;32m      6\u001b[0m \u001b[39m# We have a prior for Rain0, two values 'y'es and 'n'o:\u001b[39;00m\n\u001b[0;32m----> 7\u001b[0m Rain0   \u001b[39m=\u001b[39m DiscreteDistribution({\u001b[39m'\u001b[39m\u001b[39my\u001b[39m\u001b[39m'\u001b[39m: \u001b[39m0.5\u001b[39m, \u001b[39m'\u001b[39m\u001b[39mn\u001b[39m\u001b[39m'\u001b[39m: \u001b[39m0.5\u001b[39m})\n\u001b[1;32m      9\u001b[0m \u001b[39m# Transition model\u001b[39;00m\n\u001b[1;32m     10\u001b[0m \u001b[39m#\u001b[39;00m\n\u001b[1;32m     11\u001b[0m \u001b[39m# Conditional distribution relating RainN and RainN+1. Notation for\u001b[39;00m\n\u001b[0;32m   (...)\u001b[0m\n\u001b[1;32m     16\u001b[0m \u001b[39m# for the conditional value P(Sprinkler|Cloudy). Note that we have to\u001b[39;00m\n\u001b[1;32m     17\u001b[0m \u001b[39m# repeat the transition model for each pair of states\u001b[39;00m\n\u001b[1;32m     18\u001b[0m Rain1 \u001b[39m=\u001b[39m ConditionalProbabilityTable(\n\u001b[1;32m     19\u001b[0m         [[\u001b[39m'\u001b[39m\u001b[39my\u001b[39m\u001b[39m'\u001b[39m, \u001b[39m'\u001b[39m\u001b[39my\u001b[39m\u001b[39m'\u001b[39m, \u001b[39m0.7\u001b[39m],\n\u001b[1;32m     20\u001b[0m          [\u001b[39m'\u001b[39m\u001b[39my\u001b[39m\u001b[39m'\u001b[39m, \u001b[39m'\u001b[39m\u001b[39mn\u001b[39m\u001b[39m'\u001b[39m, \u001b[39m0.3\u001b[39m],\n\u001b[1;32m     21\u001b[0m          [\u001b[39m'\u001b[39m\u001b[39mn\u001b[39m\u001b[39m'\u001b[39m, \u001b[39m'\u001b[39m\u001b[39my\u001b[39m\u001b[39m'\u001b[39m, \u001b[39m0.3\u001b[39m],\n\u001b[1;32m     22\u001b[0m          [\u001b[39m'\u001b[39m\u001b[39mn\u001b[39m\u001b[39m'\u001b[39m, \u001b[39m'\u001b[39m\u001b[39mn\u001b[39m\u001b[39m'\u001b[39m, \u001b[39m0.7\u001b[39m]], [Rain0])\n",
            "\u001b[0;31mNameError\u001b[0m: name 'DiscreteDistribution' is not defined"
          ]
        }
      ],
      "source": [
        "#!pip install numpy==1.23.0 --ignore-installed\n",
        "#!pip install pomegranate==0.14.6\n",
        "import pomegranate\n",
        "\n",
        "# Variables are RainN and UmbrellaN+1 for N = 0, 1, ...\n",
        "# We have a prior for Rain0, two values 'y'es and 'n'o:\n",
        "Rain0   = DiscreteDistribution({'y': 0.5, 'n': 0.5})\n",
        "\n",
        "# Transition model\n",
        "#\n",
        "# Conditional distribution relating RainN and RainN+1. Notation for\n",
        "# the conditional probability table is:\n",
        "#\n",
        "# [ 'RainN', 'RainN+1', <probability>]\n",
        "#\n",
        "# for the conditional value P(Sprinkler|Cloudy). Note that we have to\n",
        "# repeat the transition model for each pair of states\n",
        "Rain1 = ConditionalProbabilityTable(\n",
        "        [['y', 'y', 0.7],\n",
        "         ['y', 'n', 0.3],\n",
        "         ['n', 'y', 0.3],\n",
        "         ['n', 'n', 0.7]], [Rain0])\n",
        "\n",
        "Rain2 = ConditionalProbabilityTable(\n",
        "        [['y', 'y', 0.7],\n",
        "         ['y', 'n', 0.3],\n",
        "         ['n', 'y', 0.3],\n",
        "         ['n', 'n', 0.7]], [Rain1])\n",
        "\n",
        "# Sensor model\n",
        "#\n",
        "# Conditional distribution relating Rain and Umbrella:\n",
        "#\n",
        "# [ 'Umbrella', 'Rain', <probability>]\n",
        "#\n",
        "# for the conditional value P(Sprinkler|Cloudy). Values for Umbrella are 'y'es and 'n'o.\n",
        "# Again we have to enter the table for each day.\n",
        "Umbrella1 = ConditionalProbabilityTable(\n",
        "        [['y', 'y', 0.9],\n",
        "         ['y', 'n', 0.1],\n",
        "         ['n', 'y', 0.2],\n",
        "         ['n', 'n', 0.8]], [Rain1])\n",
        "\n",
        "Umbrella2 = ConditionalProbabilityTable(\n",
        "        [['y', 'y', 0.9],\n",
        "         ['y', 'n', 0.1],\n",
        "         ['n', 'y', 0.2],\n",
        "         ['n', 'n', 0.8]], [Rain2])\n",
        "#\n",
        "# The whole network has five nodes:\n",
        "s1 = Node(Rain0, name=\"Rain0\")\n",
        "s2 = Node(Rain1, name=\"Rain1\")\n",
        "s3 = Node(Umbrella1, name=\"Umbrella1\")\n",
        "s4 = Node(Rain2, name=\"Rain2\")\n",
        "s5 = Node(Umbrella2, name=\"Umbrella2\")\n",
        "# Create a network that includes nodes and edges between them:\n",
        "model = BayesianNetwork(\"Umbrella Network\")\n",
        "model.add_states(s1, s2, s3, s4, s5)\n",
        "model.add_edge(s1, s2)\n",
        "model.add_edge(s2, s3)\n",
        "model.add_edge(s2, s4)\n",
        "model.add_edge(s4, s5)\n",
        "# Fix the model structure\n",
        "model.bake()"
      ]
    },
    {
      "cell_type": "markdown",
      "metadata": {
        "id": "rN81OjMtZwla"
      },
      "source": [
        "Now that we have the model entered, we can ask it questions. We can first ask it to predict the probability of rain on days 1 and 2:"
      ]
    },
    {
      "cell_type": "code",
      "execution_count": null,
      "metadata": {
        "colab": {
          "base_uri": "https://localhost:8080/"
        },
        "id": "erpc-z1QZzrz",
        "outputId": "c9970716-b2a6-441f-82a5-b6c998929efe"
      },
      "outputs": [
        {
          "name": "stdout",
          "output_type": "stream",
          "text": [
            "(('n', 0.4999999999999999), ('y', 0.5000000000000001))\n",
            "(('n', 0.4999999999999999), ('y', 0.5000000000000001))\n"
          ]
        }
      ],
      "source": [
        "# Do not instantiate any of the variables:\n",
        "scenario = [[None, None, None, None, None]]\n",
        "# Run the model\n",
        "results =  model.predict_proba(scenario)\n",
        "# Ask for the probability of rain on Day 1:\n",
        "print(results[0][1].items())\n",
        "# And the probability of rain on Day 2:\n",
        "print(results[0][3].items())"
      ]
    },
    {
      "cell_type": "markdown",
      "metadata": {
        "id": "voMQTtf_Z6Xq"
      },
      "source": [
        "So both Day 1 and Day 2 have a probability 0.5 of being rainy before we see any umbrellas.\n",
        "\n",
        "In Bayesian probability terms, this tells us that we can't say anything about how likely it is to rain\n",
        "(a binary variable with probability of 0.5 for both values is how we represent ¯\\_(ツ)_/¯ ).\n",
        "\n",
        "\n",
        "\n",
        "The reason that we ask for elements 1 and 3 of the datastructure <tt>results</tt> is because they are\n",
        "elements 1 and 3 of\n",
        "<tt>model.add_states(s1, s2, s3, s4, s5)</tt>\n",
        "\n",
        "Now let's tell the model that we see an umbrella on Day 1 and see what that gets us:"
      ]
    },
    {
      "cell_type": "code",
      "execution_count": null,
      "metadata": {
        "colab": {
          "base_uri": "https://localhost:8080/"
        },
        "id": "LACu2iZMaHnq",
        "outputId": "3ffbd004-0114-4e3a-fc11-60628d578144"
      },
      "outputs": [
        {
          "name": "stdout",
          "output_type": "stream",
          "text": [
            "(('n', 0.1818181818181821), ('y', 0.8181818181818179))\n",
            "(('n', 0.3727272727272729), ('y', 0.6272727272727271))\n"
          ]
        }
      ],
      "source": [
        "# Set Umbrella on Rain1 to 'y'\n",
        "scenario = [[None, None, 'y', None, None]]\n",
        "# Run the model\n",
        "results =  model.predict_proba(scenario)\n",
        "# Ask for the probability of rain on Day 1:\n",
        "print(results[0][1].items())\n",
        "# And the probability of rain on Day 2:\n",
        "print(results[0][3].items())"
      ]
    },
    {
      "cell_type": "markdown",
      "metadata": {
        "id": "4zdPxu6AaLK0"
      },
      "source": [
        "So it has filtered the probability of rain for Day 1, and also predicted the probability for Day 2 as well.\n",
        "\n",
        "That is because pomegranate propagates all updates through the whole model/network. It has, for example also computed the probability of rain on Day 0 (that it rained on Day 0 even though we said noting about the rain that day):"
      ]
    },
    {
      "cell_type": "code",
      "execution_count": null,
      "metadata": {
        "colab": {
          "base_uri": "https://localhost:8080/"
        },
        "id": "s2DcWi5iaPmC",
        "outputId": "c70d1a9f-121d-4d9f-b6ce-140b7294a512"
      },
      "outputs": [
        {
          "name": "stdout",
          "output_type": "stream",
          "text": [
            "(('y', 0.6272727272727271), ('n', 0.372727272727273))\n"
          ]
        }
      ],
      "source": [
        "# Ask for the probability of rain on Day 0:\n",
        "print(results[0][0].items())"
      ]
    },
    {
      "cell_type": "markdown",
      "metadata": {
        "id": "K7OAVkczaSFJ"
      },
      "source": [
        "This is what we call the smoothed probability of rain on Day 0."
      ]
    },
    {
      "cell_type": "markdown",
      "metadata": {
        "id": "iakGJcf92RAr"
      },
      "source": [
        "Now let's tell <tt>pomegranate</tt> about rain on Day 3, so we need to add information about Day3:"
      ]
    },
    {
      "cell_type": "code",
      "execution_count": null,
      "metadata": {
        "id": "56VMgEXz2jcc"
      },
      "outputs": [],
      "source": [
        "# Conditional probability table\n",
        "Rain3 = ConditionalProbabilityTable(\n",
        "        [['y', 'y', 0.7],\n",
        "         ['y', 'n', 0.3],\n",
        "         ['n', 'y', 0.3],\n",
        "         ['n', 'n', 0.7]], [Rain2])\n",
        "# Node\n",
        "s6 = Node(Rain3, name=\"Rain3\")\n",
        "# State\n",
        "model.add_states(s6)\n",
        "# Edge\n",
        "model.add_edge(s4, s6)\n",
        "# Fix the model structure\n",
        "model.bake()\n"
      ]
    },
    {
      "cell_type": "markdown",
      "metadata": {
        "id": "2BpCsMAw3bvL"
      },
      "source": [
        "Note that we only call model.bake() once the last elements are entered.\n",
        "\n",
        "Now that we have the model entered, we can ask it questions. We tell the model that we saw Umbrellas on Days 1 and 2:"
      ]
    },
    {
      "cell_type": "code",
      "execution_count": null,
      "metadata": {
        "colab": {
          "base_uri": "https://localhost:8080/"
        },
        "id": "lyyrVFUG36nL",
        "outputId": "0e9ac1a1-78c1-4e7f-8ed3-01d894f5ea6d"
      },
      "outputs": [
        {
          "name": "stdout",
          "output_type": "stream",
          "text": [
            "(('n', 0.11664295874822224), ('y', 0.8833570412517778))\n",
            "(('n', 0.11664295874822232), ('y', 0.8833570412517777))\n"
          ]
        }
      ],
      "source": [
        "# Umbrellas on Day 1 and 2:\n",
        "scenario = [[None, None, 'y', None, 'y', None]]\n",
        "# Run the model\n",
        "results =  model.predict_proba(scenario)\n",
        "# Ask for the probability of rain on Day 1:\n",
        "print(results[0][1].items())\n",
        "# And the probability of rain on Day 2:\n",
        "print(results[0][3].items())"
      ]
    },
    {
      "cell_type": "markdown",
      "metadata": {
        "id": "owLWeFdGIPfa"
      },
      "source": []
    },
    {
      "cell_type": "markdown",
      "metadata": {
        "id": "zaS1Z5PP41H6"
      },
      "source": [
        "Note that we didn't tell pomegranate to do smoothing. As we saw before with Day 0, it (in effect) always runs the backwards propagation and gives us smoothed probabilities for all days before the latest piece of evidence.\n",
        "\n",
        "I said \"in effect\" because pomegranate doesn't do the computation the way we studied. It just computes the probability of every hidden variable given the evidence."
      ]
    }
  ],
  "metadata": {
    "colab": {
      "provenance": []
    },
    "kernelspec": {
      "display_name": "Python 3",
      "language": "python",
      "name": "python3"
    },
    "language_info": {
      "codemirror_mode": {
        "name": "ipython",
        "version": 3
      },
      "file_extension": ".py",
      "mimetype": "text/x-python",
      "name": "python",
      "nbconvert_exporter": "python",
      "pygments_lexer": "ipython3",
      "version": "3.10.6"
    }
  },
  "nbformat": 4,
  "nbformat_minor": 0
}
