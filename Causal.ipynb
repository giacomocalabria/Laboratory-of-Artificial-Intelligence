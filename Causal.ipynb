{
 "cells": [
  {
   "cell_type": "code",
   "execution_count": 4,
   "metadata": {},
   "outputs": [
    {
     "name": "stdout",
     "output_type": "stream",
     "text": [
      "Defaulting to user installation because normal site-packages is not writeable\n",
      "Requirement already satisfied: causalgraphicalmodels in /home/giova/.local/lib/python3.10/site-packages (0.0.4)\n",
      "Requirement already satisfied: graphviz in /home/giova/.local/lib/python3.10/site-packages (from causalgraphicalmodels) (0.20.1)\n",
      "Requirement already satisfied: networkx in /home/giova/.local/lib/python3.10/site-packages (from causalgraphicalmodels) (3.1)\n",
      "Requirement already satisfied: numpy in /home/giova/.local/lib/python3.10/site-packages (from causalgraphicalmodels) (1.24.3)\n",
      "Requirement already satisfied: pandas in /home/giova/.local/lib/python3.10/site-packages (from causalgraphicalmodels) (2.0.1)\n",
      "Requirement already satisfied: pytz>=2020.1 in /home/giova/.local/lib/python3.10/site-packages (from pandas->causalgraphicalmodels) (2023.3)\n",
      "Requirement already satisfied: tzdata>=2022.1 in /home/giova/.local/lib/python3.10/site-packages (from pandas->causalgraphicalmodels) (2023.3)\n",
      "Requirement already satisfied: python-dateutil>=2.8.2 in /home/giova/.local/lib/python3.10/site-packages (from pandas->causalgraphicalmodels) (2.8.2)\n",
      "Requirement already satisfied: six>=1.5 in /usr/lib/python3/dist-packages (from python-dateutil>=2.8.2->pandas->causalgraphicalmodels) (1.16.0)\n"
     ]
    },
    {
     "ename": "ImportError",
     "evalue": "cannot import name 'Iterable' from 'collections' (/usr/lib/python3.10/collections/__init__.py)",
     "output_type": "error",
     "traceback": [
      "\u001b[0;31m---------------------------------------------------------------------------\u001b[0m",
      "\u001b[0;31mImportError\u001b[0m                               Traceback (most recent call last)",
      "Cell \u001b[0;32mIn[4], line 2\u001b[0m\n\u001b[1;32m      1\u001b[0m get_ipython()\u001b[39m.\u001b[39msystem(\u001b[39m'\u001b[39m\u001b[39mpip install causalgraphicalmodels\u001b[39m\u001b[39m'\u001b[39m)\n\u001b[0;32m----> 2\u001b[0m \u001b[39mfrom\u001b[39;00m \u001b[39mcausalgraphicalmodels\u001b[39;00m \u001b[39mimport\u001b[39;00m CausalGraphicalModel\n\u001b[1;32m      4\u001b[0m \u001b[39m# Define the graph\u001b[39;00m\n\u001b[1;32m      5\u001b[0m causal_model \u001b[39m=\u001b[39m CausalGraphicalModel(\n\u001b[1;32m      6\u001b[0m     nodes\u001b[39m=\u001b[39m[\u001b[39m\"\u001b[39m\u001b[39mX\u001b[39m\u001b[39m\"\u001b[39m, \u001b[39m\"\u001b[39m\u001b[39mY\u001b[39m\u001b[39m\"\u001b[39m, \u001b[39m\"\u001b[39m\u001b[39mZ\u001b[39m\u001b[39m\"\u001b[39m, \u001b[39m\"\u001b[39m\u001b[39mA\u001b[39m\u001b[39m\"\u001b[39m, \u001b[39m\"\u001b[39m\u001b[39mB\u001b[39m\u001b[39m\"\u001b[39m, \u001b[39m\"\u001b[39m\u001b[39mC\u001b[39m\u001b[39m\"\u001b[39m, \u001b[39m\"\u001b[39m\u001b[39mD\u001b[39m\u001b[39m\"\u001b[39m],\n\u001b[1;32m      7\u001b[0m     edges\u001b[39m=\u001b[39m[\n\u001b[0;32m   (...)\u001b[0m\n\u001b[1;32m     18\u001b[0m     ]\n\u001b[1;32m     19\u001b[0m )\n",
      "File \u001b[0;32m~/.local/lib/python3.10/site-packages/causalgraphicalmodels/__init__.py:1\u001b[0m\n\u001b[0;32m----> 1\u001b[0m \u001b[39mfrom\u001b[39;00m \u001b[39mcausalgraphicalmodels\u001b[39;00m\u001b[39m.\u001b[39;00m\u001b[39mcgm\u001b[39;00m \u001b[39mimport\u001b[39;00m CausalGraphicalModel\n\u001b[1;32m      2\u001b[0m \u001b[39mfrom\u001b[39;00m \u001b[39mcausalgraphicalmodels\u001b[39;00m\u001b[39m.\u001b[39;00m\u001b[39mcsm\u001b[39;00m \u001b[39mimport\u001b[39;00m StructuralCausalModel\n\u001b[1;32m      3\u001b[0m \u001b[39mimport\u001b[39;00m \u001b[39mcausalgraphicalmodels\u001b[39;00m\u001b[39m.\u001b[39;00m\u001b[39mexamples\u001b[39;00m \u001b[39mas\u001b[39;00m \u001b[39mexamples\u001b[39;00m\n",
      "File \u001b[0;32m~/.local/lib/python3.10/site-packages/causalgraphicalmodels/cgm.py:4\u001b[0m\n\u001b[1;32m      2\u001b[0m \u001b[39mimport\u001b[39;00m \u001b[39mgraphviz\u001b[39;00m\n\u001b[1;32m      3\u001b[0m \u001b[39mfrom\u001b[39;00m \u001b[39mitertools\u001b[39;00m \u001b[39mimport\u001b[39;00m combinations, chain\n\u001b[0;32m----> 4\u001b[0m \u001b[39mfrom\u001b[39;00m \u001b[39mcollections\u001b[39;00m \u001b[39mimport\u001b[39;00m Iterable\n\u001b[1;32m      7\u001b[0m \u001b[39mclass\u001b[39;00m \u001b[39mCausalGraphicalModel\u001b[39;00m:\n\u001b[1;32m      8\u001b[0m \u001b[39m    \u001b[39m\u001b[39m\"\"\"\u001b[39;00m\n\u001b[1;32m      9\u001b[0m \u001b[39m    Causal Graphical Models\u001b[39;00m\n\u001b[1;32m     10\u001b[0m \u001b[39m    \"\"\"\u001b[39;00m\n",
      "\u001b[0;31mImportError\u001b[0m: cannot import name 'Iterable' from 'collections' (/usr/lib/python3.10/collections/__init__.py)"
     ]
    }
   ],
   "source": [
    "!pip install causalgraphicalmodels\n",
    "from causalgraphicalmodels import CausalGraphicalModel\n",
    "\n",
    "# Define the graph\n",
    "causal_model = CausalGraphicalModel(\n",
    "    nodes=[\"X\", \"Y\", \"Z\", \"A\", \"B\", \"C\", \"D\"],\n",
    "    edges=[\n",
    "        (\"X\", \"Z\"),\n",
    "        (\"X\", \"A\"),\n",
    "        (\"X\", \"D\"),\n",
    "        (\"Z\", \"Y\"),\n",
    "        (\"D\", \"A\"),\n",
    "        (\"Y\", \"D\"),\n",
    "        (\"C\", \"Y\"),\n",
    "        (\"C\", \"B\"),\n",
    "        (\"B\", \"Y\"),\n",
    "        (\"B\", \"X\"),\n",
    "    ]\n",
    ")\n",
    "\n",
    "# Draw the graph\n",
    "causal_model.draw()"
   ]
  }
 ],
 "metadata": {
  "kernelspec": {
   "display_name": "Python 3",
   "language": "python",
   "name": "python3"
  },
  "language_info": {
   "codemirror_mode": {
    "name": "ipython",
    "version": 3
   },
   "file_extension": ".py",
   "mimetype": "text/x-python",
   "name": "python",
   "nbconvert_exporter": "python",
   "pygments_lexer": "ipython3",
   "version": "3.10.6"
  },
  "orig_nbformat": 4
 },
 "nbformat": 4,
 "nbformat_minor": 2
}
