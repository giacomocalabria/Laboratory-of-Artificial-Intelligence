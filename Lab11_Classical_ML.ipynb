{
  "cells": [
    {
      "cell_type": "markdown",
      "metadata": {
        "id": "TJJmxHmrJwKT"
      },
      "source": [
        "**Laboratory Lecture 11**"
      ]
    },
    {
      "cell_type": "markdown",
      "metadata": {
        "id": "lR8JdmN66M_2"
      },
      "source": [
        "This lecture will be focused on machine learning algorithms.\n",
        "With this purpose, we will use one of the most common libraries, which is [scikit-learn](https://scikit-learn.org/stable/). It can be installed in your Python environment as follows.\n",
        "\n",
        "pip install scikit-learn\n"
      ]
    },
    {
      "cell_type": "code",
      "execution_count": 1,
      "metadata": {
        "colab": {
          "base_uri": "https://localhost:8080/"
        },
        "id": "aJ6sh_6d_2Av",
        "outputId": "a2751703-20ac-4dc2-88c2-65c55a81ccb9"
      },
      "outputs": [
        {
          "name": "stdout",
          "output_type": "stream",
          "text": [
            "Defaulting to user installation because normal site-packages is not writeable\n",
            "Requirement already satisfied: scikit-learn in /home/giova/.local/lib/python3.10/site-packages (1.3.0)\n",
            "Requirement already satisfied: numpy>=1.17.3 in /home/giova/.local/lib/python3.10/site-packages (from scikit-learn) (1.24.3)\n",
            "Requirement already satisfied: scipy>=1.5.0 in /home/giova/.local/lib/python3.10/site-packages (from scikit-learn) (1.11.1)\n",
            "Requirement already satisfied: threadpoolctl>=2.0.0 in /home/giova/.local/lib/python3.10/site-packages (from scikit-learn) (3.1.0)\n",
            "Requirement already satisfied: joblib>=1.1.1 in /home/giova/.local/lib/python3.10/site-packages (from scikit-learn) (1.3.1)\n"
          ]
        }
      ],
      "source": [
        "!pip install scikit-learn"
      ]
    },
    {
      "cell_type": "markdown",
      "metadata": {
        "id": "Vqsrt1qCDq7g"
      },
      "source": [
        "scikit-learn provides a few standard datasets, that do not require to download any file from some external website. \n",
        "\n",
        "The complete list is available at this [link](https://scikit-learn.org/stable/datasets/toy_dataset.html).\n",
        "\n",
        "In this lecture, for instance, we will use the [digits dataset](https://scikit-learn.org/stable/modules/generated/sklearn.datasets.load_digits.html) for classification. The digits dataset consists of 8x8 pixel images of digits. The images attribute of the dataset stores 8x8 arrays of grayscale values for each image. \n",
        "\n",
        "Let's load the dataset now and apply some functions in order to better understand the kind of data."
      ]
    },
    {
      "cell_type": "code",
      "execution_count": 2,
      "metadata": {
        "colab": {
          "base_uri": "https://localhost:8080/"
        },
        "id": "tlfhRPdYJZWU",
        "outputId": "20455663-92c1-4bff-c9fd-9dd0985f6413"
      },
      "outputs": [
        {
          "name": "stdout",
          "output_type": "stream",
          "text": [
            "[[ 0.  0.  5. ...  0.  0.  0.]\n",
            " [ 0.  0.  0. ... 10.  0.  0.]\n",
            " [ 0.  0.  0. ... 16.  9.  0.]\n",
            " ...\n",
            " [ 0.  0.  1. ...  6.  0.  0.]\n",
            " [ 0.  0.  2. ... 12.  0.  0.]\n",
            " [ 0.  0. 10. ... 12.  1.  0.]]\n"
          ]
        }
      ],
      "source": [
        "from sklearn import datasets\n",
        "import matplotlib.pyplot as plt\n",
        "import numpy as np\n",
        "digits_data = datasets.load_digits()\n",
        "print(digits_data.data)"
      ]
    },
    {
      "cell_type": "markdown",
      "metadata": {
        "id": "gfslcDcT5PXG"
      },
      "source": [
        "You can check the dimensionality: 1797 as samples total and 64 as dimensionality (8x8 images of digits)"
      ]
    },
    {
      "cell_type": "code",
      "execution_count": 3,
      "metadata": {
        "colab": {
          "base_uri": "https://localhost:8080/"
        },
        "id": "3Uij87dH3GRN",
        "outputId": "5f15d435-065e-4039-bdba-0664711ebcb5"
      },
      "outputs": [
        {
          "name": "stdout",
          "output_type": "stream",
          "text": [
            "(1797, 64)\n"
          ]
        }
      ],
      "source": [
        "print(digits_data.data.shape)"
      ]
    },
    {
      "cell_type": "markdown",
      "metadata": {
        "id": "U6e0XjK07qRw"
      },
      "source": [
        "We can check the number of classes. In this cases, the numbers between 0 and 9."
      ]
    },
    {
      "cell_type": "code",
      "execution_count": 4,
      "metadata": {
        "colab": {
          "base_uri": "https://localhost:8080/"
        },
        "id": "XFjA9FUJ5l2f",
        "outputId": "c7251a97-14e2-4013-f903-01af6e5908b7"
      },
      "outputs": [
        {
          "name": "stdout",
          "output_type": "stream",
          "text": [
            "[0 1 2 3 4 5 6 7 8 9]\n",
            "(1797,)\n"
          ]
        }
      ],
      "source": [
        "print(np.unique(digits_data.target))  # quanti tipi di target ci sono, quali sono i diversi valori che può assumere il target\n",
        "print(digits_data.target.shape) # quanti elementi ci sono per ogni target"
      ]
    },
    {
      "cell_type": "markdown",
      "metadata": {
        "id": "YKKcp65cNQm0"
      },
      "source": [
        "Since the digits dataset contains images, we can also graphically display the samples. "
      ]
    },
    {
      "cell_type": "code",
      "execution_count": 7,
      "metadata": {
        "colab": {
          "base_uri": "https://localhost:8080/",
          "height": 454
        },
        "id": "P_eyBGnZ3irc",
        "outputId": "1a439532-9785-4cac-8079-03568bd78b0a"
      },
      "outputs": [
        {
          "data": {
            "text/plain": [
              "<Figure size 640x480 with 0 Axes>"
            ]
          },
          "metadata": {},
          "output_type": "display_data"
        },
        {
          "data": {
            "image/png": "[encoded data removed]",
            "text/plain": [
              "<Figure size 480x480 with 1 Axes>"
            ]
          },
          "metadata": {},
          "output_type": "display_data"
        }
      ],
      "source": [
        "plt.gray()\n",
        "plt.matshow(digits_data.images[159])\n",
        "plt.show()"
      ]
    },
    {
      "cell_type": "markdown",
      "metadata": {
        "id": "NUvBbAXmOy3x"
      },
      "source": [
        "What number is it? Let's discover the label. We can check the corresponding label by verify the target. \n",
        "Check the documentation: \n",
        "https://scikit-learn.org/stable/modules/generated/sklearn.datasets.load_digits.html"
      ]
    },
    {
      "cell_type": "code",
      "execution_count": 23,
      "metadata": {
        "colab": {
          "base_uri": "https://localhost:8080/"
        },
        "id": "BsgFbDzbLr0a",
        "outputId": "faa0e034-1a04-4b66-9dc0-14c49c9268c8"
      },
      "outputs": [
        {
          "name": "stdout",
          "output_type": "stream",
          "text": [
            "9\n"
          ]
        }
      ],
      "source": [
        "print(digits_data.target[159])"
      ]
    },
    {
      "cell_type": "markdown",
      "metadata": {
        "id": "3cNntFVeQJ3v"
      },
      "source": [
        "We can also visualize other samples to get confidence with the datasets:"
      ]
    },
    {
      "cell_type": "code",
      "execution_count": 10,
      "metadata": {
        "colab": {
          "base_uri": "https://localhost:8080/",
          "height": 154
        },
        "id": "1kMx-kCW-qmB",
        "outputId": "629bf57b-4ec4-443e-a830-928cb42664a9"
      },
      "outputs": [
        {
          "data": {
            "image/png": "[encoded data removed]",
            "text/plain": [
              "<Figure size 2000x300 with 10 Axes>"
            ]
          },
          "metadata": {},
          "output_type": "display_data"
        }
      ],
      "source": [
        "_, axes = plt.subplots(nrows=1, ncols=10, figsize=(20, 3))\n",
        "for ax, image, label in zip(axes, digits_data.images, digits_data.target):\n",
        "    ax.set_axis_off()\n",
        "    ax.imshow(image, cmap=plt.cm.gray_r, interpolation=\"nearest\")\n",
        "    ax.set_title(\"%i\" % label)"
      ]
    },
    {
      "cell_type": "markdown",
      "metadata": {
        "id": "zgc8ILFzYoYW"
      },
      "source": [
        "In this lecture, for instance, we explore the [Support Vector Machines](https://scikit-learn.org/stable/modules/svm.html) (SVM) in scikit-learn. \n",
        "\n",
        "SVC, NuSVC and LinearSVC are classes capable of performing binary and multi-class classification on a dataset. \n",
        "\n",
        "For example, we create a SVM classifier based on SVC with gamma=0.001, while the other parameters have the default value."
      ]
    },
    {
      "cell_type": "code",
      "execution_count": 39,
      "metadata": {
        "id": "GBya7EfKpRxt"
      },
      "outputs": [],
      "source": [
        "from sklearn import svm\n",
        "# Create a classifier: a support vector classifier\n",
        "clf = svm.SVC(gamma=0.001)"
      ]
    },
    {
      "cell_type": "markdown",
      "metadata": {
        "id": "twwzNOuFpbHZ"
      },
      "source": [
        "We are going to train a SVM on the digits dataset.\n",
        "\n",
        "Before passing the data, we need to:\n",
        "* flatten the images, turning each 2-D array of grayscale values from shape (8, 8) into shape (64,)\n",
        "* Split the dataset in training and test parts."
      ]
    },
    {
      "cell_type": "code",
      "execution_count": 40,
      "metadata": {
        "id": "HaEZBFEnAZva"
      },
      "outputs": [],
      "source": [
        "# flatten the images\n",
        "n_samples = len(digits_data.images)\n",
        "data = digits_data.images.reshape((n_samples, -1))"
      ]
    },
    {
      "cell_type": "markdown",
      "metadata": {
        "id": "pjbAl74HsaFZ"
      },
      "source": [
        "To split the datasets in the training and the test parts, we can use the function [train_test_split](https://scikit-learn.org/stable/modules/generated/sklearn.model_selection.train_test_split.html).\n",
        "For instance, the training set corresponds to the 75% of the whole dataset, while the test set to 25%."
      ]
    },
    {
      "cell_type": "code",
      "execution_count": 53,
      "metadata": {
        "id": "CRKg0wTo2dzu"
      },
      "outputs": [],
      "source": [
        "from sklearn.model_selection import train_test_split\n",
        "\n",
        "# Split data into 75% train and 25% test subsets\n",
        "X_train, X_test, y_train, y_test = train_test_split(\n",
        "    data, digits_data.target, test_size=0.25, shuffle=False\n",
        ")\n"
      ]
    },
    {
      "cell_type": "markdown",
      "metadata": {
        "id": "OGPfahuswr50"
      },
      "source": [
        "Let's fit the SVM that we defined before on the trainining set. To do that, we can use [fit](https://scikit-learn.org/stable/modules/generated/sklearn.svm.SVC.html#sklearn.svm.SVC.fit):"
      ]
    },
    {
      "cell_type": "code",
      "execution_count": 54,
      "metadata": {
        "colab": {
          "base_uri": "https://localhost:8080/",
          "height": 75
        },
        "id": "xfQeeR9AA5qJ",
        "outputId": "86457d32-354e-40bc-98ff-1f500858af1e"
      },
      "outputs": [
        {
          "data": {
            "text/html": [
              "<style>#sk-container-id-8 {color: black;}#sk-container-id-8 pre{padding: 0;}#sk-container-id-8 div.sk-toggleable {background-color: white;}#sk-container-id-8 label.sk-toggleable__label {cursor: pointer;display: block;width: 100%;margin-bottom: 0;padding: 0.3em;box-sizing: border-box;text-align: center;}#sk-container-id-8 label.sk-toggleable__label-arrow:before {content: \"▸\";float: left;margin-right: 0.25em;color: #696969;}#sk-container-id-8 label.sk-toggleable__label-arrow:hover:before {color: black;}#sk-container-id-8 div.sk-estimator:hover label.sk-toggleable__label-arrow:before {color: black;}#sk-container-id-8 div.sk-toggleable__content {max-height: 0;max-width: 0;overflow: hidden;text-align: left;background-color: #f0f8ff;}#sk-container-id-8 div.sk-toggleable__content pre {margin: 0.2em;color: black;border-radius: 0.25em;background-color: #f0f8ff;}#sk-container-id-8 input.sk-toggleable__control:checked~div.sk-toggleable__content {max-height: 200px;max-width: 100%;overflow: auto;}#sk-container-id-8 input.sk-toggleable__control:checked~label.sk-toggleable__label-arrow:before {content: \"▾\";}#sk-container-id-8 div.sk-estimator input.sk-toggleable__control:checked~label.sk-toggleable__label {background-color: #d4ebff;}#sk-container-id-8 div.sk-label input.sk-toggleable__control:checked~label.sk-toggleable__label {background-color: #d4ebff;}#sk-container-id-8 input.sk-hidden--visually {border: 0;clip: rect(1px 1px 1px 1px);clip: rect(1px, 1px, 1px, 1px);height: 1px;margin: -1px;overflow: hidden;padding: 0;position: absolute;width: 1px;}#sk-container-id-8 div.sk-estimator {font-family: monospace;background-color: #f0f8ff;border: 1px dotted black;border-radius: 0.25em;box-sizing: border-box;margin-bottom: 0.5em;}#sk-container-id-8 div.sk-estimator:hover {background-color: #d4ebff;}#sk-container-id-8 div.sk-parallel-item::after {content: \"\";width: 100%;border-bottom: 1px solid gray;flex-grow: 1;}#sk-container-id-8 div.sk-label:hover label.sk-toggleable__label {background-color: #d4ebff;}#sk-container-id-8 div.sk-serial::before {content: \"\";position: absolute;border-left: 1px solid gray;box-sizing: border-box;top: 0;bottom: 0;left: 50%;z-index: 0;}#sk-container-id-8 div.sk-serial {display: flex;flex-direction: column;align-items: center;background-color: white;padding-right: 0.2em;padding-left: 0.2em;position: relative;}#sk-container-id-8 div.sk-item {position: relative;z-index: 1;}#sk-container-id-8 div.sk-parallel {display: flex;align-items: stretch;justify-content: center;background-color: white;position: relative;}#sk-container-id-8 div.sk-item::before, #sk-container-id-8 div.sk-parallel-item::before {content: \"\";position: absolute;border-left: 1px solid gray;box-sizing: border-box;top: 0;bottom: 0;left: 50%;z-index: -1;}#sk-container-id-8 div.sk-parallel-item {display: flex;flex-direction: column;z-index: 1;position: relative;background-color: white;}#sk-container-id-8 div.sk-parallel-item:first-child::after {align-self: flex-end;width: 50%;}#sk-container-id-8 div.sk-parallel-item:last-child::after {align-self: flex-start;width: 50%;}#sk-container-id-8 div.sk-parallel-item:only-child::after {width: 0;}#sk-container-id-8 div.sk-dashed-wrapped {border: 1px dashed gray;margin: 0 0.4em 0.5em 0.4em;box-sizing: border-box;padding-bottom: 0.4em;background-color: white;}#sk-container-id-8 div.sk-label label {font-family: monospace;font-weight: bold;display: inline-block;line-height: 1.2em;}#sk-container-id-8 div.sk-label-container {text-align: center;}#sk-container-id-8 div.sk-container {/* jupyter's `normalize.less` sets `[hidden] { display: none; }` but bootstrap.min.css set `[hidden] { display: none !important; }` so we also need the `!important` here to be able to override the default hidden behavior on the sphinx rendered scikit-learn.org. See: https://github.com/scikit-learn/scikit-learn/issues/21755 */display: inline-block !important;position: relative;}#sk-container-id-8 div.sk-text-repr-fallback {display: none;}</style><div id=\"sk-container-id-8\" class=\"sk-top-container\"><div class=\"sk-text-repr-fallback\"><pre>SVC(gamma=0.001)</pre><b>In a Jupyter environment, please rerun this cell to show the HTML representation or trust the notebook. <br />On GitHub, the HTML representation is unable to render, please try loading this page with nbviewer.org.</b></div><div class=\"sk-container\" hidden><div class=\"sk-item\"><div class=\"sk-estimator sk-toggleable\"><input class=\"sk-toggleable__control sk-hidden--visually\" id=\"sk-estimator-id-8\" type=\"checkbox\" checked><label for=\"sk-estimator-id-8\" class=\"sk-toggleable__label sk-toggleable__label-arrow\">SVC</label><div class=\"sk-toggleable__content\"><pre>SVC(gamma=0.001)</pre></div></div></div></div></div>"
            ],
            "text/plain": [
              "SVC(gamma=0.001)"
            ]
          },
          "execution_count": 54,
          "metadata": {},
          "output_type": "execute_result"
        }
      ],
      "source": [
        "# Learn the digits on the train subset\n",
        "clf.fit(X_train, y_train)"
      ]
    },
    {
      "cell_type": "markdown",
      "metadata": {
        "id": "VyRu6bRxzlXa"
      },
      "source": [
        "The fitted classifier can subsequently be used to predict the value of the digit for the samples in the test subset. To do that, we can use [predict](https://scikit-learn.org/stable/modules/generated/sklearn.svm.SVC.html#sklearn.svm.SVC.predict):"
      ]
    },
    {
      "cell_type": "code",
      "execution_count": 55,
      "metadata": {
        "id": "RUHUYFB-BCx1"
      },
      "outputs": [],
      "source": [
        "# Predict the value of the digit on the test subset\n",
        "predicted = clf.predict(X_test)"
      ]
    },
    {
      "cell_type": "markdown",
      "metadata": {
        "id": "VZyYVwzN3XKJ"
      },
      "source": [
        "For instance, we can visualize one of the sample in the test set and see the predicted class."
      ]
    },
    {
      "cell_type": "code",
      "execution_count": 56,
      "metadata": {
        "colab": {
          "base_uri": "https://localhost:8080/",
          "height": 472
        },
        "id": "sxOLhR4s9FqQ",
        "outputId": "ef615d8f-ae99-4bb2-fbb6-defa6c2dc789"
      },
      "outputs": [
        {
          "data": {
            "text/plain": [
              "<Figure size 640x480 with 0 Axes>"
            ]
          },
          "metadata": {},
          "output_type": "display_data"
        },
        {
          "data": {
            "image/png": "[encoded data removed]",
            "text/plain": [
              "<Figure size 480x480 with 1 Axes>"
            ]
          },
          "metadata": {},
          "output_type": "display_data"
        },
        {
          "name": "stdout",
          "output_type": "stream",
          "text": [
            "2\n"
          ]
        }
      ],
      "source": [
        "# Select an id\n",
        "id = 200\n",
        "\n",
        "# Show the image\n",
        "plt.gray()\n",
        "plt.matshow(X_test[id].reshape(8,8))\n",
        "plt.show()\n",
        "\n",
        "# Print the prediction\n",
        "print(predicted[id])"
      ]
    },
    {
      "cell_type": "markdown",
      "metadata": {
        "id": "opWGtwxUCGhG"
      },
      "source": [
        "As you can see, it is a challenging task: after all, the images are of poor resolution. Do you agree with the classifier?\n",
        "\n",
        "We can display other samples similarly how we did before:"
      ]
    },
    {
      "cell_type": "code",
      "execution_count": 57,
      "metadata": {
        "colab": {
          "base_uri": "https://localhost:8080/",
          "height": 154
        },
        "id": "TmJns-0FDIA1",
        "outputId": "6a11a014-33d2-4a7f-b775-0766d37041b0"
      },
      "outputs": [
        {
          "data": {
            "image/png": "[encoded data removed]",
            "text/plain": [
              "<Figure size 2000x300 with 10 Axes>"
            ]
          },
          "metadata": {},
          "output_type": "display_data"
        }
      ],
      "source": [
        "_, axes = plt.subplots(nrows=1, ncols=10, figsize=(20, 3))\n",
        "for ax, image, prediction in zip(axes, X_test, predicted):\n",
        "    ax.set_axis_off()\n",
        "    image = image.reshape(8, 8)\n",
        "    ax.imshow(image, cmap=plt.cm.gray_r, interpolation=\"nearest\")\n",
        "    ax.set_title(f\"Prediction: {prediction}\")"
      ]
    },
    {
      "cell_type": "markdown",
      "metadata": {
        "id": "cyWQpBQRDgns"
      },
      "source": [
        "Typically, it is interesting to quantitively measure the performance of the model. In the case of classification, we can use [classification_report](https://scikit-learn.org/stable/modules/generated/sklearn.metrics.classification_report.html) that builds a text report showing the main classification metrics."
      ]
    },
    {
      "cell_type": "code",
      "execution_count": 24,
      "metadata": {
        "colab": {
          "base_uri": "https://localhost:8080/"
        },
        "id": "4LJskr34Dh5S",
        "outputId": "d73776b9-91f8-43cb-8bb6-ce8896e68c1b"
      },
      "outputs": [
        {
          "name": "stdout",
          "output_type": "stream",
          "text": [
            "Classification report for classifier SVC(gamma=0.001):\n",
            "              precision    recall  f1-score   support\n",
            "\n",
            "           0       1.00      0.98      0.99        43\n",
            "           1       0.98      1.00      0.99        46\n",
            "           2       1.00      1.00      1.00        43\n",
            "           3       0.98      0.85      0.91        47\n",
            "           4       0.98      0.94      0.96        48\n",
            "           5       0.94      0.98      0.96        45\n",
            "           6       0.98      1.00      0.99        47\n",
            "           7       0.98      1.00      0.99        45\n",
            "           8       0.89      0.98      0.93        41\n",
            "           9       0.96      0.96      0.96        45\n",
            "\n",
            "    accuracy                           0.97       450\n",
            "   macro avg       0.97      0.97      0.97       450\n",
            "weighted avg       0.97      0.97      0.97       450\n",
            "\n",
            "\n"
          ]
        }
      ],
      "source": [
        "from sklearn import metrics\n",
        "print(\n",
        "    f\"Classification report for classifier {clf}:\\n\"\n",
        "    f\"{metrics.classification_report(y_test, predicted)}\\n\"\n",
        ")"
      ]
    },
    {
      "cell_type": "markdown",
      "metadata": {
        "id": "3WUP794xD3Tk"
      },
      "source": [
        "We can also plot a confusion matrix of the true digit values and the predicted digit values"
      ]
    },
    {
      "cell_type": "code",
      "execution_count": 26,
      "metadata": {
        "colab": {
          "base_uri": "https://localhost:8080/",
          "height": 688
        },
        "id": "8rCBO4wKD3_A",
        "outputId": "21dd4620-202d-4c30-cdf5-fb9a84b75f1a"
      },
      "outputs": [
        {
          "name": "stdout",
          "output_type": "stream",
          "text": [
            "Confusion matrix:\n",
            "[[42  0  0  0  1  0  0  0  0  0]\n",
            " [ 0 46  0  0  0  0  0  0  0  0]\n",
            " [ 0  0 43  0  0  0  0  0  0  0]\n",
            " [ 0  0  0 40  0  2  0  1  4  0]\n",
            " [ 0  0  0  0 45  0  0  0  1  2]\n",
            " [ 0  0  0  0  0 44  1  0  0  0]\n",
            " [ 0  0  0  0  0  0 47  0  0  0]\n",
            " [ 0  0  0  0  0  0  0 45  0  0]\n",
            " [ 0  1  0  0  0  0  0  0 40  0]\n",
            " [ 0  0  0  1  0  1  0  0  0 43]]\n"
          ]
        },
        {
          "data": {
            "image/png": "[encoded data removed]",
            "text/plain": [
              "<Figure size 640x480 with 2 Axes>"
            ]
          },
          "metadata": {},
          "output_type": "display_data"
        }
      ],
      "source": [
        "disp = metrics.ConfusionMatrixDisplay.from_predictions(y_test, predicted)\n",
        "disp.figure_.suptitle(\"Confusion Matrix\")\n",
        "print(f\"Confusion matrix:\\n{disp.confusion_matrix}\")\n",
        "\n",
        "plt.show()"
      ]
    },
    {
      "cell_type": "markdown",
      "metadata": {
        "id": "NyRRUDHpN-Jg"
      },
      "source": [
        "In the previous example, we fixed a priori the hyperparameters of the model such as γ and C.\n",
        "\n",
        "However, typically the hyperparameters are set via [cross-validation](https://scikit-learn.org/stable/modules/cross_validation.html)\n",
        "\n",
        "The simplest way to use cross-validation is to call the [cross_val_score](https://scikit-learn.org/stable/modules/generated/sklearn.model_selection.cross_val_score.html#sklearn.model_selection.cross_val_score) function on the estimator and the dataset:"
      ]
    },
    {
      "cell_type": "code",
      "execution_count": 17,
      "metadata": {
        "colab": {
          "base_uri": "https://localhost:8080/"
        },
        "id": "pf3lHmFYN_4u",
        "outputId": "b492c078-0bc4-4f0f-d2fe-2fa959b46ad1"
      },
      "outputs": [
        {
          "data": {
            "text/plain": [
              "array([0.96388889, 0.91944444, 0.96657382, 0.9637883 , 0.92479109])"
            ]
          },
          "execution_count": 17,
          "metadata": {},
          "output_type": "execute_result"
        }
      ],
      "source": [
        "#5-fold cross validation\n",
        "from sklearn.model_selection import cross_val_score\n",
        "clf = svm.SVC(kernel='linear', C=1)\n",
        "scores = cross_val_score(clf, data, digits_data.target, cv=5) # the entire (flatten) dataset\n",
        "scores"
      ]
    },
    {
      "cell_type": "markdown",
      "metadata": {
        "id": "GPbLSM_lO66O"
      },
      "source": [
        "The mean score and the standard deviation are hence given by:"
      ]
    },
    {
      "cell_type": "code",
      "execution_count": 18,
      "metadata": {
        "colab": {
          "base_uri": "https://localhost:8080/"
        },
        "id": "8rOdhbdfOu-E",
        "outputId": "7b9acad4-9004-4cf6-f1fb-af4b37a8df96"
      },
      "outputs": [
        {
          "name": "stdout",
          "output_type": "stream",
          "text": [
            "0.95 accuracy with a standard deviation of 0.02\n"
          ]
        }
      ],
      "source": [
        "print(\"%0.2f accuracy with a standard deviation of %0.2f\" % (scores.mean(), scores.std()))"
      ]
    }
  ],
  "metadata": {
    "colab": {
      "provenance": []
    },
    "kernelspec": {
      "display_name": "Python 3",
      "name": "python3"
    },
    "language_info": {
      "codemirror_mode": {
        "name": "ipython",
        "version": 3
      },
      "file_extension": ".py",
      "mimetype": "text/x-python",
      "name": "python",
      "nbconvert_exporter": "python",
      "pygments_lexer": "ipython3",
      "version": "3.10.6"
    }
  },
  "nbformat": 4,
  "nbformat_minor": 0
}
