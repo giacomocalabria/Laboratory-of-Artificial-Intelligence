{
  "nbformat": 4,
  "nbformat_minor": 0,
  "metadata": {
    "colab": {
      "provenance": []
    },
    "kernelspec": {
      "name": "python3",
      "display_name": "Python 3"
    },
    "language_info": {
      "name": "python"
    }
  },
  "cells": [
    {
      "cell_type": "markdown",
      "source": [
        "## EXERCISE 1\n",
        "\n",
        "<img src='https://drive.google.com/uc?id=1C2vyT2X19C_IekWf3rELuF4SumvJxo2b'>\n",
        "\n",
        "1) Write a Python script that computes P(g|do(r)) seen during the lecture\n",
        "\n",
        "2) What is the causal effect of the cloudy weather $c$ on the grass' wetness $g$? (i.e. math expression of $P(g | do(c))$\n",
        "\n",
        "3) Between rain and sprinkler, which one has the stronger causal effect on the wetness, $P(g | do(r))$ or $P(g | do(s))$ ?\n",
        "\n",
        "4) Compute the average causal effect (ACE) of the sprinkler on the wetness $g$."
      ],
      "metadata": {
        "id": "hA4mtAwrMtXO"
      }
    }
  ]
}