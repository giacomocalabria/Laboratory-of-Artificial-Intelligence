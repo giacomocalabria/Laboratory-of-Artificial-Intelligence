{
  "nbformat": 4,
  "nbformat_minor": 0,
  "metadata": {
    "colab": {
      "provenance": []
    },
    "kernelspec": {
      "name": "python3",
      "display_name": "Python 3"
    },
    "language_info": {
      "name": "python"
    }
  },
  "cells": [
    {
      "cell_type": "markdown",
      "source": [
        "## EXERCISE 1: Search of the best C\n",
        "\n",
        "Create a SVM with linear kernel using the scikit-learn library. \n",
        "\n",
        "Verify the performance with different values of the hyperparameter C using the function [logspace](https://numpy.org/doc/stable/reference/generated/numpy.logspace.html), nel range -20:0:20. \n",
        "\n",
        "> __QUESTION 1(a):__  Check the best configuration of C, using the 3-fold cross-validation on the digits dataset. \n",
        "\n",
        "> __QUESTION 1(b):__ Plot the score achieved in each configuration, by showing the different values for C in the x-axis and CV score in y-axis. Suggestion: Use the log-scale.\n",
        "\n",
        "> __QUESTION 1(c):__ Train and test the model with the best configuration found at the previous step\n"
      ],
      "metadata": {
        "id": "twbLWgpO7YQH"
      }
    },
    {
      "cell_type": "markdown",
      "source": [
        "## EXERCISE 2: SVM on the iris_dataset\n",
        "\n",
        "Load the iris dataset from the dataset available at this [link](https://scikit-learn.org/stable/datasets/toy_dataset.html).\n",
        "\n",
        "> __QUESTION 2(a):__  Verify the proprieties (number of samples, number of classes, etc.) of the dataset as we did during the lecture with the digit dataset. \n",
        "\n",
        "> __QUESTION 2(b):__ Split the dataset in training and test according to the following percentages: 70% - 30%\n",
        "\n",
        "> __QUESTION 2(c):__ Train a SVM with different kernel (linear, rbf, polinomial) by leaving the default values for the hyperparameters\n",
        "\n",
        "> __QUESTION 2(d):__ Test the achieved models on the test set\n",
        "\n",
        "> __QUESTION 2(e):__ Represent the performances achieved for each kernel in the form of confusion matrix\n"
      ],
      "metadata": {
        "id": "clnOQ355uNMt"
      }
    }
  ]
}